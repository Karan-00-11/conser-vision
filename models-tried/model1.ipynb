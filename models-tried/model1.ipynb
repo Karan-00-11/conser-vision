{
 "cells": [
  {
   "cell_type": "code",
   "execution_count": 1,
   "metadata": {},
   "outputs": [],
   "source": [
    "import numpy as np\n",
    "import pandas as pd\n",
    "import cv2"
   ]
  },
  {
   "cell_type": "code",
   "execution_count": 4,
   "metadata": {},
   "outputs": [],
   "source": [
    "# root_path = \"/Users/devasenan/Documents/conser-vision/data/\"\n",
    "root_path = \"C:/Users/devas/Documents/projects/conser-vision/data/\""
   ]
  },
  {
   "cell_type": "code",
   "execution_count": 5,
   "metadata": {},
   "outputs": [
    {
     "data": {
      "text/html": [
       "<div>\n",
       "<style scoped>\n",
       "    .dataframe tbody tr th:only-of-type {\n",
       "        vertical-align: middle;\n",
       "    }\n",
       "\n",
       "    .dataframe tbody tr th {\n",
       "        vertical-align: top;\n",
       "    }\n",
       "\n",
       "    .dataframe thead th {\n",
       "        text-align: right;\n",
       "    }\n",
       "</style>\n",
       "<table border=\"1\" class=\"dataframe\">\n",
       "  <thead>\n",
       "    <tr style=\"text-align: right;\">\n",
       "      <th></th>\n",
       "      <th>id</th>\n",
       "      <th>filepath</th>\n",
       "      <th>site</th>\n",
       "    </tr>\n",
       "  </thead>\n",
       "  <tbody>\n",
       "    <tr>\n",
       "      <th>0</th>\n",
       "      <td>ZJ000000</td>\n",
       "      <td>train_features/ZJ000000.jpg</td>\n",
       "      <td>S0120</td>\n",
       "    </tr>\n",
       "    <tr>\n",
       "      <th>1</th>\n",
       "      <td>ZJ000001</td>\n",
       "      <td>train_features/ZJ000001.jpg</td>\n",
       "      <td>S0069</td>\n",
       "    </tr>\n",
       "    <tr>\n",
       "      <th>2</th>\n",
       "      <td>ZJ000002</td>\n",
       "      <td>train_features/ZJ000002.jpg</td>\n",
       "      <td>S0009</td>\n",
       "    </tr>\n",
       "    <tr>\n",
       "      <th>3</th>\n",
       "      <td>ZJ000003</td>\n",
       "      <td>train_features/ZJ000003.jpg</td>\n",
       "      <td>S0008</td>\n",
       "    </tr>\n",
       "    <tr>\n",
       "      <th>4</th>\n",
       "      <td>ZJ000004</td>\n",
       "      <td>train_features/ZJ000004.jpg</td>\n",
       "      <td>S0036</td>\n",
       "    </tr>\n",
       "  </tbody>\n",
       "</table>\n",
       "</div>"
      ],
      "text/plain": [
       "         id                     filepath   site\n",
       "0  ZJ000000  train_features/ZJ000000.jpg  S0120\n",
       "1  ZJ000001  train_features/ZJ000001.jpg  S0069\n",
       "2  ZJ000002  train_features/ZJ000002.jpg  S0009\n",
       "3  ZJ000003  train_features/ZJ000003.jpg  S0008\n",
       "4  ZJ000004  train_features/ZJ000004.jpg  S0036"
      ]
     },
     "execution_count": 5,
     "metadata": {},
     "output_type": "execute_result"
    }
   ],
   "source": [
    "train_features = pd.read_csv(root_path+\"train_features.csv\")\n",
    "train_features.head()"
   ]
  },
  {
   "cell_type": "code",
   "execution_count": 28,
   "metadata": {},
   "outputs": [
    {
     "data": {
      "text/plain": [
       "id                             ZJ000001\n",
       "filepath    train_features/ZJ000001.jpg\n",
       "site                              S0069\n",
       "Name: 1, dtype: object"
      ]
     },
     "execution_count": 28,
     "metadata": {},
     "output_type": "execute_result"
    }
   ],
   "source": [
    "train_features.iloc[1, :]"
   ]
  },
  {
   "cell_type": "code",
   "execution_count": 7,
   "metadata": {},
   "outputs": [],
   "source": [
    "x_train = []\n",
    "\n",
    "for image in train_features.iloc[:, 1]:\n",
    "    img=cv2.imread(root_path+image)\n",
    "    img = cv2.resize(img, (335, 335))\n",
    "    x_train.append(img)\n",
    "\n",
    "train_x = np.array(x_train)"
   ]
  },
  {
   "cell_type": "code",
   "execution_count": 8,
   "metadata": {},
   "outputs": [
    {
     "data": {
      "text/plain": [
       "array([[[[139, 139, 139],\n",
       "         [141, 141, 141],\n",
       "         [147, 147, 147],\n",
       "         ...,\n",
       "         [108, 108, 108],\n",
       "         [108, 108, 108],\n",
       "         [107, 107, 107]],\n",
       "\n",
       "        [[140, 140, 140],\n",
       "         [141, 141, 141],\n",
       "         [148, 148, 148],\n",
       "         ...,\n",
       "         [105, 105, 105],\n",
       "         [107, 107, 107],\n",
       "         [110, 110, 110]],\n",
       "\n",
       "        [[141, 141, 141],\n",
       "         [143, 143, 143],\n",
       "         [149, 149, 149],\n",
       "         ...,\n",
       "         [101, 101, 101],\n",
       "         [105, 105, 105],\n",
       "         [110, 110, 110]],\n",
       "\n",
       "        ...,\n",
       "\n",
       "        [[ 81, 127, 212],\n",
       "         [ 47,  94, 178],\n",
       "         [ 54, 101, 185],\n",
       "         ...,\n",
       "         [ 69,  69,  69],\n",
       "         [ 91,  91,  91],\n",
       "         [251, 251, 251]],\n",
       "\n",
       "        [[ 65, 119, 220],\n",
       "         [ 44, 102, 207],\n",
       "         [ 38, 101, 209],\n",
       "         ...,\n",
       "         [171, 171, 171],\n",
       "         [162, 162, 162],\n",
       "         [254, 254, 254]],\n",
       "\n",
       "        [[ 61, 118, 224],\n",
       "         [ 38, 101, 214],\n",
       "         [ 29,  97, 218],\n",
       "         ...,\n",
       "         [251, 251, 251],\n",
       "         [254, 254, 254],\n",
       "         [246, 246, 246]]],\n",
       "\n",
       "\n",
       "       [[[132, 132, 132],\n",
       "         [139, 139, 139],\n",
       "         [154, 154, 154],\n",
       "         ...,\n",
       "         [126, 126, 126],\n",
       "         [130, 130, 130],\n",
       "         [128, 128, 128]],\n",
       "\n",
       "        [[141, 141, 141],\n",
       "         [146, 146, 146],\n",
       "         [159, 159, 159],\n",
       "         ...,\n",
       "         [124, 124, 124],\n",
       "         [128, 128, 128],\n",
       "         [128, 128, 128]],\n",
       "\n",
       "        [[145, 145, 145],\n",
       "         [145, 145, 145],\n",
       "         [156, 156, 156],\n",
       "         ...,\n",
       "         [121, 121, 121],\n",
       "         [127, 127, 127],\n",
       "         [128, 128, 128]],\n",
       "\n",
       "        ...,\n",
       "\n",
       "        [[ 75, 121, 205],\n",
       "         [ 49,  97, 180],\n",
       "         [ 54, 102, 186],\n",
       "         ...,\n",
       "         [ 59,  59,  59],\n",
       "         [255, 255, 255],\n",
       "         [254, 254, 254]],\n",
       "\n",
       "        [[ 59, 115, 210],\n",
       "         [ 40, 100, 202],\n",
       "         [ 38,  99, 211],\n",
       "         ...,\n",
       "         [156, 156, 156],\n",
       "         [251, 251, 251],\n",
       "         [255, 255, 255]],\n",
       "\n",
       "        [[ 54, 115, 211],\n",
       "         [ 34,  97, 209],\n",
       "         [ 29,  95, 222],\n",
       "         ...,\n",
       "         [250, 250, 250],\n",
       "         [251, 251, 251],\n",
       "         [248, 248, 248]]],\n",
       "\n",
       "\n",
       "       [[[150, 150, 150],\n",
       "         [143, 143, 143],\n",
       "         [147, 147, 147],\n",
       "         ...,\n",
       "         [149, 149, 149],\n",
       "         [161, 161, 161],\n",
       "         [144, 144, 144]],\n",
       "\n",
       "        [[147, 147, 147],\n",
       "         [148, 148, 148],\n",
       "         [149, 149, 149],\n",
       "         ...,\n",
       "         [157, 157, 157],\n",
       "         [167, 167, 167],\n",
       "         [144, 144, 144]],\n",
       "\n",
       "        [[149, 149, 149],\n",
       "         [152, 152, 152],\n",
       "         [146, 146, 146],\n",
       "         ...,\n",
       "         [152, 152, 152],\n",
       "         [162, 162, 162],\n",
       "         [137, 137, 137]],\n",
       "\n",
       "        ...,\n",
       "\n",
       "        [[ 72, 138, 220],\n",
       "         [ 47, 104, 203],\n",
       "         [ 50,  98, 213],\n",
       "         ...,\n",
       "         [107, 107, 107],\n",
       "         [123, 123, 123],\n",
       "         [242, 242, 242]],\n",
       "\n",
       "        [[ 73, 138, 222],\n",
       "         [ 38,  93, 196],\n",
       "         [ 45,  93, 216],\n",
       "         ...,\n",
       "         [238, 238, 238],\n",
       "         [241, 241, 241],\n",
       "         [245, 245, 245]],\n",
       "\n",
       "        [[ 77, 139, 223],\n",
       "         [ 43,  98, 204],\n",
       "         [ 36,  84, 211],\n",
       "         ...,\n",
       "         [239, 239, 239],\n",
       "         [247, 247, 247],\n",
       "         [251, 251, 251]]],\n",
       "\n",
       "\n",
       "       ...,\n",
       "\n",
       "\n",
       "       [[[137, 137, 137],\n",
       "         [144, 144, 144],\n",
       "         [145, 145, 145],\n",
       "         ...,\n",
       "         [130, 130, 130],\n",
       "         [137, 137, 137],\n",
       "         [126, 126, 126]],\n",
       "\n",
       "        [[134, 134, 134],\n",
       "         [137, 137, 137],\n",
       "         [138, 138, 138],\n",
       "         ...,\n",
       "         [123, 123, 123],\n",
       "         [129, 129, 129],\n",
       "         [129, 129, 129]],\n",
       "\n",
       "        [[131, 131, 131],\n",
       "         [129, 129, 129],\n",
       "         [128, 128, 128],\n",
       "         ...,\n",
       "         [116, 116, 116],\n",
       "         [121, 121, 121],\n",
       "         [130, 130, 130]],\n",
       "\n",
       "        ...,\n",
       "\n",
       "        [[ 81, 135, 228],\n",
       "         [ 52, 108, 202],\n",
       "         [ 46, 102, 199],\n",
       "         ...,\n",
       "         [107, 107, 107],\n",
       "         [233, 233, 233],\n",
       "         [246, 246, 246]],\n",
       "\n",
       "        [[ 82, 135, 231],\n",
       "         [ 40,  95, 194],\n",
       "         [ 44, 100, 205],\n",
       "         ...,\n",
       "         [230, 230, 230],\n",
       "         [248, 248, 248],\n",
       "         [254, 254, 254]],\n",
       "\n",
       "        [[ 84, 137, 234],\n",
       "         [ 43,  97, 199],\n",
       "         [ 37,  91, 201],\n",
       "         ...,\n",
       "         [239, 239, 239],\n",
       "         [251, 251, 251],\n",
       "         [241, 241, 241]]],\n",
       "\n",
       "\n",
       "       [[[ 16,  16,  16],\n",
       "         [ 16,  16,  16],\n",
       "         [ 16,  16,  16],\n",
       "         ...,\n",
       "         [ 20,  20,  20],\n",
       "         [ 20,  20,  20],\n",
       "         [ 20,  20,  20]],\n",
       "\n",
       "        [[ 16,  16,  16],\n",
       "         [ 16,  16,  16],\n",
       "         [ 16,  16,  16],\n",
       "         ...,\n",
       "         [ 20,  20,  20],\n",
       "         [ 20,  20,  20],\n",
       "         [ 20,  20,  20]],\n",
       "\n",
       "        [[ 16,  16,  16],\n",
       "         [ 16,  16,  16],\n",
       "         [ 16,  16,  16],\n",
       "         ...,\n",
       "         [ 20,  20,  20],\n",
       "         [ 20,  20,  20],\n",
       "         [ 20,  20,  20]],\n",
       "\n",
       "        ...,\n",
       "\n",
       "        [[ 51,  85, 172],\n",
       "         [ 53,  97, 206],\n",
       "         [ 39,  97, 213],\n",
       "         ...,\n",
       "         [ 31,  31,  31],\n",
       "         [ 28,  28,  28],\n",
       "         [ 24,  24,  24]],\n",
       "\n",
       "        [[ 41,  84, 172],\n",
       "         [ 41,  94, 214],\n",
       "         [ 37, 101, 209],\n",
       "         ...,\n",
       "         [ 38,  38,  38],\n",
       "         [ 33,  33,  33],\n",
       "         [ 31,  31,  31]],\n",
       "\n",
       "        [[ 37,  85, 172],\n",
       "         [ 38,  93, 218],\n",
       "         [ 36, 102, 208],\n",
       "         ...,\n",
       "         [ 39,  39,  39],\n",
       "         [ 33,  33,  33],\n",
       "         [ 31,  31,  31]]],\n",
       "\n",
       "\n",
       "       [[[ 87,  88,  68],\n",
       "         [ 85,  86,  66],\n",
       "         [ 93,  95,  75],\n",
       "         ...,\n",
       "         [122, 133, 100],\n",
       "         [124, 135, 102],\n",
       "         [114, 125,  92]],\n",
       "\n",
       "        [[ 84,  85,  65],\n",
       "         [ 79,  81,  61],\n",
       "         [ 83,  85,  65],\n",
       "         ...,\n",
       "         [115, 126,  93],\n",
       "         [118, 129,  96],\n",
       "         [111, 122,  89]],\n",
       "\n",
       "        [[ 85,  86,  66],\n",
       "         [ 81,  82,  62],\n",
       "         [ 90,  92,  72],\n",
       "         ...,\n",
       "         [112, 123,  90],\n",
       "         [114, 125,  92],\n",
       "         [113, 124,  91]],\n",
       "\n",
       "        ...,\n",
       "\n",
       "        [[117, 131, 125],\n",
       "         [ 94, 103,  97],\n",
       "         [111, 114, 109],\n",
       "         ...,\n",
       "         [165, 151, 145],\n",
       "         [151, 135, 129],\n",
       "         [134, 118, 112]],\n",
       "\n",
       "        [[151, 165, 159],\n",
       "         [110, 119, 113],\n",
       "         [120, 123, 118],\n",
       "         ...,\n",
       "         [149, 134, 129],\n",
       "         [151, 135, 129],\n",
       "         [146, 130, 124]],\n",
       "\n",
       "        [[170, 185, 179],\n",
       "         [114, 123, 118],\n",
       "         [117, 120, 116],\n",
       "         ...,\n",
       "         [112,  98,  92],\n",
       "         [131, 115, 109],\n",
       "         [110,  94,  88]]]], dtype=uint8)"
      ]
     },
     "execution_count": 8,
     "metadata": {},
     "output_type": "execute_result"
    }
   ],
   "source": [
    "train_x"
   ]
  },
  {
   "cell_type": "code",
   "execution_count": 9,
   "metadata": {},
   "outputs": [],
   "source": [
    "nsamples, nx, ny, nrgb = train_x.shape\n",
    "train_x = train_x.reshape((nsamples,nx*ny*nrgb))"
   ]
  },
  {
   "cell_type": "code",
   "execution_count": 10,
   "metadata": {},
   "outputs": [
    {
     "data": {
      "text/plain": [
       "array([[139, 139, 139, ..., 246, 246, 246],\n",
       "       [132, 132, 132, ..., 248, 248, 248],\n",
       "       [150, 150, 150, ..., 251, 251, 251],\n",
       "       ...,\n",
       "       [137, 137, 137, ..., 241, 241, 241],\n",
       "       [ 16,  16,  16, ...,  31,  31,  31],\n",
       "       [ 87,  88,  68, ..., 110,  94,  88]], dtype=uint8)"
      ]
     },
     "execution_count": 10,
     "metadata": {},
     "output_type": "execute_result"
    }
   ],
   "source": [
    "train_x"
   ]
  },
  {
   "cell_type": "code",
   "execution_count": 18,
   "metadata": {},
   "outputs": [],
   "source": [
    "train_y = pd.read_csv(root_path+\"train_labels.csv\")\n",
    "train_y = train_y.iloc[:25, 1:]"
   ]
  },
  {
   "cell_type": "code",
   "execution_count": 12,
   "metadata": {},
   "outputs": [],
   "source": [
    "from sklearn.ensemble import RandomForestClassifier\n",
    "model=RandomForestClassifier()"
   ]
  },
  {
   "cell_type": "code",
   "execution_count": 19,
   "metadata": {},
   "outputs": [
    {
     "data": {
      "text/plain": [
       "(25, 336675)"
      ]
     },
     "execution_count": 19,
     "metadata": {},
     "output_type": "execute_result"
    }
   ],
   "source": [
    "train_x.shape"
   ]
  },
  {
   "cell_type": "code",
   "execution_count": 20,
   "metadata": {},
   "outputs": [
    {
     "data": {
      "text/plain": [
       "(25, 8)"
      ]
     },
     "execution_count": 20,
     "metadata": {},
     "output_type": "execute_result"
    }
   ],
   "source": [
    "train_y.shape"
   ]
  },
  {
   "cell_type": "code",
   "execution_count": 21,
   "metadata": {},
   "outputs": [
    {
     "data": {
      "text/plain": [
       "RandomForestClassifier()"
      ]
     },
     "execution_count": 21,
     "metadata": {},
     "output_type": "execute_result"
    }
   ],
   "source": [
    "model.fit(train_x,train_y)"
   ]
  },
  {
   "cell_type": "code",
   "execution_count": 23,
   "metadata": {},
   "outputs": [
    {
     "data": {
      "text/plain": [
       "RandomForestClassifier()"
      ]
     },
     "execution_count": 23,
     "metadata": {},
     "output_type": "execute_result"
    }
   ],
   "source": [
    "model"
   ]
  },
  {
   "cell_type": "code",
   "execution_count": 25,
   "metadata": {},
   "outputs": [
    {
     "data": {
      "text/plain": [
       "array([132, 132, 132, ..., 248, 248, 248], dtype=uint8)"
      ]
     },
     "execution_count": 25,
     "metadata": {},
     "output_type": "execute_result"
    }
   ],
   "source": [
    "train_x[1]"
   ]
  },
  {
   "cell_type": "code",
   "execution_count": 29,
   "metadata": {},
   "outputs": [
    {
     "ename": "IndexError",
     "evalue": "index 30 is out of bounds for axis 0 with size 25",
     "output_type": "error",
     "traceback": [
      "\u001b[1;31m---------------------------------------------------------------------------\u001b[0m",
      "\u001b[1;31mIndexError\u001b[0m                                Traceback (most recent call last)",
      "\u001b[1;32m<ipython-input-29-202554f0b4b1>\u001b[0m in \u001b[0;36m<module>\u001b[1;34m\u001b[0m\n\u001b[1;32m----> 1\u001b[1;33m \u001b[0my_pred\u001b[0m \u001b[1;33m=\u001b[0m \u001b[0mmodel\u001b[0m\u001b[1;33m.\u001b[0m\u001b[0mpredict\u001b[0m\u001b[1;33m(\u001b[0m\u001b[1;33m[\u001b[0m\u001b[0mtrain_x\u001b[0m\u001b[1;33m[\u001b[0m\u001b[1;36m30\u001b[0m\u001b[1;33m]\u001b[0m\u001b[1;33m]\u001b[0m\u001b[1;33m)\u001b[0m\u001b[1;33m\u001b[0m\u001b[1;33m\u001b[0m\u001b[0m\n\u001b[0m\u001b[0;32m      2\u001b[0m \u001b[0my_pred\u001b[0m\u001b[1;33m\u001b[0m\u001b[1;33m\u001b[0m\u001b[0m\n",
      "\u001b[1;31mIndexError\u001b[0m: index 30 is out of bounds for axis 0 with size 25"
     ]
    }
   ],
   "source": [
    "y_pred = model.predict([train_x[30]])\n",
    "y_pred\n"
   ]
  },
  {
   "cell_type": "code",
   "execution_count": null,
   "metadata": {},
   "outputs": [],
   "source": [
    "\n",
    "accuracy_score(y_pred,y_test)\n",
    "print(classification_report(y_pred,y_test))\n",
    "\n",
    "confusion_matrix(y_pred,y_test)"
   ]
  }
 ],
 "metadata": {
  "kernelspec": {
   "display_name": "Python 3.8.0 ('tensor')",
   "language": "python",
   "name": "python3"
  },
  "language_info": {
   "codemirror_mode": {
    "name": "ipython",
    "version": 3
   },
   "file_extension": ".py",
   "mimetype": "text/x-python",
   "name": "python",
   "nbconvert_exporter": "python",
   "pygments_lexer": "ipython3",
   "version": "3.8.0"
  },
  "orig_nbformat": 4,
  "vscode": {
   "interpreter": {
    "hash": "28e92b93ce28d83a166606a3549c764f70096979953693cb04def34ad0cc350a"
   }
  }
 },
 "nbformat": 4,
 "nbformat_minor": 2
}
