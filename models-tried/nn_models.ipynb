{
 "cells": [
  {
   "cell_type": "code",
   "execution_count": 4,
   "metadata": {},
   "outputs": [
    {
     "name": "stdout",
     "output_type": "stream",
     "text": [
      "2.9.1\n"
     ]
    }
   ],
   "source": [
    "import tensorflow as tf\n",
    "print(tf.__version__)"
   ]
  },
  {
   "cell_type": "code",
   "execution_count": 5,
   "metadata": {},
   "outputs": [],
   "source": [
    "root_path = \"/Users/devasenan/Documents/conser-vision/data/\"\n",
    "# root_path = \"C:/Users/devas/Documents/projects/conser-vision/data/\""
   ]
  },
  {
   "cell_type": "code",
   "execution_count": 6,
   "metadata": {},
   "outputs": [],
   "source": [
    "import pickle\n",
    "\n",
    "with open(root_path+'pickles/train_images.pickle', 'rb') as train_imgs:\n",
    "    train_images = pickle.load(train_imgs)\n",
    "    train_imgs.close()\n",
    "\n",
    "with open(root_path+'pickles/train_sites.pickle', 'rb') as train_st:\n",
    "    train_sites = pickle.load(train_st)\n",
    "    train_st.close()\n",
    "\n",
    "with open(root_path+'pickles/train_labels.pickle', 'rb') as train_lbls:\n",
    "    train_y = pickle.load(train_lbls)\n",
    "    train_lbls.close()\n",
    "\n",
    "with open(root_path+'pickles/test_images.pickle', 'rb') as train_imgs:\n",
    "    test_images = pickle.load(train_imgs)\n",
    "    train_imgs.close()\n",
    "\n",
    "with open(root_path+'pickles/test_sites.pickle', 'rb') as test_st:\n",
    "    test_sites = pickle.load(test_st)\n",
    "    test_st.close()\n",
    "\n",
    "with open(root_path+'pickles/test_labels.pickle', 'rb') as test_lbls:\n",
    "    test_y = pickle.load(test_lbls)\n",
    "    test_lbls.close()"
   ]
  },
  {
   "cell_type": "code",
   "execution_count": 8,
   "metadata": {},
   "outputs": [
    {
     "data": {
      "text/plain": [
       "(16488, 128, 128, 3)"
      ]
     },
     "execution_count": 8,
     "metadata": {},
     "output_type": "execute_result"
    }
   ],
   "source": [
    "train_images.shape"
   ]
  },
  {
   "cell_type": "code",
   "execution_count": 21,
   "metadata": {},
   "outputs": [
    {
     "data": {
      "text/plain": [
       "array([3, 6, 2, ..., 2, 2, 6])"
      ]
     },
     "execution_count": 21,
     "metadata": {},
     "output_type": "execute_result"
    }
   ],
   "source": [
    "test_y"
   ]
  },
  {
   "cell_type": "code",
   "execution_count": 27,
   "metadata": {},
   "outputs": [],
   "source": [
    "from tensorflow import keras\n",
    "from tensorflow.keras.models import Sequential\n",
    "from tensorflow.keras.layers import Conv2D, MaxPooling2D, Dense, Flatten\n",
    "import numpy as np"
   ]
  },
  {
   "cell_type": "markdown",
   "metadata": {},
   "source": [
    "Model 1"
   ]
  },
  {
   "cell_type": "code",
   "execution_count": 22,
   "metadata": {},
   "outputs": [],
   "source": [
    "model1 = Sequential()\n",
    "\n",
    "model1.add(Conv2D(32, (3,3), activation='relu', input_shape=(128, 128, 3)))\n",
    "model1.add(MaxPooling2D(2,2))\n",
    "\n",
    "model1.add(Conv2D(32, (3,3), activation='relu'))\n",
    "model1.add(MaxPooling2D((2,2)))\n",
    "\n",
    "model1.add(Flatten())\n",
    "model1.add(Dense(64, activation='relu'))\n",
    "model1.add(Dense(1, activation='sigmoid'))"
   ]
  },
  {
   "cell_type": "code",
   "execution_count": 23,
   "metadata": {},
   "outputs": [],
   "source": [
    "opt1 = keras.optimizers.SGD(learning_rate=0.001)\n",
    "model1.compile(loss='binary_crossentropy', optimizer=opt, metrics=['accuracy'])"
   ]
  },
  {
   "cell_type": "code",
   "execution_count": 15,
   "metadata": {},
   "outputs": [
    {
     "name": "stdout",
     "output_type": "stream",
     "text": [
      "Epoch 1/5\n",
      "258/258 [==============================] - 73s 273ms/step - loss: nan - accuracy: 0.1474\n",
      "Epoch 2/5\n",
      "258/258 [==============================] - 68s 263ms/step - loss: nan - accuracy: 0.1500\n",
      "Epoch 3/5\n",
      "258/258 [==============================] - 64s 247ms/step - loss: nan - accuracy: 0.1500\n",
      "Epoch 4/5\n",
      "258/258 [==============================] - 68s 262ms/step - loss: nan - accuracy: 0.1500\n",
      "Epoch 5/5\n",
      "258/258 [==============================] - 63s 245ms/step - loss: nan - accuracy: 0.1500\n"
     ]
    },
    {
     "data": {
      "text/plain": [
       "<keras.callbacks.History at 0x7ff7145c3bb0>"
      ]
     },
     "execution_count": 15,
     "metadata": {},
     "output_type": "execute_result"
    }
   ],
   "source": [
    "model1.fit(train_images, train_y, epochs=5, batch_size=64)"
   ]
  },
  {
   "cell_type": "code",
   "execution_count": 17,
   "metadata": {},
   "outputs": [
    {
     "name": "stdout",
     "output_type": "stream",
     "text": [
      "140/140 [==============================] - 6s 38ms/step - loss: nan - accuracy: 0.1147\n"
     ]
    },
    {
     "data": {
      "text/plain": [
       "[nan, 0.11469534039497375]"
      ]
     },
     "execution_count": 17,
     "metadata": {},
     "output_type": "execute_result"
    }
   ],
   "source": [
    "model1.evaluate(test_images, test_y)"
   ]
  },
  {
   "cell_type": "markdown",
   "metadata": {},
   "source": [
    "Model 2"
   ]
  },
  {
   "cell_type": "code",
   "execution_count": 29,
   "metadata": {},
   "outputs": [],
   "source": [
    "model2 = Sequential()\n",
    "\n",
    "model2.add(Conv2D(16, (3,3), 1, activation='relu', input_shape=(128, 128, 3)))\n",
    "model2.add(MaxPooling2D())\n",
    "\n",
    "model2.add(Conv2D(32, (3,3), 1, activation='relu'))\n",
    "model2.add(MaxPooling2D())\n",
    "\n",
    "model2.add(Conv2D(16, (3,3), 1, activation='relu'))\n",
    "model2.add(MaxPooling2D())\n",
    "\n",
    "model2.add(Flatten())\n",
    "model2.add(Dense(256, activation='relu'))\n",
    "model2.add(Dense(1, activation='sigmoid'))\n"
   ]
  },
  {
   "cell_type": "code",
   "execution_count": 30,
   "metadata": {},
   "outputs": [],
   "source": [
    "opt2 = keras.optimizers.Adam(learning_rate=0.01)\n",
    "model2.compile(loss='binary_crossentropy', optimizer=opt2, metrics=['accuracy'])"
   ]
  },
  {
   "cell_type": "code",
   "execution_count": 31,
   "metadata": {},
   "outputs": [
    {
     "name": "stdout",
     "output_type": "stream",
     "text": [
      "Epoch 1/5\n",
      "258/258 [==============================] - 77s 285ms/step - loss: -99740482011136.0000 - accuracy: 0.0996\n",
      "Epoch 2/5\n",
      "258/258 [==============================] - 79s 306ms/step - loss: -13150134372139008.0000 - accuracy: 0.0995\n",
      "Epoch 3/5\n",
      "258/258 [==============================] - 62s 240ms/step - loss: -167500666527285248.0000 - accuracy: 0.0995\n",
      "Epoch 4/5\n",
      "258/258 [==============================] - 79s 305ms/step - loss: -871972163173744640.0000 - accuracy: 0.0995\n",
      "Epoch 5/5\n",
      "258/258 [==============================] - 72s 278ms/step - loss: -2883836205848330240.0000 - accuracy: 0.0995\n"
     ]
    },
    {
     "data": {
      "text/plain": [
       "<keras.callbacks.History at 0x7ff6d03eff10>"
      ]
     },
     "execution_count": 31,
     "metadata": {},
     "output_type": "execute_result"
    }
   ],
   "source": [
    "model2.fit(train_images, train_y, epochs=5, batch_size=64)"
   ]
  }
 ],
 "metadata": {
  "kernelspec": {
   "display_name": "Python 3.10.8 ('tf')",
   "language": "python",
   "name": "python3"
  },
  "language_info": {
   "codemirror_mode": {
    "name": "ipython",
    "version": 3
   },
   "file_extension": ".py",
   "mimetype": "text/x-python",
   "name": "python",
   "nbconvert_exporter": "python",
   "pygments_lexer": "ipython3",
   "version": "3.10.8"
  },
  "vscode": {
   "interpreter": {
    "hash": "66ec99974a7f573babcaf6b497604ee91debe00853c8a7a9f5b2a617b000066c"
   }
  }
 },
 "nbformat": 4,
 "nbformat_minor": 2
}
