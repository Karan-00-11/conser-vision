{
 "cells": [
  {
   "cell_type": "code",
   "execution_count": 1,
   "metadata": {},
   "outputs": [],
   "source": [
    "# root_path = \"/Users/devasenan/Documents/conser-vision/data/\"\n",
    "root_path = \"C:/Users/Karan/conser-vision/data/\"\n",
    "# root_path = \"C:/Users/devas/Documents/projects/conser-vision/data/\""
   ]
  },
  {
   "cell_type": "code",
   "execution_count": 2,
   "metadata": {},
   "outputs": [],
   "source": [
    "import pickle\n",
    "\n",
    "with open(root_path+'pickles/train_images.pickle', 'rb') as train_imgs:\n",
    "    train_images = pickle.load(train_imgs)\n",
    "    train_imgs.close()\n",
    "\n",
    "with open(root_path+'pickles/train_sites.pickle', 'rb') as train_st:\n",
    "    train_sites = pickle.load(train_st)\n",
    "    train_st.close()\n",
    "\n",
    "with open(root_path+'pickles/train_labels.pickle', 'rb') as train_lbls:\n",
    "    train_labels = pickle.load(train_lbls)\n",
    "    train_lbls.close()\n",
    "\n",
    "with open(root_path+'pickles/test_images.pickle', 'rb') as train_imgs:\n",
    "    test_images = pickle.load(train_imgs)\n",
    "    train_imgs.close()\n",
    "\n",
    "with open(root_path+'pickles/test_sites.pickle', 'rb') as test_st:\n",
    "    test_sites = pickle.load(test_st)\n",
    "    test_st.close()\n",
    "\n",
    "with open(root_path+'pickles/test_labels.pickle', 'rb') as test_lbls:\n",
    "    test_labels = pickle.load(test_lbls)\n",
    "    test_lbls.close()"
   ]
  },
  {
   "cell_type": "markdown",
   "metadata": {},
   "source": [
    "Going through the data we have"
   ]
  },
  {
   "cell_type": "code",
   "execution_count": 3,
   "metadata": {},
   "outputs": [],
   "source": [
    "# import matplotlib.pyplot as plt\n",
    "import numpy as np"
   ]
  },
  {
   "cell_type": "code",
   "execution_count": 4,
   "metadata": {},
   "outputs": [],
   "source": [
    "classes = ['antelope_duiker','bird','blank','civet_genet','hog','leopard','monkey_prosimian','rodent']"
   ]
  },
  {
   "cell_type": "code",
   "execution_count": 5,
   "metadata": {},
   "outputs": [],
   "source": [
    "import pandas as pd\n",
    "train_labels = pd.read_csv(root_path+'train_labels.csv').iloc[:, 1:]"
   ]
  },
  {
   "cell_type": "code",
   "execution_count": 6,
   "metadata": {},
   "outputs": [
    {
     "data": {
      "text/html": [
       "<div>\n",
       "<style scoped>\n",
       "    .dataframe tbody tr th:only-of-type {\n",
       "        vertical-align: middle;\n",
       "    }\n",
       "\n",
       "    .dataframe tbody tr th {\n",
       "        vertical-align: top;\n",
       "    }\n",
       "\n",
       "    .dataframe thead th {\n",
       "        text-align: right;\n",
       "    }\n",
       "</style>\n",
       "<table border=\"1\" class=\"dataframe\">\n",
       "  <thead>\n",
       "    <tr style=\"text-align: right;\">\n",
       "      <th></th>\n",
       "      <th>antelope_duiker</th>\n",
       "      <th>bird</th>\n",
       "      <th>blank</th>\n",
       "      <th>civet_genet</th>\n",
       "      <th>hog</th>\n",
       "      <th>leopard</th>\n",
       "      <th>monkey_prosimian</th>\n",
       "      <th>rodent</th>\n",
       "    </tr>\n",
       "  </thead>\n",
       "  <tbody>\n",
       "    <tr>\n",
       "      <th>0</th>\n",
       "      <td>0.0</td>\n",
       "      <td>1.0</td>\n",
       "      <td>0.0</td>\n",
       "      <td>0.0</td>\n",
       "      <td>0.0</td>\n",
       "      <td>0.0</td>\n",
       "      <td>0.0</td>\n",
       "      <td>0.0</td>\n",
       "    </tr>\n",
       "    <tr>\n",
       "      <th>1</th>\n",
       "      <td>0.0</td>\n",
       "      <td>0.0</td>\n",
       "      <td>0.0</td>\n",
       "      <td>0.0</td>\n",
       "      <td>0.0</td>\n",
       "      <td>0.0</td>\n",
       "      <td>1.0</td>\n",
       "      <td>0.0</td>\n",
       "    </tr>\n",
       "    <tr>\n",
       "      <th>2</th>\n",
       "      <td>0.0</td>\n",
       "      <td>1.0</td>\n",
       "      <td>0.0</td>\n",
       "      <td>0.0</td>\n",
       "      <td>0.0</td>\n",
       "      <td>0.0</td>\n",
       "      <td>0.0</td>\n",
       "      <td>0.0</td>\n",
       "    </tr>\n",
       "    <tr>\n",
       "      <th>3</th>\n",
       "      <td>0.0</td>\n",
       "      <td>0.0</td>\n",
       "      <td>0.0</td>\n",
       "      <td>0.0</td>\n",
       "      <td>0.0</td>\n",
       "      <td>0.0</td>\n",
       "      <td>1.0</td>\n",
       "      <td>0.0</td>\n",
       "    </tr>\n",
       "    <tr>\n",
       "      <th>4</th>\n",
       "      <td>0.0</td>\n",
       "      <td>0.0</td>\n",
       "      <td>0.0</td>\n",
       "      <td>0.0</td>\n",
       "      <td>0.0</td>\n",
       "      <td>1.0</td>\n",
       "      <td>0.0</td>\n",
       "      <td>0.0</td>\n",
       "    </tr>\n",
       "    <tr>\n",
       "      <th>...</th>\n",
       "      <td>...</td>\n",
       "      <td>...</td>\n",
       "      <td>...</td>\n",
       "      <td>...</td>\n",
       "      <td>...</td>\n",
       "      <td>...</td>\n",
       "      <td>...</td>\n",
       "      <td>...</td>\n",
       "    </tr>\n",
       "    <tr>\n",
       "      <th>16483</th>\n",
       "      <td>0.0</td>\n",
       "      <td>0.0</td>\n",
       "      <td>1.0</td>\n",
       "      <td>0.0</td>\n",
       "      <td>0.0</td>\n",
       "      <td>0.0</td>\n",
       "      <td>0.0</td>\n",
       "      <td>0.0</td>\n",
       "    </tr>\n",
       "    <tr>\n",
       "      <th>16484</th>\n",
       "      <td>0.0</td>\n",
       "      <td>0.0</td>\n",
       "      <td>0.0</td>\n",
       "      <td>0.0</td>\n",
       "      <td>0.0</td>\n",
       "      <td>1.0</td>\n",
       "      <td>0.0</td>\n",
       "      <td>0.0</td>\n",
       "    </tr>\n",
       "    <tr>\n",
       "      <th>16485</th>\n",
       "      <td>0.0</td>\n",
       "      <td>0.0</td>\n",
       "      <td>0.0</td>\n",
       "      <td>1.0</td>\n",
       "      <td>0.0</td>\n",
       "      <td>0.0</td>\n",
       "      <td>0.0</td>\n",
       "      <td>0.0</td>\n",
       "    </tr>\n",
       "    <tr>\n",
       "      <th>16486</th>\n",
       "      <td>0.0</td>\n",
       "      <td>1.0</td>\n",
       "      <td>0.0</td>\n",
       "      <td>0.0</td>\n",
       "      <td>0.0</td>\n",
       "      <td>0.0</td>\n",
       "      <td>0.0</td>\n",
       "      <td>0.0</td>\n",
       "    </tr>\n",
       "    <tr>\n",
       "      <th>16487</th>\n",
       "      <td>0.0</td>\n",
       "      <td>0.0</td>\n",
       "      <td>0.0</td>\n",
       "      <td>1.0</td>\n",
       "      <td>0.0</td>\n",
       "      <td>0.0</td>\n",
       "      <td>0.0</td>\n",
       "      <td>0.0</td>\n",
       "    </tr>\n",
       "  </tbody>\n",
       "</table>\n",
       "<p>16488 rows × 8 columns</p>\n",
       "</div>"
      ],
      "text/plain": [
       "       antelope_duiker  bird  blank  civet_genet  hog  leopard  \\\n",
       "0                  0.0   1.0    0.0          0.0  0.0      0.0   \n",
       "1                  0.0   0.0    0.0          0.0  0.0      0.0   \n",
       "2                  0.0   1.0    0.0          0.0  0.0      0.0   \n",
       "3                  0.0   0.0    0.0          0.0  0.0      0.0   \n",
       "4                  0.0   0.0    0.0          0.0  0.0      1.0   \n",
       "...                ...   ...    ...          ...  ...      ...   \n",
       "16483              0.0   0.0    1.0          0.0  0.0      0.0   \n",
       "16484              0.0   0.0    0.0          0.0  0.0      1.0   \n",
       "16485              0.0   0.0    0.0          1.0  0.0      0.0   \n",
       "16486              0.0   1.0    0.0          0.0  0.0      0.0   \n",
       "16487              0.0   0.0    0.0          1.0  0.0      0.0   \n",
       "\n",
       "       monkey_prosimian  rodent  \n",
       "0                   0.0     0.0  \n",
       "1                   1.0     0.0  \n",
       "2                   0.0     0.0  \n",
       "3                   1.0     0.0  \n",
       "4                   0.0     0.0  \n",
       "...                 ...     ...  \n",
       "16483               0.0     0.0  \n",
       "16484               0.0     0.0  \n",
       "16485               0.0     0.0  \n",
       "16486               0.0     0.0  \n",
       "16487               0.0     0.0  \n",
       "\n",
       "[16488 rows x 8 columns]"
      ]
     },
     "execution_count": 6,
     "metadata": {},
     "output_type": "execute_result"
    }
   ],
   "source": [
    "train_labels"
   ]
  },
  {
   "cell_type": "code",
   "execution_count": 7,
   "metadata": {},
   "outputs": [],
   "source": [
    "train_y = np.array([np.argmax(train_labels.iloc[i]) for i in range(train_labels.shape[0])])"
   ]
  },
  {
   "cell_type": "code",
   "execution_count": 8,
   "metadata": {},
   "outputs": [
    {
     "data": {
      "text/plain": [
       "(16488, 128, 128, 3)"
      ]
     },
     "execution_count": 8,
     "metadata": {},
     "output_type": "execute_result"
    }
   ],
   "source": [
    "train_images.shape"
   ]
  },
  {
   "cell_type": "code",
   "execution_count": 9,
   "metadata": {},
   "outputs": [
    {
     "data": {
      "text/plain": [
       "array([1, 6, 1, ..., 3, 1, 3], dtype=int64)"
      ]
     },
     "execution_count": 9,
     "metadata": {},
     "output_type": "execute_result"
    }
   ],
   "source": [
    "train_y"
   ]
  },
  {
   "cell_type": "code",
   "execution_count": 7,
   "metadata": {},
   "outputs": [],
   "source": [
    "def plot_sample(X, y, index):\n",
    "    plt.figure(figsize=(10, 10))\n",
    "    plt.imshow(X[index])\n",
    "    class_index = np.argmax(y.iloc[index, :])\n",
    "    plt.xlabel(classes[class_index])\n"
   ]
  },
  {
   "cell_type": "code",
   "execution_count": 8,
   "metadata": {},
   "outputs": [
    {
     "data": {
      "image/png": "[encoded data removed]",
      "text/plain": [
       "<Figure size 1000x1000 with 1 Axes>"
      ]
     },
     "metadata": {},
     "output_type": "display_data"
    }
   ],
   "source": [
    "plot_sample(train_images, train_labels, 2)"
   ]
  },
  {
   "cell_type": "code",
   "execution_count": 10,
   "metadata": {},
   "outputs": [],
   "source": [
    "from tensorflow import keras\n",
    "from tensorflow.keras import models, layers\n",
    "from tensorflow.keras.regularizers import l1\n",
    "from tensorflow.keras.models import Sequential\n",
    "from tensorflow.keras.layers import Conv2D, MaxPooling2D, Dense, Flatten, Activation\n",
    "import numpy as np"
   ]
  },
  {
   "cell_type": "markdown",
   "metadata": {},
   "source": [
    "Model 0"
   ]
  },
  {
   "cell_type": "code",
   "execution_count": 13,
   "metadata": {},
   "outputs": [],
   "source": [
    "ann = models.Sequential([\n",
    "    layers.Flatten(input_shape=(128, 128, 3)),\n",
    "    layers.Dense(5000, activation='relu'),\n",
    "    layers.Dense(1000, activation='relu'),\n",
    "    layers.Dense(10, activation='sigmoid')\n",
    "])\n",
    "\n",
    "ann.compile(optimizer='SGD', loss='sparse_categorical_crossentropy', metrics=['accuracy'])\n",
    "\n",
    "ann.fit(train_images, train_labels, epochs=5)"
   ]
  },
  {
   "cell_type": "code",
   "execution_count": 42,
   "metadata": {},
   "outputs": [
    {
     "name": "stdout",
     "output_type": "stream",
     "text": [
      "140/140 [==============================] - 364s 3s/step - loss: 3.2279 - accuracy: 0.1243\n"
     ]
    },
    {
     "data": {
      "text/plain": [
       "[3.2279434204101562, 0.12432795763015747]"
      ]
     },
     "execution_count": 42,
     "metadata": {},
     "output_type": "execute_result"
    }
   ],
   "source": [
    "ann.evaluate(test_images, test_labels)"
   ]
  },
  {
   "cell_type": "code",
   "execution_count": null,
   "metadata": {},
   "outputs": [],
   "source": [
    "y_pred = ann.predict(test_images)"
   ]
  },
  {
   "cell_type": "markdown",
   "metadata": {},
   "source": [
    "Model 0.1"
   ]
  },
  {
   "cell_type": "code",
   "execution_count": 11,
   "metadata": {},
   "outputs": [
    {
     "data": {
      "text/plain": [
       "array([1, 6, 1, ..., 3, 1, 3], dtype=int64)"
      ]
     },
     "execution_count": 11,
     "metadata": {},
     "output_type": "execute_result"
    }
   ],
   "source": [
    "train_y"
   ]
  },
  {
   "cell_type": "code",
   "execution_count": 12,
   "metadata": {},
   "outputs": [
    {
     "name": "stdout",
     "output_type": "stream",
     "text": [
      "Epoch 1/10\n",
      "516/516 [==============================] - 26s 23ms/step - loss: 8.8799 - accuracy: 0.5169\n",
      "Epoch 2/10\n",
      "516/516 [==============================] - 12s 23ms/step - loss: 0.8270 - accuracy: 0.7280\n",
      "Epoch 3/10\n",
      "516/516 [==============================] - 12s 23ms/step - loss: 0.6030 - accuracy: 0.8043\n",
      "Epoch 4/10\n",
      "516/516 [==============================] - 12s 23ms/step - loss: 0.4752 - accuracy: 0.8444\n",
      "Epoch 5/10\n",
      "516/516 [==============================] - 12s 23ms/step - loss: 0.3944 - accuracy: 0.8735\n",
      "Epoch 6/10\n",
      "516/516 [==============================] - 12s 23ms/step - loss: 0.3382 - accuracy: 0.8884\n",
      "Epoch 7/10\n",
      "516/516 [==============================] - 12s 23ms/step - loss: 0.3100 - accuracy: 0.8973\n",
      "Epoch 8/10\n",
      "516/516 [==============================] - 12s 23ms/step - loss: 0.2859 - accuracy: 0.9082\n",
      "Epoch 9/10\n",
      "516/516 [==============================] - 12s 23ms/step - loss: 0.2610 - accuracy: 0.9171\n",
      "Epoch 10/10\n",
      "516/516 [==============================] - 12s 23ms/step - loss: 0.2390 - accuracy: 0.9243\n"
     ]
    },
    {
     "data": {
      "text/plain": [
       "<keras.callbacks.History at 0x1c013b06fe0>"
      ]
     },
     "execution_count": 12,
     "metadata": {},
     "output_type": "execute_result"
    }
   ],
   "source": [
    "cnn = models.Sequential([\n",
    "    layers.Conv2D(filters=32, kernel_size=(3,3), activation='relu', input_shape=(128, 128, 3)),\n",
    "    layers.MaxPooling2D((2,2)),\n",
    "\n",
    "    layers.Conv2D(filters=64, kernel_size=(3,3), activation='relu'),\n",
    "    layers.MaxPooling2D((2,2)),\n",
    "\n",
    "    layers.Flatten(),\n",
    "    layers.Dense(64, activation='relu'),\n",
    "    layers.Dense(8, activation='sigmoid')\n",
    "])\n",
    "\n",
    "cnn.compile(optimizer='adam', loss='sparse_categorical_crossentropy', metrics=['accuracy'])\n",
    "\n",
    "cnn.fit(train_images, train_y, epochs=10)"
   ]
  },
  {
   "cell_type": "code",
   "execution_count": 14,
   "metadata": {},
   "outputs": [],
   "source": [
    "cnn.save('cnn1_model1.h5')"
   ]
  },
  {
   "cell_type": "code",
   "execution_count": 34,
   "metadata": {},
   "outputs": [
    {
     "name": "stderr",
     "output_type": "stream",
     "text": [
      "WARNING:absl:Found untraced functions such as _jit_compiled_convolution_op, _jit_compiled_convolution_op while saving (showing 2 of 2). These functions will not be directly callable after loading.\n"
     ]
    },
    {
     "name": "stdout",
     "output_type": "stream",
     "text": [
      "INFO:tensorflow:Assets written to: ram://018b3676-69be-4d37-947e-17f2a3f3e56a/assets\n"
     ]
    },
    {
     "name": "stderr",
     "output_type": "stream",
     "text": [
      "INFO:tensorflow:Assets written to: ram://018b3676-69be-4d37-947e-17f2a3f3e56a/assets\n"
     ]
    }
   ],
   "source": [
    "import pickle as pk\n",
    "with open('cnn1_model.h5', 'wb') as model:\n",
    "    pk.dump(cnn, model)\n",
    "    model.close()"
   ]
  },
  {
   "cell_type": "code",
   "execution_count": 11,
   "metadata": {},
   "outputs": [
    {
     "name": "stderr",
     "output_type": "stream",
     "text": [
      "2022-11-30 18:52:49.204278: I tensorflow/core/platform/cpu_feature_guard.cc:193] This TensorFlow binary is optimized with oneAPI Deep Neural Network Library (oneDNN) to use the following CPU instructions in performance-critical operations:  SSE4.1 SSE4.2\n",
      "To enable them in other operations, rebuild TensorFlow with the appropriate compiler flags.\n"
     ]
    }
   ],
   "source": [
    "import pickle as pk\n",
    "cnn = None\n",
    "model_path = '/Users/devasenan/Documents/conser-vision/models-tried/cnn1_model.sav'\n",
    "with open(model_path, 'rb') as model_sav:\n",
    "    cnn = pk.load(model_sav)\n",
    "    model_sav.close()"
   ]
  },
  {
   "cell_type": "code",
   "execution_count": 22,
   "metadata": {},
   "outputs": [
    {
     "name": "stdout",
     "output_type": "stream",
     "text": [
      "1/1 [==============================] - 0s 349ms/step\n"
     ]
    }
   ],
   "source": [
    "y_pred = cnn.predict(img)"
   ]
  },
  {
   "cell_type": "code",
   "execution_count": 23,
   "metadata": {},
   "outputs": [
    {
     "data": {
      "text/plain": [
       "array([[1.00000e+00, 0.00000e+00, 1.00000e+00, 4.73336e-20, 0.00000e+00,\n",
       "        1.00000e+00, 1.00000e+00, 0.00000e+00]], dtype=float32)"
      ]
     },
     "execution_count": 23,
     "metadata": {},
     "output_type": "execute_result"
    }
   ],
   "source": [
    "y_pred"
   ]
  },
  {
   "cell_type": "code",
   "execution_count": 23,
   "metadata": {},
   "outputs": [],
   "source": [
    "y_pred_labels = np.array([np.argmax(y_pred[i])\n",
    "                         for i in range(y_pred.shape[0])])\n"
   ]
  },
  {
   "cell_type": "code",
   "execution_count": 24,
   "metadata": {},
   "outputs": [
    {
     "data": {
      "text/plain": [
       "array([5])"
      ]
     },
     "execution_count": 24,
     "metadata": {},
     "output_type": "execute_result"
    }
   ],
   "source": [
    "y_pred_labels"
   ]
  },
  {
   "cell_type": "code",
   "execution_count": 37,
   "metadata": {},
   "outputs": [
    {
     "data": {
      "text/plain": [
       "0.12365591397849462"
      ]
     },
     "execution_count": 37,
     "metadata": {},
     "output_type": "execute_result"
    }
   ],
   "source": [
    "from sklearn.metrics import accuracy_score\n",
    "accuracy_score(test_y, y_pred_labels)"
   ]
  },
  {
   "cell_type": "markdown",
   "metadata": {},
   "source": [
    "Model 0.2"
   ]
  },
  {
   "cell_type": "code",
   "execution_count": 15,
   "metadata": {},
   "outputs": [
    {
     "name": "stderr",
     "output_type": "stream",
     "text": [
      "2022-11-25 11:19:58.140524: I tensorflow/core/platform/cpu_feature_guard.cc:193] This TensorFlow binary is optimized with oneAPI Deep Neural Network Library (oneDNN) to use the following CPU instructions in performance-critical operations:  SSE4.1 SSE4.2\n",
      "To enable them in other operations, rebuild TensorFlow with the appropriate compiler flags.\n"
     ]
    },
    {
     "name": "stdout",
     "output_type": "stream",
     "text": [
      "Epoch 1/100\n",
      "516/516 [==============================] - 383s 732ms/step - loss: 0.2917 - accuracy: 0.5205\n",
      "Epoch 2/100\n",
      "516/516 [==============================] - 378s 733ms/step - loss: 0.1856 - accuracy: 0.7462\n",
      "Epoch 3/100\n",
      "516/516 [==============================] - 436s 844ms/step - loss: 0.1418 - accuracy: 0.8238\n",
      "Epoch 4/100\n",
      "516/516 [==============================] - 373s 722ms/step - loss: 0.1166 - accuracy: 0.8646\n",
      "Epoch 5/100\n",
      "516/516 [==============================] - 364s 706ms/step - loss: 0.1007 - accuracy: 0.8896\n",
      "Epoch 6/100\n",
      "516/516 [==============================] - 368s 713ms/step - loss: 0.0872 - accuracy: 0.9051\n",
      "Epoch 7/100\n",
      "516/516 [==============================] - 356s 689ms/step - loss: 0.0774 - accuracy: 0.9213\n",
      "Epoch 8/100\n",
      "516/516 [==============================] - 359s 695ms/step - loss: 0.0688 - accuracy: 0.9319\n",
      "Epoch 9/100\n",
      "516/516 [==============================] - 356s 691ms/step - loss: 0.0637 - accuracy: 0.9395\n",
      "Epoch 10/100\n",
      "516/516 [==============================] - 354s 685ms/step - loss: 0.0572 - accuracy: 0.9467\n",
      "Epoch 11/100\n",
      "516/516 [==============================] - 350s 678ms/step - loss: 0.0537 - accuracy: 0.9513\n",
      "Epoch 12/100\n",
      "516/516 [==============================] - 369s 715ms/step - loss: 0.0487 - accuracy: 0.9563\n",
      "Epoch 13/100\n",
      "516/516 [==============================] - 394s 764ms/step - loss: 0.0461 - accuracy: 0.9598\n",
      "Epoch 14/100\n",
      "516/516 [==============================] - 380s 737ms/step - loss: 0.0426 - accuracy: 0.9634\n",
      "Epoch 15/100\n",
      "516/516 [==============================] - 388s 751ms/step - loss: 0.0390 - accuracy: 0.9659\n",
      "Epoch 16/100\n",
      "516/516 [==============================] - 391s 757ms/step - loss: 0.0359 - accuracy: 0.9702\n",
      "Epoch 17/100\n",
      "516/516 [==============================] - 358s 693ms/step - loss: 0.0356 - accuracy: 0.9699\n",
      "Epoch 18/100\n",
      "516/516 [==============================] - 403s 780ms/step - loss: 0.0329 - accuracy: 0.9747\n",
      "Epoch 19/100\n",
      "516/516 [==============================] - 363s 703ms/step - loss: 0.0316 - accuracy: 0.9749\n",
      "Epoch 20/100\n",
      "516/516 [==============================] - 366s 709ms/step - loss: 0.0284 - accuracy: 0.9782\n",
      "Epoch 21/100\n",
      "516/516 [==============================] - 375s 727ms/step - loss: 0.0271 - accuracy: 0.9790\n",
      "Epoch 22/100\n",
      "516/516 [==============================] - 366s 709ms/step - loss: 0.0300 - accuracy: 0.9751\n",
      "Epoch 23/100\n",
      "516/516 [==============================] - 350s 678ms/step - loss: 0.0254 - accuracy: 0.9812\n",
      "Epoch 24/100\n",
      "516/516 [==============================] - 365s 706ms/step - loss: 0.0246 - accuracy: 0.9808\n",
      "Epoch 25/100\n",
      "516/516 [==============================] - 364s 706ms/step - loss: 0.0236 - accuracy: 0.9820\n",
      "Epoch 26/100\n",
      "516/516 [==============================] - 374s 724ms/step - loss: 0.0217 - accuracy: 0.9847\n",
      "Epoch 27/100\n",
      "516/516 [==============================] - 358s 694ms/step - loss: 0.0206 - accuracy: 0.9854\n",
      "Epoch 28/100\n",
      "516/516 [==============================] - 372s 720ms/step - loss: 0.0212 - accuracy: 0.9839\n",
      "Epoch 29/100\n",
      "516/516 [==============================] - 392s 759ms/step - loss: 0.0200 - accuracy: 0.9861\n",
      "Epoch 30/100\n",
      "516/516 [==============================] - 393s 761ms/step - loss: 0.0185 - accuracy: 0.9873\n",
      "Epoch 31/100\n",
      "516/516 [==============================] - 366s 708ms/step - loss: 0.0204 - accuracy: 0.9840\n",
      "Epoch 32/100\n",
      "516/516 [==============================] - 367s 712ms/step - loss: 0.0193 - accuracy: 0.9850\n",
      "Epoch 33/100\n",
      "516/516 [==============================] - 363s 704ms/step - loss: 0.0181 - accuracy: 0.9857\n",
      "Epoch 34/100\n",
      "516/516 [==============================] - 374s 724ms/step - loss: 0.0168 - accuracy: 0.9891\n",
      "Epoch 35/100\n",
      "516/516 [==============================] - 373s 723ms/step - loss: 0.0164 - accuracy: 0.9896\n",
      "Epoch 36/100\n",
      "516/516 [==============================] - 366s 709ms/step - loss: 0.0184 - accuracy: 0.9874\n",
      "Epoch 37/100\n",
      "516/516 [==============================] - 383s 743ms/step - loss: 0.0138 - accuracy: 0.9921\n",
      "Epoch 38/100\n",
      "516/516 [==============================] - 372s 720ms/step - loss: 0.0134 - accuracy: 0.9928\n",
      "Epoch 39/100\n",
      "516/516 [==============================] - 353s 683ms/step - loss: 0.0147 - accuracy: 0.9909\n",
      "Epoch 40/100\n",
      "516/516 [==============================] - 359s 695ms/step - loss: 0.0152 - accuracy: 0.9907\n",
      "Epoch 41/100\n",
      "516/516 [==============================] - 359s 696ms/step - loss: 0.0130 - accuracy: 0.9925\n",
      "Epoch 42/100\n",
      "516/516 [==============================] - 368s 714ms/step - loss: 0.0130 - accuracy: 0.9914\n",
      "Epoch 43/100\n",
      "516/516 [==============================] - 373s 723ms/step - loss: 0.0133 - accuracy: 0.9898\n",
      "Epoch 44/100\n",
      "516/516 [==============================] - 368s 712ms/step - loss: 0.0166 - accuracy: 0.9854\n",
      "Epoch 45/100\n",
      "516/516 [==============================] - 394s 764ms/step - loss: 0.0142 - accuracy: 0.9896\n",
      "Epoch 46/100\n",
      "516/516 [==============================] - 372s 722ms/step - loss: 0.0137 - accuracy: 0.9897\n",
      "Epoch 47/100\n",
      "516/516 [==============================] - 375s 726ms/step - loss: 0.0142 - accuracy: 0.9890\n",
      "Epoch 48/100\n",
      "516/516 [==============================] - 398s 771ms/step - loss: 0.0135 - accuracy: 0.9896\n",
      "Epoch 49/100\n",
      "516/516 [==============================] - 393s 761ms/step - loss: 0.0116 - accuracy: 0.9913\n",
      "Epoch 50/100\n",
      "516/516 [==============================] - 356s 689ms/step - loss: 0.0120 - accuracy: 0.9905\n",
      "Epoch 51/100\n",
      "516/516 [==============================] - 326s 631ms/step - loss: 0.0122 - accuracy: 0.9901\n",
      "Epoch 52/100\n",
      "516/516 [==============================] - 343s 665ms/step - loss: 0.0162 - accuracy: 0.9864\n",
      "Epoch 53/100\n",
      "516/516 [==============================] - 388s 752ms/step - loss: 0.0119 - accuracy: 0.9903\n",
      "Epoch 54/100\n",
      "516/516 [==============================] - 355s 689ms/step - loss: 0.0109 - accuracy: 0.9915\n",
      "Epoch 55/100\n",
      "516/516 [==============================] - 366s 710ms/step - loss: 0.0106 - accuracy: 0.9917\n",
      "Epoch 56/100\n",
      "516/516 [==============================] - 361s 699ms/step - loss: 0.0108 - accuracy: 0.9911\n",
      "Epoch 57/100\n",
      "516/516 [==============================] - 355s 687ms/step - loss: 0.0123 - accuracy: 0.9895\n",
      "Epoch 58/100\n",
      "516/516 [==============================] - 358s 694ms/step - loss: 0.0132 - accuracy: 0.9891\n",
      "Epoch 59/100\n",
      "516/516 [==============================] - 355s 687ms/step - loss: 0.0132 - accuracy: 0.9884\n",
      "Epoch 60/100\n",
      "516/516 [==============================] - 412s 798ms/step - loss: 0.0105 - accuracy: 0.9915\n",
      "Epoch 61/100\n",
      "516/516 [==============================] - 576s 1s/step - loss: 0.0104 - accuracy: 0.9918\n",
      "Epoch 62/100\n",
      "516/516 [==============================] - 455s 883ms/step - loss: 0.0108 - accuracy: 0.9914\n",
      "Epoch 63/100\n",
      "516/516 [==============================] - 489s 949ms/step - loss: 0.0099 - accuracy: 0.9921\n",
      "Epoch 64/100\n",
      "516/516 [==============================] - 456s 884ms/step - loss: 0.0122 - accuracy: 0.9899\n",
      "Epoch 65/100\n",
      "516/516 [==============================] - 453s 878ms/step - loss: 0.0106 - accuracy: 0.9912\n",
      "Epoch 66/100\n",
      "516/516 [==============================] - 495s 959ms/step - loss: 0.0104 - accuracy: 0.9916\n",
      "Epoch 67/100\n",
      "516/516 [==============================] - 687s 1s/step - loss: 0.0098 - accuracy: 0.9920\n",
      "Epoch 68/100\n",
      "516/516 [==============================] - 445s 861ms/step - loss: 0.0101 - accuracy: 0.9913\n",
      "Epoch 69/100\n",
      "516/516 [==============================] - 389s 753ms/step - loss: 0.0092 - accuracy: 0.9920\n",
      "Epoch 70/100\n",
      "516/516 [==============================] - 393s 762ms/step - loss: 0.0088 - accuracy: 0.9928\n",
      "Epoch 71/100\n",
      "516/516 [==============================] - 365s 708ms/step - loss: 0.0149 - accuracy: 0.9870\n",
      "Epoch 72/100\n",
      "516/516 [==============================] - 391s 757ms/step - loss: 0.0130 - accuracy: 0.9884\n",
      "Epoch 73/100\n",
      "516/516 [==============================] - 383s 743ms/step - loss: 0.0093 - accuracy: 0.9922\n",
      "Epoch 74/100\n",
      "516/516 [==============================] - 384s 744ms/step - loss: 0.0081 - accuracy: 0.9930\n",
      "Epoch 75/100\n",
      "516/516 [==============================] - 645s 1s/step - loss: 0.0078 - accuracy: 0.9931\n",
      "Epoch 76/100\n",
      "516/516 [==============================] - 604s 1s/step - loss: 0.0078 - accuracy: 0.9929\n",
      "Epoch 77/100\n",
      "516/516 [==============================] - 562s 1s/step - loss: 0.0084 - accuracy: 0.9927\n",
      "Epoch 78/100\n",
      "516/516 [==============================] - 578s 1s/step - loss: 0.0182 - accuracy: 0.9831\n",
      "Epoch 79/100\n",
      "516/516 [==============================] - 556s 1s/step - loss: 0.0117 - accuracy: 0.9893\n",
      "Epoch 80/100\n",
      "516/516 [==============================] - 628s 1s/step - loss: 0.0089 - accuracy: 0.9923\n",
      "Epoch 81/100\n",
      "516/516 [==============================] - 690s 1s/step - loss: 0.0083 - accuracy: 0.9928\n",
      "Epoch 82/100\n",
      "516/516 [==============================] - 770s 1s/step - loss: 0.0077 - accuracy: 0.9932\n",
      "Epoch 83/100\n",
      "516/516 [==============================] - 517s 1s/step - loss: 0.0075 - accuracy: 0.9931\n",
      "Epoch 84/100\n",
      "516/516 [==============================] - 504s 977ms/step - loss: 0.0074 - accuracy: 0.9932\n",
      "Epoch 85/100\n",
      "516/516 [==============================] - 578s 1s/step - loss: 0.0124 - accuracy: 0.9885\n",
      "Epoch 86/100\n",
      "516/516 [==============================] - 394s 764ms/step - loss: 0.0120 - accuracy: 0.9890\n",
      "Epoch 87/100\n",
      "516/516 [==============================] - 552s 1s/step - loss: 0.0092 - accuracy: 0.9914\n",
      "Epoch 88/100\n",
      "516/516 [==============================] - 653s 1s/step - loss: 0.0082 - accuracy: 0.9927\n",
      "Epoch 89/100\n",
      "516/516 [==============================] - 696s 1s/step - loss: 0.0083 - accuracy: 0.9927\n",
      "Epoch 90/100\n",
      "516/516 [==============================] - 632s 1s/step - loss: 0.0085 - accuracy: 0.9922\n",
      "Epoch 91/100\n",
      "516/516 [==============================] - 639s 1s/step - loss: 0.0129 - accuracy: 0.9886\n",
      "Epoch 92/100\n",
      "516/516 [==============================] - 571s 1s/step - loss: 0.0110 - accuracy: 0.9902\n",
      "Epoch 93/100\n",
      "516/516 [==============================] - 443s 858ms/step - loss: 0.0089 - accuracy: 0.9919\n",
      "Epoch 94/100\n",
      "516/516 [==============================] - 451s 875ms/step - loss: 0.0094 - accuracy: 0.9913\n",
      "Epoch 95/100\n",
      "516/516 [==============================] - 584s 1s/step - loss: 0.0076 - accuracy: 0.9930\n",
      "Epoch 96/100\n",
      "516/516 [==============================] - 481s 931ms/step - loss: 0.0073 - accuracy: 0.9932\n",
      "Epoch 97/100\n",
      "516/516 [==============================] - 452s 872ms/step - loss: 0.0086 - accuracy: 0.9918\n",
      "Epoch 98/100\n",
      "516/516 [==============================] - 424s 818ms/step - loss: 0.0121 - accuracy: 0.9882\n",
      "Epoch 99/100\n",
      "516/516 [==============================] - 395s 762ms/step - loss: 0.0078 - accuracy: 0.9928\n",
      "Epoch 100/100\n",
      "516/516 [==============================] - 380s 737ms/step - loss: 0.0072 - accuracy: 0.9931\n"
     ]
    },
    {
     "data": {
      "text/plain": [
       "<keras.callbacks.History at 0x7febb9b07790>"
      ]
     },
     "execution_count": 15,
     "metadata": {},
     "output_type": "execute_result"
    }
   ],
   "source": [
    "cnn2=Sequential()\n",
    "cnn2.add(Conv2D(60,(3,3),input_shape=(128,128,3)))\n",
    "cnn2.add(Activation('relu'))\n",
    "cnn2.add(MaxPooling2D(pool_size=(2,2)))\n",
    "\n",
    "cnn2.add(Conv2D(60,(3,3)))\n",
    "cnn2.add(Activation('relu'))\n",
    "cnn2.add(MaxPooling2D(pool_size=(2,2)))\n",
    "\n",
    "cnn2.add(Flatten())\n",
    "cnn2.add(Dense(100,activation='relu',activity_regularizer=l1(0.001)))\n",
    "cnn2.add(Dense(8))\n",
    "cnn2.add(Activation('softmax'))\n",
    "\n",
    "cnn2.compile(loss='binary_crossentropy',optimizer='Adam' ,metrics=['accuracy'])\n",
    "\n",
    "cnn2.fit(train_images, train_labels, epochs=100, verbose=1, shuffle=True)"
   ]
  },
  {
   "cell_type": "code",
   "execution_count": 19,
   "metadata": {},
   "outputs": [
    {
     "data": {
      "text/html": [
       "<div>\n",
       "<style scoped>\n",
       "    .dataframe tbody tr th:only-of-type {\n",
       "        vertical-align: middle;\n",
       "    }\n",
       "\n",
       "    .dataframe tbody tr th {\n",
       "        vertical-align: top;\n",
       "    }\n",
       "\n",
       "    .dataframe thead th {\n",
       "        text-align: right;\n",
       "    }\n",
       "</style>\n",
       "<table border=\"1\" class=\"dataframe\">\n",
       "  <thead>\n",
       "    <tr style=\"text-align: right;\">\n",
       "      <th></th>\n",
       "      <th>antelope_duiker</th>\n",
       "      <th>bird</th>\n",
       "      <th>blank</th>\n",
       "      <th>civet_genet</th>\n",
       "      <th>hog</th>\n",
       "      <th>leopard</th>\n",
       "      <th>monkey_prosimian</th>\n",
       "      <th>rodent</th>\n",
       "    </tr>\n",
       "  </thead>\n",
       "  <tbody>\n",
       "    <tr>\n",
       "      <th>0</th>\n",
       "      <td>0.048233</td>\n",
       "      <td>0.189185</td>\n",
       "      <td>0.044914</td>\n",
       "      <td>0.199588</td>\n",
       "      <td>0.106118</td>\n",
       "      <td>0.132915</td>\n",
       "      <td>0.166410</td>\n",
       "      <td>0.112637</td>\n",
       "    </tr>\n",
       "    <tr>\n",
       "      <th>1</th>\n",
       "      <td>0.097078</td>\n",
       "      <td>0.061400</td>\n",
       "      <td>0.026409</td>\n",
       "      <td>0.241530</td>\n",
       "      <td>0.144344</td>\n",
       "      <td>0.051780</td>\n",
       "      <td>0.287811</td>\n",
       "      <td>0.089648</td>\n",
       "    </tr>\n",
       "    <tr>\n",
       "      <th>2</th>\n",
       "      <td>0.124658</td>\n",
       "      <td>0.089101</td>\n",
       "      <td>0.189225</td>\n",
       "      <td>0.174494</td>\n",
       "      <td>0.180540</td>\n",
       "      <td>0.079995</td>\n",
       "      <td>0.085672</td>\n",
       "      <td>0.076314</td>\n",
       "    </tr>\n",
       "    <tr>\n",
       "      <th>3</th>\n",
       "      <td>0.109966</td>\n",
       "      <td>0.048397</td>\n",
       "      <td>0.055598</td>\n",
       "      <td>0.323600</td>\n",
       "      <td>0.322356</td>\n",
       "      <td>0.063252</td>\n",
       "      <td>0.008160</td>\n",
       "      <td>0.068671</td>\n",
       "    </tr>\n",
       "    <tr>\n",
       "      <th>4</th>\n",
       "      <td>0.165742</td>\n",
       "      <td>0.184610</td>\n",
       "      <td>0.005431</td>\n",
       "      <td>0.136806</td>\n",
       "      <td>0.000389</td>\n",
       "      <td>0.122078</td>\n",
       "      <td>0.151521</td>\n",
       "      <td>0.233423</td>\n",
       "    </tr>\n",
       "    <tr>\n",
       "      <th>...</th>\n",
       "      <td>...</td>\n",
       "      <td>...</td>\n",
       "      <td>...</td>\n",
       "      <td>...</td>\n",
       "      <td>...</td>\n",
       "      <td>...</td>\n",
       "      <td>...</td>\n",
       "      <td>...</td>\n",
       "    </tr>\n",
       "    <tr>\n",
       "      <th>4459</th>\n",
       "      <td>0.143675</td>\n",
       "      <td>0.185103</td>\n",
       "      <td>0.109074</td>\n",
       "      <td>0.158833</td>\n",
       "      <td>0.083497</td>\n",
       "      <td>0.010513</td>\n",
       "      <td>0.155293</td>\n",
       "      <td>0.154011</td>\n",
       "    </tr>\n",
       "    <tr>\n",
       "      <th>4460</th>\n",
       "      <td>0.068913</td>\n",
       "      <td>0.150572</td>\n",
       "      <td>0.197232</td>\n",
       "      <td>0.124579</td>\n",
       "      <td>0.131486</td>\n",
       "      <td>0.152534</td>\n",
       "      <td>0.039096</td>\n",
       "      <td>0.135588</td>\n",
       "    </tr>\n",
       "    <tr>\n",
       "      <th>4461</th>\n",
       "      <td>0.098239</td>\n",
       "      <td>0.149066</td>\n",
       "      <td>0.168635</td>\n",
       "      <td>0.086321</td>\n",
       "      <td>0.136863</td>\n",
       "      <td>0.077155</td>\n",
       "      <td>0.121480</td>\n",
       "      <td>0.162241</td>\n",
       "    </tr>\n",
       "    <tr>\n",
       "      <th>4462</th>\n",
       "      <td>0.036345</td>\n",
       "      <td>0.115411</td>\n",
       "      <td>0.302392</td>\n",
       "      <td>0.072757</td>\n",
       "      <td>0.105491</td>\n",
       "      <td>0.183422</td>\n",
       "      <td>0.106307</td>\n",
       "      <td>0.077875</td>\n",
       "    </tr>\n",
       "    <tr>\n",
       "      <th>4463</th>\n",
       "      <td>0.118298</td>\n",
       "      <td>0.093348</td>\n",
       "      <td>0.088412</td>\n",
       "      <td>0.110691</td>\n",
       "      <td>0.129448</td>\n",
       "      <td>0.009582</td>\n",
       "      <td>0.243225</td>\n",
       "      <td>0.206995</td>\n",
       "    </tr>\n",
       "  </tbody>\n",
       "</table>\n",
       "<p>4464 rows × 8 columns</p>\n",
       "</div>"
      ],
      "text/plain": [
       "      antelope_duiker      bird     blank  civet_genet       hog   leopard  \\\n",
       "0            0.048233  0.189185  0.044914     0.199588  0.106118  0.132915   \n",
       "1            0.097078  0.061400  0.026409     0.241530  0.144344  0.051780   \n",
       "2            0.124658  0.089101  0.189225     0.174494  0.180540  0.079995   \n",
       "3            0.109966  0.048397  0.055598     0.323600  0.322356  0.063252   \n",
       "4            0.165742  0.184610  0.005431     0.136806  0.000389  0.122078   \n",
       "...               ...       ...       ...          ...       ...       ...   \n",
       "4459         0.143675  0.185103  0.109074     0.158833  0.083497  0.010513   \n",
       "4460         0.068913  0.150572  0.197232     0.124579  0.131486  0.152534   \n",
       "4461         0.098239  0.149066  0.168635     0.086321  0.136863  0.077155   \n",
       "4462         0.036345  0.115411  0.302392     0.072757  0.105491  0.183422   \n",
       "4463         0.118298  0.093348  0.088412     0.110691  0.129448  0.009582   \n",
       "\n",
       "      monkey_prosimian    rodent  \n",
       "0             0.166410  0.112637  \n",
       "1             0.287811  0.089648  \n",
       "2             0.085672  0.076314  \n",
       "3             0.008160  0.068671  \n",
       "4             0.151521  0.233423  \n",
       "...                ...       ...  \n",
       "4459          0.155293  0.154011  \n",
       "4460          0.039096  0.135588  \n",
       "4461          0.121480  0.162241  \n",
       "4462          0.106307  0.077875  \n",
       "4463          0.243225  0.206995  \n",
       "\n",
       "[4464 rows x 8 columns]"
      ]
     },
     "execution_count": 19,
     "metadata": {},
     "output_type": "execute_result"
    }
   ],
   "source": [
    "test_labels"
   ]
  },
  {
   "cell_type": "code",
   "execution_count": 20,
   "metadata": {},
   "outputs": [
    {
     "ename": "InvalidIndexError",
     "evalue": "(0, slice(None, None, None))",
     "output_type": "error",
     "traceback": [
      "\u001b[0;31m---------------------------------------------------------------------------\u001b[0m",
      "\u001b[0;31mTypeError\u001b[0m                                 Traceback (most recent call last)",
      "File \u001b[0;32m~/opt/anaconda3/envs/tf/lib/python3.10/site-packages/pandas/core/indexes/base.py:3803\u001b[0m, in \u001b[0;36mIndex.get_loc\u001b[0;34m(self, key, method, tolerance)\u001b[0m\n\u001b[1;32m   3802\u001b[0m \u001b[39mtry\u001b[39;00m:\n\u001b[0;32m-> 3803\u001b[0m     \u001b[39mreturn\u001b[39;00m \u001b[39mself\u001b[39;49m\u001b[39m.\u001b[39;49m_engine\u001b[39m.\u001b[39;49mget_loc(casted_key)\n\u001b[1;32m   3804\u001b[0m \u001b[39mexcept\u001b[39;00m \u001b[39mKeyError\u001b[39;00m \u001b[39mas\u001b[39;00m err:\n",
      "File \u001b[0;32m~/opt/anaconda3/envs/tf/lib/python3.10/site-packages/pandas/_libs/index.pyx:138\u001b[0m, in \u001b[0;36mpandas._libs.index.IndexEngine.get_loc\u001b[0;34m()\u001b[0m\n",
      "File \u001b[0;32m~/opt/anaconda3/envs/tf/lib/python3.10/site-packages/pandas/_libs/index.pyx:144\u001b[0m, in \u001b[0;36mpandas._libs.index.IndexEngine.get_loc\u001b[0;34m()\u001b[0m\n",
      "\u001b[0;31mTypeError\u001b[0m: '(0, slice(None, None, None))' is an invalid key",
      "\nDuring handling of the above exception, another exception occurred:\n",
      "\u001b[0;31mInvalidIndexError\u001b[0m                         Traceback (most recent call last)",
      "Cell \u001b[0;32mIn [20], line 1\u001b[0m\n\u001b[0;32m----> 1\u001b[0m y_test_labels \u001b[39m=\u001b[39m np\u001b[39m.\u001b[39marray([np\u001b[39m.\u001b[39margmax(test_labels[i, :])\n\u001b[1;32m      2\u001b[0m                          \u001b[39mfor\u001b[39;00m i \u001b[39min\u001b[39;00m \u001b[39mrange\u001b[39m(test_labels\u001b[39m.\u001b[39mshape[\u001b[39m0\u001b[39m])])\n\u001b[1;32m      3\u001b[0m y_test_labels\n",
      "Cell \u001b[0;32mIn [20], line 1\u001b[0m, in \u001b[0;36m<listcomp>\u001b[0;34m(.0)\u001b[0m\n\u001b[0;32m----> 1\u001b[0m y_test_labels \u001b[39m=\u001b[39m np\u001b[39m.\u001b[39marray([np\u001b[39m.\u001b[39margmax(test_labels[i, :])\n\u001b[1;32m      2\u001b[0m                          \u001b[39mfor\u001b[39;00m i \u001b[39min\u001b[39;00m \u001b[39mrange\u001b[39m(test_labels\u001b[39m.\u001b[39mshape[\u001b[39m0\u001b[39m])])\n\u001b[1;32m      3\u001b[0m y_test_labels\n",
      "File \u001b[0;32m~/opt/anaconda3/envs/tf/lib/python3.10/site-packages/pandas/core/frame.py:3805\u001b[0m, in \u001b[0;36mDataFrame.__getitem__\u001b[0;34m(self, key)\u001b[0m\n\u001b[1;32m   3803\u001b[0m \u001b[39mif\u001b[39;00m \u001b[39mself\u001b[39m\u001b[39m.\u001b[39mcolumns\u001b[39m.\u001b[39mnlevels \u001b[39m>\u001b[39m \u001b[39m1\u001b[39m:\n\u001b[1;32m   3804\u001b[0m     \u001b[39mreturn\u001b[39;00m \u001b[39mself\u001b[39m\u001b[39m.\u001b[39m_getitem_multilevel(key)\n\u001b[0;32m-> 3805\u001b[0m indexer \u001b[39m=\u001b[39m \u001b[39mself\u001b[39;49m\u001b[39m.\u001b[39;49mcolumns\u001b[39m.\u001b[39;49mget_loc(key)\n\u001b[1;32m   3806\u001b[0m \u001b[39mif\u001b[39;00m is_integer(indexer):\n\u001b[1;32m   3807\u001b[0m     indexer \u001b[39m=\u001b[39m [indexer]\n",
      "File \u001b[0;32m~/opt/anaconda3/envs/tf/lib/python3.10/site-packages/pandas/core/indexes/base.py:3810\u001b[0m, in \u001b[0;36mIndex.get_loc\u001b[0;34m(self, key, method, tolerance)\u001b[0m\n\u001b[1;32m   3805\u001b[0m         \u001b[39mraise\u001b[39;00m \u001b[39mKeyError\u001b[39;00m(key) \u001b[39mfrom\u001b[39;00m \u001b[39merr\u001b[39;00m\n\u001b[1;32m   3806\u001b[0m     \u001b[39mexcept\u001b[39;00m \u001b[39mTypeError\u001b[39;00m:\n\u001b[1;32m   3807\u001b[0m         \u001b[39m# If we have a listlike key, _check_indexing_error will raise\u001b[39;00m\n\u001b[1;32m   3808\u001b[0m         \u001b[39m#  InvalidIndexError. Otherwise we fall through and re-raise\u001b[39;00m\n\u001b[1;32m   3809\u001b[0m         \u001b[39m#  the TypeError.\u001b[39;00m\n\u001b[0;32m-> 3810\u001b[0m         \u001b[39mself\u001b[39;49m\u001b[39m.\u001b[39;49m_check_indexing_error(key)\n\u001b[1;32m   3811\u001b[0m         \u001b[39mraise\u001b[39;00m\n\u001b[1;32m   3813\u001b[0m \u001b[39m# GH#42269\u001b[39;00m\n",
      "File \u001b[0;32m~/opt/anaconda3/envs/tf/lib/python3.10/site-packages/pandas/core/indexes/base.py:5968\u001b[0m, in \u001b[0;36mIndex._check_indexing_error\u001b[0;34m(self, key)\u001b[0m\n\u001b[1;32m   5964\u001b[0m \u001b[39mdef\u001b[39;00m \u001b[39m_check_indexing_error\u001b[39m(\u001b[39mself\u001b[39m, key):\n\u001b[1;32m   5965\u001b[0m     \u001b[39mif\u001b[39;00m \u001b[39mnot\u001b[39;00m is_scalar(key):\n\u001b[1;32m   5966\u001b[0m         \u001b[39m# if key is not a scalar, directly raise an error (the code below\u001b[39;00m\n\u001b[1;32m   5967\u001b[0m         \u001b[39m# would convert to numpy arrays and raise later any way) - GH29926\u001b[39;00m\n\u001b[0;32m-> 5968\u001b[0m         \u001b[39mraise\u001b[39;00m InvalidIndexError(key)\n",
      "\u001b[0;31mInvalidIndexError\u001b[0m: (0, slice(None, None, None))"
     ]
    }
   ],
   "source": [
    "y_test_labels = np.array([np.argmax(test_labels[i, :])\n",
    "                         for i in range(test_labels.shape[0])])\n",
    "y_test_labels\n"
   ]
  },
  {
   "cell_type": "markdown",
   "metadata": {},
   "source": [
    "Model 1"
   ]
  },
  {
   "cell_type": "code",
   "execution_count": 22,
   "metadata": {},
   "outputs": [],
   "source": [
    "model1 = Sequential()\n",
    "\n",
    "model1.add(Conv2D(32, (3,3), activation='relu', input_shape=(128, 128, 3)))\n",
    "model1.add(MaxPooling2D(2,2))\n",
    "\n",
    "model1.add(Conv2D(32, (3,3), activation='relu'))\n",
    "model1.add(MaxPooling2D((2,2)))\n",
    "\n",
    "model1.add(Flatten())\n",
    "model1.add(Dense(64, activation='relu'))\n",
    "model1.add(Dense(1, activation='sigmoid'))"
   ]
  },
  {
   "cell_type": "code",
   "execution_count": 23,
   "metadata": {},
   "outputs": [],
   "source": [
    "opt1 = keras.optimizers.SGD(learning_rate=0.001)\n",
    "model1.compile(loss='binary_crossentropy', optimizer=opt, metrics=['accuracy'])"
   ]
  },
  {
   "cell_type": "code",
   "execution_count": 15,
   "metadata": {},
   "outputs": [
    {
     "name": "stdout",
     "output_type": "stream",
     "text": [
      "Epoch 1/5\n",
      "258/258 [==============================] - 73s 273ms/step - loss: nan - accuracy: 0.1474\n",
      "Epoch 2/5\n",
      "258/258 [==============================] - 68s 263ms/step - loss: nan - accuracy: 0.1500\n",
      "Epoch 3/5\n",
      "258/258 [==============================] - 64s 247ms/step - loss: nan - accuracy: 0.1500\n",
      "Epoch 4/5\n",
      "258/258 [==============================] - 68s 262ms/step - loss: nan - accuracy: 0.1500\n",
      "Epoch 5/5\n",
      "258/258 [==============================] - 63s 245ms/step - loss: nan - accuracy: 0.1500\n"
     ]
    },
    {
     "data": {
      "text/plain": [
       "<keras.callbacks.History at 0x7ff7145c3bb0>"
      ]
     },
     "execution_count": 15,
     "metadata": {},
     "output_type": "execute_result"
    }
   ],
   "source": [
    "model1.fit(train_images, train_y, epochs=5, batch_size=64)"
   ]
  },
  {
   "cell_type": "code",
   "execution_count": 17,
   "metadata": {},
   "outputs": [
    {
     "name": "stdout",
     "output_type": "stream",
     "text": [
      "140/140 [==============================] - 6s 38ms/step - loss: nan - accuracy: 0.1147\n"
     ]
    },
    {
     "data": {
      "text/plain": [
       "[nan, 0.11469534039497375]"
      ]
     },
     "execution_count": 17,
     "metadata": {},
     "output_type": "execute_result"
    }
   ],
   "source": [
    "model1.evaluate(test_images, test_y)"
   ]
  },
  {
   "cell_type": "markdown",
   "metadata": {},
   "source": [
    "Model 2"
   ]
  },
  {
   "cell_type": "code",
   "execution_count": 29,
   "metadata": {},
   "outputs": [],
   "source": [
    "model2 = Sequential()\n",
    "\n",
    "model2.add(Conv2D(16, (3,3), 1, activation='relu', input_shape=(128, 128, 3)))\n",
    "model2.add(MaxPooling2D())\n",
    "\n",
    "model2.add(Conv2D(32, (3,3), 1, activation='relu'))\n",
    "model2.add(MaxPooling2D())\n",
    "\n",
    "model2.add(Conv2D(16, (3,3), 1, activation='relu'))\n",
    "model2.add(MaxPooling2D())\n",
    "\n",
    "model2.add(Flatten())\n",
    "model2.add(Dense(256, activation='relu'))\n",
    "model2.add(Dense(1, activation='sigmoid'))\n"
   ]
  },
  {
   "cell_type": "code",
   "execution_count": 30,
   "metadata": {},
   "outputs": [],
   "source": [
    "opt2 = keras.optimizers.Adam(learning_rate=0.01)\n",
    "model2.compile(loss='binary_crossentropy', optimizer=opt2, metrics=['accuracy'])"
   ]
  },
  {
   "cell_type": "code",
   "execution_count": 31,
   "metadata": {},
   "outputs": [
    {
     "name": "stdout",
     "output_type": "stream",
     "text": [
      "Epoch 1/5\n",
      "258/258 [==============================] - 77s 285ms/step - loss: -99740482011136.0000 - accuracy: 0.0996\n",
      "Epoch 2/5\n",
      "258/258 [==============================] - 79s 306ms/step - loss: -13150134372139008.0000 - accuracy: 0.0995\n",
      "Epoch 3/5\n",
      "258/258 [==============================] - 62s 240ms/step - loss: -167500666527285248.0000 - accuracy: 0.0995\n",
      "Epoch 4/5\n",
      "258/258 [==============================] - 79s 305ms/step - loss: -871972163173744640.0000 - accuracy: 0.0995\n",
      "Epoch 5/5\n",
      "258/258 [==============================] - 72s 278ms/step - loss: -2883836205848330240.0000 - accuracy: 0.0995\n"
     ]
    },
    {
     "data": {
      "text/plain": [
       "<keras.callbacks.History at 0x7ff6d03eff10>"
      ]
     },
     "execution_count": 31,
     "metadata": {},
     "output_type": "execute_result"
    }
   ],
   "source": [
    "model2.fit(train_images, train_y, epochs=5, batch_size=64)"
   ]
  }
 ],
 "metadata": {
  "kernelspec": {
   "display_name": "Python 3 (ipykernel)",
   "language": "python",
   "name": "python3"
  },
  "language_info": {
   "codemirror_mode": {
    "name": "ipython",
    "version": 3
   },
   "file_extension": ".py",
   "mimetype": "text/x-python",
   "name": "python",
   "nbconvert_exporter": "python",
   "pygments_lexer": "ipython3",
   "version": "3.10.0"
  },
  "vscode": {
   "interpreter": {
    "hash": "e183dff85cac8af035455603001bc3ea3c4ef86e9ba7cbcb886269a33576d0bf"
   }
  }
 },
 "nbformat": 4,
 "nbformat_minor": 2
}
