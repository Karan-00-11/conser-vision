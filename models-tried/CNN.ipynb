{
 "cells": [
  {
   "cell_type": "markdown",
   "id": "06625283",
   "metadata": {},
   "source": [
    "# Load dependencies"
   ]
  },
  {
   "cell_type": "code",
   "execution_count": 5,
   "id": "6ea5f683",
   "metadata": {},
   "outputs": [],
   "source": [
    "import tensorflow as tf\n",
    "import os\n",
    "import pandas as pd\n",
    "import numpy as np\n",
    "# from tensorflow.compact.v1 import ConfigProto"
   ]
  },
  {
   "cell_type": "code",
   "execution_count": 6,
   "id": "dd039218",
   "metadata": {},
   "outputs": [],
   "source": [
    "# np."
   ]
  },
  {
   "cell_type": "code",
   "execution_count": 7,
   "id": "7296da54",
   "metadata": {},
   "outputs": [],
   "source": [
    "# import tensorflow as tf\n",
    "# print(\"Num of GPUs available: \", len(tf.test.gpu_device_name()))\n"
   ]
  },
  {
   "cell_type": "code",
   "execution_count": 8,
   "id": "481575d3",
   "metadata": {},
   "outputs": [
    {
     "data": {
      "text/plain": [
       "[PhysicalDevice(name='/physical_device:GPU:0', device_type='GPU')]"
      ]
     },
     "execution_count": 8,
     "metadata": {},
     "output_type": "execute_result"
    }
   ],
   "source": [
    "gpus=tf.config.experimental.list_physical_devices(\"GPU\")\n",
    "for gpu in gpus:\n",
    "    tf.config.experimental.set_memory_growth(gpu,True)\n",
    "gpus"
   ]
  },
  {
   "cell_type": "code",
   "execution_count": 9,
   "id": "3b514d23",
   "metadata": {},
   "outputs": [
    {
     "name": "stdout",
     "output_type": "stream",
     "text": [
      "D:\\Course\\DrivenData Project\n"
     ]
    }
   ],
   "source": [
    "cd D:/Course/DrivenData Project"
   ]
  },
  {
   "cell_type": "code",
   "execution_count": 10,
   "id": "7fde3f6b",
   "metadata": {},
   "outputs": [
    {
     "name": "stdout",
     "output_type": "stream",
     "text": [
      "1.5.1\n"
     ]
    }
   ],
   "source": [
    "print(pd.__version__)"
   ]
  },
  {
   "cell_type": "markdown",
   "id": "e489e9ee",
   "metadata": {},
   "source": [
    "# Import Files\n"
   ]
  },
  {
   "cell_type": "code",
   "execution_count": 11,
   "id": "b6788f72",
   "metadata": {},
   "outputs": [
    {
     "data": {
      "text/plain": [
       "16488"
      ]
     },
     "execution_count": 11,
     "metadata": {},
     "output_type": "execute_result"
    }
   ],
   "source": [
    "data_dir='Dataset'\n",
    "t=os.path.join(data_dir,'train_features')\n",
    "p=os.listdir(os.path.join(data_dir,'train_features'))\n",
    "len(p)"
   ]
  },
  {
   "cell_type": "code",
   "execution_count": 12,
   "id": "9a4a8bdc",
   "metadata": {},
   "outputs": [
    {
     "data": {
      "text/html": [
       "<div>\n",
       "<style scoped>\n",
       "    .dataframe tbody tr th:only-of-type {\n",
       "        vertical-align: middle;\n",
       "    }\n",
       "\n",
       "    .dataframe tbody tr th {\n",
       "        vertical-align: top;\n",
       "    }\n",
       "\n",
       "    .dataframe thead th {\n",
       "        text-align: right;\n",
       "    }\n",
       "</style>\n",
       "<table border=\"1\" class=\"dataframe\">\n",
       "  <thead>\n",
       "    <tr style=\"text-align: right;\">\n",
       "      <th></th>\n",
       "      <th>id</th>\n",
       "      <th>filepath</th>\n",
       "      <th>site</th>\n",
       "    </tr>\n",
       "  </thead>\n",
       "  <tbody>\n",
       "    <tr>\n",
       "      <th>0</th>\n",
       "      <td>ZJ000000</td>\n",
       "      <td>train_features/ZJ000000.jpg</td>\n",
       "      <td>S0120</td>\n",
       "    </tr>\n",
       "    <tr>\n",
       "      <th>1</th>\n",
       "      <td>ZJ000001</td>\n",
       "      <td>train_features/ZJ000001.jpg</td>\n",
       "      <td>S0069</td>\n",
       "    </tr>\n",
       "    <tr>\n",
       "      <th>2</th>\n",
       "      <td>ZJ000002</td>\n",
       "      <td>train_features/ZJ000002.jpg</td>\n",
       "      <td>S0009</td>\n",
       "    </tr>\n",
       "    <tr>\n",
       "      <th>3</th>\n",
       "      <td>ZJ000003</td>\n",
       "      <td>train_features/ZJ000003.jpg</td>\n",
       "      <td>S0008</td>\n",
       "    </tr>\n",
       "    <tr>\n",
       "      <th>4</th>\n",
       "      <td>ZJ000004</td>\n",
       "      <td>train_features/ZJ000004.jpg</td>\n",
       "      <td>S0036</td>\n",
       "    </tr>\n",
       "    <tr>\n",
       "      <th>...</th>\n",
       "      <td>...</td>\n",
       "      <td>...</td>\n",
       "      <td>...</td>\n",
       "    </tr>\n",
       "    <tr>\n",
       "      <th>16483</th>\n",
       "      <td>ZJ016483</td>\n",
       "      <td>train_features/ZJ016483.jpg</td>\n",
       "      <td>S0093</td>\n",
       "    </tr>\n",
       "    <tr>\n",
       "      <th>16484</th>\n",
       "      <td>ZJ016484</td>\n",
       "      <td>train_features/ZJ016484.jpg</td>\n",
       "      <td>S0043</td>\n",
       "    </tr>\n",
       "    <tr>\n",
       "      <th>16485</th>\n",
       "      <td>ZJ016485</td>\n",
       "      <td>train_features/ZJ016485.jpg</td>\n",
       "      <td>S0089</td>\n",
       "    </tr>\n",
       "    <tr>\n",
       "      <th>16486</th>\n",
       "      <td>ZJ016486</td>\n",
       "      <td>train_features/ZJ016486.jpg</td>\n",
       "      <td>S0095</td>\n",
       "    </tr>\n",
       "    <tr>\n",
       "      <th>16487</th>\n",
       "      <td>ZJ016487</td>\n",
       "      <td>train_features/ZJ016487.jpg</td>\n",
       "      <td>S0021</td>\n",
       "    </tr>\n",
       "  </tbody>\n",
       "</table>\n",
       "<p>16488 rows × 3 columns</p>\n",
       "</div>"
      ],
      "text/plain": [
       "             id                     filepath   site\n",
       "0      ZJ000000  train_features/ZJ000000.jpg  S0120\n",
       "1      ZJ000001  train_features/ZJ000001.jpg  S0069\n",
       "2      ZJ000002  train_features/ZJ000002.jpg  S0009\n",
       "3      ZJ000003  train_features/ZJ000003.jpg  S0008\n",
       "4      ZJ000004  train_features/ZJ000004.jpg  S0036\n",
       "...         ...                          ...    ...\n",
       "16483  ZJ016483  train_features/ZJ016483.jpg  S0093\n",
       "16484  ZJ016484  train_features/ZJ016484.jpg  S0043\n",
       "16485  ZJ016485  train_features/ZJ016485.jpg  S0089\n",
       "16486  ZJ016486  train_features/ZJ016486.jpg  S0095\n",
       "16487  ZJ016487  train_features/ZJ016487.jpg  S0021\n",
       "\n",
       "[16488 rows x 3 columns]"
      ]
     },
     "execution_count": 12,
     "metadata": {},
     "output_type": "execute_result"
    }
   ],
   "source": [
    "df=pd.read_csv(os.path.join(data_dir,'train_features.csv'))\n",
    "df"
   ]
  },
  {
   "cell_type": "code",
   "execution_count": 13,
   "id": "08e214a2",
   "metadata": {},
   "outputs": [
    {
     "data": {
      "text/html": [
       "<div>\n",
       "<style scoped>\n",
       "    .dataframe tbody tr th:only-of-type {\n",
       "        vertical-align: middle;\n",
       "    }\n",
       "\n",
       "    .dataframe tbody tr th {\n",
       "        vertical-align: top;\n",
       "    }\n",
       "\n",
       "    .dataframe thead th {\n",
       "        text-align: right;\n",
       "    }\n",
       "</style>\n",
       "<table border=\"1\" class=\"dataframe\">\n",
       "  <thead>\n",
       "    <tr style=\"text-align: right;\">\n",
       "      <th></th>\n",
       "      <th>id</th>\n",
       "      <th>antelope_duiker</th>\n",
       "      <th>bird</th>\n",
       "      <th>blank</th>\n",
       "      <th>civet_genet</th>\n",
       "      <th>hog</th>\n",
       "      <th>leopard</th>\n",
       "      <th>monkey_prosimian</th>\n",
       "      <th>rodent</th>\n",
       "    </tr>\n",
       "  </thead>\n",
       "  <tbody>\n",
       "    <tr>\n",
       "      <th>0</th>\n",
       "      <td>ZJ000000</td>\n",
       "      <td>0.0</td>\n",
       "      <td>1.0</td>\n",
       "      <td>0.0</td>\n",
       "      <td>0.0</td>\n",
       "      <td>0.0</td>\n",
       "      <td>0.0</td>\n",
       "      <td>0.0</td>\n",
       "      <td>0.0</td>\n",
       "    </tr>\n",
       "    <tr>\n",
       "      <th>1</th>\n",
       "      <td>ZJ000001</td>\n",
       "      <td>0.0</td>\n",
       "      <td>0.0</td>\n",
       "      <td>0.0</td>\n",
       "      <td>0.0</td>\n",
       "      <td>0.0</td>\n",
       "      <td>0.0</td>\n",
       "      <td>1.0</td>\n",
       "      <td>0.0</td>\n",
       "    </tr>\n",
       "    <tr>\n",
       "      <th>2</th>\n",
       "      <td>ZJ000002</td>\n",
       "      <td>0.0</td>\n",
       "      <td>1.0</td>\n",
       "      <td>0.0</td>\n",
       "      <td>0.0</td>\n",
       "      <td>0.0</td>\n",
       "      <td>0.0</td>\n",
       "      <td>0.0</td>\n",
       "      <td>0.0</td>\n",
       "    </tr>\n",
       "    <tr>\n",
       "      <th>3</th>\n",
       "      <td>ZJ000003</td>\n",
       "      <td>0.0</td>\n",
       "      <td>0.0</td>\n",
       "      <td>0.0</td>\n",
       "      <td>0.0</td>\n",
       "      <td>0.0</td>\n",
       "      <td>0.0</td>\n",
       "      <td>1.0</td>\n",
       "      <td>0.0</td>\n",
       "    </tr>\n",
       "    <tr>\n",
       "      <th>4</th>\n",
       "      <td>ZJ000004</td>\n",
       "      <td>0.0</td>\n",
       "      <td>0.0</td>\n",
       "      <td>0.0</td>\n",
       "      <td>0.0</td>\n",
       "      <td>0.0</td>\n",
       "      <td>1.0</td>\n",
       "      <td>0.0</td>\n",
       "      <td>0.0</td>\n",
       "    </tr>\n",
       "    <tr>\n",
       "      <th>...</th>\n",
       "      <td>...</td>\n",
       "      <td>...</td>\n",
       "      <td>...</td>\n",
       "      <td>...</td>\n",
       "      <td>...</td>\n",
       "      <td>...</td>\n",
       "      <td>...</td>\n",
       "      <td>...</td>\n",
       "      <td>...</td>\n",
       "    </tr>\n",
       "    <tr>\n",
       "      <th>16483</th>\n",
       "      <td>ZJ016483</td>\n",
       "      <td>0.0</td>\n",
       "      <td>0.0</td>\n",
       "      <td>1.0</td>\n",
       "      <td>0.0</td>\n",
       "      <td>0.0</td>\n",
       "      <td>0.0</td>\n",
       "      <td>0.0</td>\n",
       "      <td>0.0</td>\n",
       "    </tr>\n",
       "    <tr>\n",
       "      <th>16484</th>\n",
       "      <td>ZJ016484</td>\n",
       "      <td>0.0</td>\n",
       "      <td>0.0</td>\n",
       "      <td>0.0</td>\n",
       "      <td>0.0</td>\n",
       "      <td>0.0</td>\n",
       "      <td>1.0</td>\n",
       "      <td>0.0</td>\n",
       "      <td>0.0</td>\n",
       "    </tr>\n",
       "    <tr>\n",
       "      <th>16485</th>\n",
       "      <td>ZJ016485</td>\n",
       "      <td>0.0</td>\n",
       "      <td>0.0</td>\n",
       "      <td>0.0</td>\n",
       "      <td>1.0</td>\n",
       "      <td>0.0</td>\n",
       "      <td>0.0</td>\n",
       "      <td>0.0</td>\n",
       "      <td>0.0</td>\n",
       "    </tr>\n",
       "    <tr>\n",
       "      <th>16486</th>\n",
       "      <td>ZJ016486</td>\n",
       "      <td>0.0</td>\n",
       "      <td>1.0</td>\n",
       "      <td>0.0</td>\n",
       "      <td>0.0</td>\n",
       "      <td>0.0</td>\n",
       "      <td>0.0</td>\n",
       "      <td>0.0</td>\n",
       "      <td>0.0</td>\n",
       "    </tr>\n",
       "    <tr>\n",
       "      <th>16487</th>\n",
       "      <td>ZJ016487</td>\n",
       "      <td>0.0</td>\n",
       "      <td>0.0</td>\n",
       "      <td>0.0</td>\n",
       "      <td>1.0</td>\n",
       "      <td>0.0</td>\n",
       "      <td>0.0</td>\n",
       "      <td>0.0</td>\n",
       "      <td>0.0</td>\n",
       "    </tr>\n",
       "  </tbody>\n",
       "</table>\n",
       "<p>16488 rows × 9 columns</p>\n",
       "</div>"
      ],
      "text/plain": [
       "             id  antelope_duiker  bird  blank  civet_genet  hog  leopard  \\\n",
       "0      ZJ000000              0.0   1.0    0.0          0.0  0.0      0.0   \n",
       "1      ZJ000001              0.0   0.0    0.0          0.0  0.0      0.0   \n",
       "2      ZJ000002              0.0   1.0    0.0          0.0  0.0      0.0   \n",
       "3      ZJ000003              0.0   0.0    0.0          0.0  0.0      0.0   \n",
       "4      ZJ000004              0.0   0.0    0.0          0.0  0.0      1.0   \n",
       "...         ...              ...   ...    ...          ...  ...      ...   \n",
       "16483  ZJ016483              0.0   0.0    1.0          0.0  0.0      0.0   \n",
       "16484  ZJ016484              0.0   0.0    0.0          0.0  0.0      1.0   \n",
       "16485  ZJ016485              0.0   0.0    0.0          1.0  0.0      0.0   \n",
       "16486  ZJ016486              0.0   1.0    0.0          0.0  0.0      0.0   \n",
       "16487  ZJ016487              0.0   0.0    0.0          1.0  0.0      0.0   \n",
       "\n",
       "       monkey_prosimian  rodent  \n",
       "0                   0.0     0.0  \n",
       "1                   1.0     0.0  \n",
       "2                   0.0     0.0  \n",
       "3                   1.0     0.0  \n",
       "4                   0.0     0.0  \n",
       "...                 ...     ...  \n",
       "16483               0.0     0.0  \n",
       "16484               0.0     0.0  \n",
       "16485               0.0     0.0  \n",
       "16486               0.0     0.0  \n",
       "16487               0.0     0.0  \n",
       "\n",
       "[16488 rows x 9 columns]"
      ]
     },
     "execution_count": 13,
     "metadata": {},
     "output_type": "execute_result"
    }
   ],
   "source": [
    "train_labels = pd.read_csv(os.path.join(data_dir,'train_labels.csv'))\n",
    "classes = train_labels.columns[1:]\n",
    "t_labels = train_labels.iloc[:, 1:]\n",
    "train_y = np.array([np.argmax(t_labels.iloc[i, :]) for i in range(t_labels.shape[0])])\n",
    "l=list(train_y)\n",
    "train_labels\n"
   ]
  },
  {
   "cell_type": "code",
   "execution_count": 14,
   "id": "547792b9",
   "metadata": {},
   "outputs": [
    {
     "data": {
      "text/plain": [
       "0        1\n",
       "1        6\n",
       "2        1\n",
       "3        6\n",
       "4        5\n",
       "        ..\n",
       "16483    2\n",
       "16484    5\n",
       "16485    3\n",
       "16486    1\n",
       "16487    3\n",
       "Name: label, Length: 16488, dtype: object"
      ]
     },
     "execution_count": 14,
     "metadata": {},
     "output_type": "execute_result"
    }
   ],
   "source": [
    "df['label']=l\n",
    "# df['label']=df[l].apply(lambda x: x.tolist())\n",
    "df['label'].astype(dtype=str)"
   ]
  },
  {
   "cell_type": "code",
   "execution_count": 15,
   "id": "1caf17bc",
   "metadata": {},
   "outputs": [],
   "source": [
    "img_filepath=df['filepath']\n",
    "batch_size=32\n",
    "# img_filepath.shape\n",
    "# "
   ]
  },
  {
   "cell_type": "code",
   "execution_count": 30,
   "id": "6a391638",
   "metadata": {},
   "outputs": [
    {
     "data": {
      "text/html": [
       "<div>\n",
       "<style scoped>\n",
       "    .dataframe tbody tr th:only-of-type {\n",
       "        vertical-align: middle;\n",
       "    }\n",
       "\n",
       "    .dataframe tbody tr th {\n",
       "        vertical-align: top;\n",
       "    }\n",
       "\n",
       "    .dataframe thead th {\n",
       "        text-align: right;\n",
       "    }\n",
       "</style>\n",
       "<table border=\"1\" class=\"dataframe\">\n",
       "  <thead>\n",
       "    <tr style=\"text-align: right;\">\n",
       "      <th></th>\n",
       "      <th>filepath</th>\n",
       "      <th>site</th>\n",
       "      <th>label</th>\n",
       "      <th>antelope_duiker</th>\n",
       "      <th>bird</th>\n",
       "      <th>blank</th>\n",
       "      <th>civet_genet</th>\n",
       "      <th>hog</th>\n",
       "      <th>leopard</th>\n",
       "      <th>monkey_prosimian</th>\n",
       "      <th>rodent</th>\n",
       "    </tr>\n",
       "    <tr>\n",
       "      <th>id</th>\n",
       "      <th></th>\n",
       "      <th></th>\n",
       "      <th></th>\n",
       "      <th></th>\n",
       "      <th></th>\n",
       "      <th></th>\n",
       "      <th></th>\n",
       "      <th></th>\n",
       "      <th></th>\n",
       "      <th></th>\n",
       "      <th></th>\n",
       "    </tr>\n",
       "  </thead>\n",
       "  <tbody>\n",
       "    <tr>\n",
       "      <th>ZJ000000</th>\n",
       "      <td>train_features/ZJ000000.jpg</td>\n",
       "      <td>S0120</td>\n",
       "      <td>1</td>\n",
       "      <td>0.0</td>\n",
       "      <td>1.0</td>\n",
       "      <td>0.0</td>\n",
       "      <td>0.0</td>\n",
       "      <td>0.0</td>\n",
       "      <td>0.0</td>\n",
       "      <td>0.0</td>\n",
       "      <td>0.0</td>\n",
       "    </tr>\n",
       "    <tr>\n",
       "      <th>ZJ000001</th>\n",
       "      <td>train_features/ZJ000001.jpg</td>\n",
       "      <td>S0069</td>\n",
       "      <td>6</td>\n",
       "      <td>0.0</td>\n",
       "      <td>0.0</td>\n",
       "      <td>0.0</td>\n",
       "      <td>0.0</td>\n",
       "      <td>0.0</td>\n",
       "      <td>0.0</td>\n",
       "      <td>1.0</td>\n",
       "      <td>0.0</td>\n",
       "    </tr>\n",
       "    <tr>\n",
       "      <th>ZJ000002</th>\n",
       "      <td>train_features/ZJ000002.jpg</td>\n",
       "      <td>S0009</td>\n",
       "      <td>1</td>\n",
       "      <td>0.0</td>\n",
       "      <td>1.0</td>\n",
       "      <td>0.0</td>\n",
       "      <td>0.0</td>\n",
       "      <td>0.0</td>\n",
       "      <td>0.0</td>\n",
       "      <td>0.0</td>\n",
       "      <td>0.0</td>\n",
       "    </tr>\n",
       "    <tr>\n",
       "      <th>ZJ000003</th>\n",
       "      <td>train_features/ZJ000003.jpg</td>\n",
       "      <td>S0008</td>\n",
       "      <td>6</td>\n",
       "      <td>0.0</td>\n",
       "      <td>0.0</td>\n",
       "      <td>0.0</td>\n",
       "      <td>0.0</td>\n",
       "      <td>0.0</td>\n",
       "      <td>0.0</td>\n",
       "      <td>1.0</td>\n",
       "      <td>0.0</td>\n",
       "    </tr>\n",
       "    <tr>\n",
       "      <th>ZJ000004</th>\n",
       "      <td>train_features/ZJ000004.jpg</td>\n",
       "      <td>S0036</td>\n",
       "      <td>5</td>\n",
       "      <td>0.0</td>\n",
       "      <td>0.0</td>\n",
       "      <td>0.0</td>\n",
       "      <td>0.0</td>\n",
       "      <td>0.0</td>\n",
       "      <td>1.0</td>\n",
       "      <td>0.0</td>\n",
       "      <td>0.0</td>\n",
       "    </tr>\n",
       "    <tr>\n",
       "      <th>...</th>\n",
       "      <td>...</td>\n",
       "      <td>...</td>\n",
       "      <td>...</td>\n",
       "      <td>...</td>\n",
       "      <td>...</td>\n",
       "      <td>...</td>\n",
       "      <td>...</td>\n",
       "      <td>...</td>\n",
       "      <td>...</td>\n",
       "      <td>...</td>\n",
       "      <td>...</td>\n",
       "    </tr>\n",
       "    <tr>\n",
       "      <th>ZJ016483</th>\n",
       "      <td>train_features/ZJ016483.jpg</td>\n",
       "      <td>S0093</td>\n",
       "      <td>2</td>\n",
       "      <td>0.0</td>\n",
       "      <td>0.0</td>\n",
       "      <td>1.0</td>\n",
       "      <td>0.0</td>\n",
       "      <td>0.0</td>\n",
       "      <td>0.0</td>\n",
       "      <td>0.0</td>\n",
       "      <td>0.0</td>\n",
       "    </tr>\n",
       "    <tr>\n",
       "      <th>ZJ016484</th>\n",
       "      <td>train_features/ZJ016484.jpg</td>\n",
       "      <td>S0043</td>\n",
       "      <td>5</td>\n",
       "      <td>0.0</td>\n",
       "      <td>0.0</td>\n",
       "      <td>0.0</td>\n",
       "      <td>0.0</td>\n",
       "      <td>0.0</td>\n",
       "      <td>1.0</td>\n",
       "      <td>0.0</td>\n",
       "      <td>0.0</td>\n",
       "    </tr>\n",
       "    <tr>\n",
       "      <th>ZJ016485</th>\n",
       "      <td>train_features/ZJ016485.jpg</td>\n",
       "      <td>S0089</td>\n",
       "      <td>3</td>\n",
       "      <td>0.0</td>\n",
       "      <td>0.0</td>\n",
       "      <td>0.0</td>\n",
       "      <td>1.0</td>\n",
       "      <td>0.0</td>\n",
       "      <td>0.0</td>\n",
       "      <td>0.0</td>\n",
       "      <td>0.0</td>\n",
       "    </tr>\n",
       "    <tr>\n",
       "      <th>ZJ016486</th>\n",
       "      <td>train_features/ZJ016486.jpg</td>\n",
       "      <td>S0095</td>\n",
       "      <td>1</td>\n",
       "      <td>0.0</td>\n",
       "      <td>1.0</td>\n",
       "      <td>0.0</td>\n",
       "      <td>0.0</td>\n",
       "      <td>0.0</td>\n",
       "      <td>0.0</td>\n",
       "      <td>0.0</td>\n",
       "      <td>0.0</td>\n",
       "    </tr>\n",
       "    <tr>\n",
       "      <th>ZJ016487</th>\n",
       "      <td>train_features/ZJ016487.jpg</td>\n",
       "      <td>S0021</td>\n",
       "      <td>3</td>\n",
       "      <td>0.0</td>\n",
       "      <td>0.0</td>\n",
       "      <td>0.0</td>\n",
       "      <td>1.0</td>\n",
       "      <td>0.0</td>\n",
       "      <td>0.0</td>\n",
       "      <td>0.0</td>\n",
       "      <td>0.0</td>\n",
       "    </tr>\n",
       "  </tbody>\n",
       "</table>\n",
       "<p>16488 rows × 11 columns</p>\n",
       "</div>"
      ],
      "text/plain": [
       "                             filepath   site  label  antelope_duiker  bird  \\\n",
       "id                                                                           \n",
       "ZJ000000  train_features/ZJ000000.jpg  S0120      1              0.0   1.0   \n",
       "ZJ000001  train_features/ZJ000001.jpg  S0069      6              0.0   0.0   \n",
       "ZJ000002  train_features/ZJ000002.jpg  S0009      1              0.0   1.0   \n",
       "ZJ000003  train_features/ZJ000003.jpg  S0008      6              0.0   0.0   \n",
       "ZJ000004  train_features/ZJ000004.jpg  S0036      5              0.0   0.0   \n",
       "...                               ...    ...    ...              ...   ...   \n",
       "ZJ016483  train_features/ZJ016483.jpg  S0093      2              0.0   0.0   \n",
       "ZJ016484  train_features/ZJ016484.jpg  S0043      5              0.0   0.0   \n",
       "ZJ016485  train_features/ZJ016485.jpg  S0089      3              0.0   0.0   \n",
       "ZJ016486  train_features/ZJ016486.jpg  S0095      1              0.0   1.0   \n",
       "ZJ016487  train_features/ZJ016487.jpg  S0021      3              0.0   0.0   \n",
       "\n",
       "          blank  civet_genet  hog  leopard  monkey_prosimian  rodent  \n",
       "id                                                                    \n",
       "ZJ000000    0.0          0.0  0.0      0.0               0.0     0.0  \n",
       "ZJ000001    0.0          0.0  0.0      0.0               1.0     0.0  \n",
       "ZJ000002    0.0          0.0  0.0      0.0               0.0     0.0  \n",
       "ZJ000003    0.0          0.0  0.0      0.0               1.0     0.0  \n",
       "ZJ000004    0.0          0.0  0.0      1.0               0.0     0.0  \n",
       "...         ...          ...  ...      ...               ...     ...  \n",
       "ZJ016483    1.0          0.0  0.0      0.0               0.0     0.0  \n",
       "ZJ016484    0.0          0.0  0.0      1.0               0.0     0.0  \n",
       "ZJ016485    0.0          1.0  0.0      0.0               0.0     0.0  \n",
       "ZJ016486    0.0          0.0  0.0      0.0               0.0     0.0  \n",
       "ZJ016487    0.0          1.0  0.0      0.0               0.0     0.0  \n",
       "\n",
       "[16488 rows x 11 columns]"
      ]
     },
     "execution_count": 30,
     "metadata": {},
     "output_type": "execute_result"
    }
   ],
   "source": [
    "# # pd=df.join([df,train_labels],how='inner',ignore_index = True)\n",
    "pf=df.set_index('id').join(train_labels.set_index('id'))\n",
    "# pf['antelope_duiker', 'bird', 'blank', 'civet_genet', 'hog', 'leopard',\n",
    "#        'monkey_prosimian', 'rodent'].astype('str')\n",
    "pf\n"
   ]
  },
  {
   "cell_type": "code",
   "execution_count": 31,
   "id": "f9f3ebcc",
   "metadata": {},
   "outputs": [
    {
     "data": {
      "text/plain": [
       "Index(['filepath', 'site', 'label', 'antelope_duiker', 'bird', 'blank',\n",
       "       'civet_genet', 'hog', 'leopard', 'monkey_prosimian', 'rodent'],\n",
       "      dtype='object')"
      ]
     },
     "execution_count": 31,
     "metadata": {},
     "output_type": "execute_result"
    }
   ],
   "source": [
    "pf.columns"
   ]
  },
  {
   "cell_type": "code",
   "execution_count": 49,
   "id": "0a105c9f",
   "metadata": {},
   "outputs": [
    {
     "data": {
      "text/html": [
       "<div>\n",
       "<style scoped>\n",
       "    .dataframe tbody tr th:only-of-type {\n",
       "        vertical-align: middle;\n",
       "    }\n",
       "\n",
       "    .dataframe tbody tr th {\n",
       "        vertical-align: top;\n",
       "    }\n",
       "\n",
       "    .dataframe thead th {\n",
       "        text-align: right;\n",
       "    }\n",
       "</style>\n",
       "<table border=\"1\" class=\"dataframe\">\n",
       "  <thead>\n",
       "    <tr style=\"text-align: right;\">\n",
       "      <th></th>\n",
       "      <th>filepath</th>\n",
       "      <th>site</th>\n",
       "      <th>label</th>\n",
       "      <th>antelope_duiker</th>\n",
       "      <th>bird</th>\n",
       "      <th>blank</th>\n",
       "      <th>civet_genet</th>\n",
       "      <th>hog</th>\n",
       "      <th>leopard</th>\n",
       "      <th>monkey_prosimian</th>\n",
       "      <th>rodent</th>\n",
       "      <th>path</th>\n",
       "      <th>file</th>\n",
       "    </tr>\n",
       "    <tr>\n",
       "      <th>id</th>\n",
       "      <th></th>\n",
       "      <th></th>\n",
       "      <th></th>\n",
       "      <th></th>\n",
       "      <th></th>\n",
       "      <th></th>\n",
       "      <th></th>\n",
       "      <th></th>\n",
       "      <th></th>\n",
       "      <th></th>\n",
       "      <th></th>\n",
       "      <th></th>\n",
       "      <th></th>\n",
       "    </tr>\n",
       "  </thead>\n",
       "  <tbody>\n",
       "    <tr>\n",
       "      <th>ZJ000000</th>\n",
       "      <td>train_features/ZJ000000.jpg</td>\n",
       "      <td>S0120</td>\n",
       "      <td>1</td>\n",
       "      <td>0.0</td>\n",
       "      <td>1.0</td>\n",
       "      <td>0.0</td>\n",
       "      <td>0.0</td>\n",
       "      <td>0.0</td>\n",
       "      <td>0.0</td>\n",
       "      <td>0.0</td>\n",
       "      <td>0.0</td>\n",
       "      <td>train_features</td>\n",
       "      <td>ZJ000000.jpg</td>\n",
       "    </tr>\n",
       "    <tr>\n",
       "      <th>ZJ000001</th>\n",
       "      <td>train_features/ZJ000001.jpg</td>\n",
       "      <td>S0069</td>\n",
       "      <td>6</td>\n",
       "      <td>0.0</td>\n",
       "      <td>0.0</td>\n",
       "      <td>0.0</td>\n",
       "      <td>0.0</td>\n",
       "      <td>0.0</td>\n",
       "      <td>0.0</td>\n",
       "      <td>1.0</td>\n",
       "      <td>0.0</td>\n",
       "      <td>train_features</td>\n",
       "      <td>ZJ000001.jpg</td>\n",
       "    </tr>\n",
       "    <tr>\n",
       "      <th>ZJ000002</th>\n",
       "      <td>train_features/ZJ000002.jpg</td>\n",
       "      <td>S0009</td>\n",
       "      <td>1</td>\n",
       "      <td>0.0</td>\n",
       "      <td>1.0</td>\n",
       "      <td>0.0</td>\n",
       "      <td>0.0</td>\n",
       "      <td>0.0</td>\n",
       "      <td>0.0</td>\n",
       "      <td>0.0</td>\n",
       "      <td>0.0</td>\n",
       "      <td>train_features</td>\n",
       "      <td>ZJ000002.jpg</td>\n",
       "    </tr>\n",
       "    <tr>\n",
       "      <th>ZJ000003</th>\n",
       "      <td>train_features/ZJ000003.jpg</td>\n",
       "      <td>S0008</td>\n",
       "      <td>6</td>\n",
       "      <td>0.0</td>\n",
       "      <td>0.0</td>\n",
       "      <td>0.0</td>\n",
       "      <td>0.0</td>\n",
       "      <td>0.0</td>\n",
       "      <td>0.0</td>\n",
       "      <td>1.0</td>\n",
       "      <td>0.0</td>\n",
       "      <td>train_features</td>\n",
       "      <td>ZJ000003.jpg</td>\n",
       "    </tr>\n",
       "    <tr>\n",
       "      <th>ZJ000004</th>\n",
       "      <td>train_features/ZJ000004.jpg</td>\n",
       "      <td>S0036</td>\n",
       "      <td>5</td>\n",
       "      <td>0.0</td>\n",
       "      <td>0.0</td>\n",
       "      <td>0.0</td>\n",
       "      <td>0.0</td>\n",
       "      <td>0.0</td>\n",
       "      <td>1.0</td>\n",
       "      <td>0.0</td>\n",
       "      <td>0.0</td>\n",
       "      <td>train_features</td>\n",
       "      <td>ZJ000004.jpg</td>\n",
       "    </tr>\n",
       "    <tr>\n",
       "      <th>...</th>\n",
       "      <td>...</td>\n",
       "      <td>...</td>\n",
       "      <td>...</td>\n",
       "      <td>...</td>\n",
       "      <td>...</td>\n",
       "      <td>...</td>\n",
       "      <td>...</td>\n",
       "      <td>...</td>\n",
       "      <td>...</td>\n",
       "      <td>...</td>\n",
       "      <td>...</td>\n",
       "      <td>...</td>\n",
       "      <td>...</td>\n",
       "    </tr>\n",
       "    <tr>\n",
       "      <th>ZJ016483</th>\n",
       "      <td>train_features/ZJ016483.jpg</td>\n",
       "      <td>S0093</td>\n",
       "      <td>2</td>\n",
       "      <td>0.0</td>\n",
       "      <td>0.0</td>\n",
       "      <td>1.0</td>\n",
       "      <td>0.0</td>\n",
       "      <td>0.0</td>\n",
       "      <td>0.0</td>\n",
       "      <td>0.0</td>\n",
       "      <td>0.0</td>\n",
       "      <td>train_features</td>\n",
       "      <td>ZJ016483.jpg</td>\n",
       "    </tr>\n",
       "    <tr>\n",
       "      <th>ZJ016484</th>\n",
       "      <td>train_features/ZJ016484.jpg</td>\n",
       "      <td>S0043</td>\n",
       "      <td>5</td>\n",
       "      <td>0.0</td>\n",
       "      <td>0.0</td>\n",
       "      <td>0.0</td>\n",
       "      <td>0.0</td>\n",
       "      <td>0.0</td>\n",
       "      <td>1.0</td>\n",
       "      <td>0.0</td>\n",
       "      <td>0.0</td>\n",
       "      <td>train_features</td>\n",
       "      <td>ZJ016484.jpg</td>\n",
       "    </tr>\n",
       "    <tr>\n",
       "      <th>ZJ016485</th>\n",
       "      <td>train_features/ZJ016485.jpg</td>\n",
       "      <td>S0089</td>\n",
       "      <td>3</td>\n",
       "      <td>0.0</td>\n",
       "      <td>0.0</td>\n",
       "      <td>0.0</td>\n",
       "      <td>1.0</td>\n",
       "      <td>0.0</td>\n",
       "      <td>0.0</td>\n",
       "      <td>0.0</td>\n",
       "      <td>0.0</td>\n",
       "      <td>train_features</td>\n",
       "      <td>ZJ016485.jpg</td>\n",
       "    </tr>\n",
       "    <tr>\n",
       "      <th>ZJ016486</th>\n",
       "      <td>train_features/ZJ016486.jpg</td>\n",
       "      <td>S0095</td>\n",
       "      <td>1</td>\n",
       "      <td>0.0</td>\n",
       "      <td>1.0</td>\n",
       "      <td>0.0</td>\n",
       "      <td>0.0</td>\n",
       "      <td>0.0</td>\n",
       "      <td>0.0</td>\n",
       "      <td>0.0</td>\n",
       "      <td>0.0</td>\n",
       "      <td>train_features</td>\n",
       "      <td>ZJ016486.jpg</td>\n",
       "    </tr>\n",
       "    <tr>\n",
       "      <th>ZJ016487</th>\n",
       "      <td>train_features/ZJ016487.jpg</td>\n",
       "      <td>S0021</td>\n",
       "      <td>3</td>\n",
       "      <td>0.0</td>\n",
       "      <td>0.0</td>\n",
       "      <td>0.0</td>\n",
       "      <td>1.0</td>\n",
       "      <td>0.0</td>\n",
       "      <td>0.0</td>\n",
       "      <td>0.0</td>\n",
       "      <td>0.0</td>\n",
       "      <td>train_features</td>\n",
       "      <td>ZJ016487.jpg</td>\n",
       "    </tr>\n",
       "  </tbody>\n",
       "</table>\n",
       "<p>16488 rows × 13 columns</p>\n",
       "</div>"
      ],
      "text/plain": [
       "                             filepath   site label antelope_duiker bird blank  \\\n",
       "id                                                                              \n",
       "ZJ000000  train_features/ZJ000000.jpg  S0120     1             0.0  1.0   0.0   \n",
       "ZJ000001  train_features/ZJ000001.jpg  S0069     6             0.0  0.0   0.0   \n",
       "ZJ000002  train_features/ZJ000002.jpg  S0009     1             0.0  1.0   0.0   \n",
       "ZJ000003  train_features/ZJ000003.jpg  S0008     6             0.0  0.0   0.0   \n",
       "ZJ000004  train_features/ZJ000004.jpg  S0036     5             0.0  0.0   0.0   \n",
       "...                               ...    ...   ...             ...  ...   ...   \n",
       "ZJ016483  train_features/ZJ016483.jpg  S0093     2             0.0  0.0   1.0   \n",
       "ZJ016484  train_features/ZJ016484.jpg  S0043     5             0.0  0.0   0.0   \n",
       "ZJ016485  train_features/ZJ016485.jpg  S0089     3             0.0  0.0   0.0   \n",
       "ZJ016486  train_features/ZJ016486.jpg  S0095     1             0.0  1.0   0.0   \n",
       "ZJ016487  train_features/ZJ016487.jpg  S0021     3             0.0  0.0   0.0   \n",
       "\n",
       "         civet_genet  hog leopard monkey_prosimian rodent            path  \\\n",
       "id                                                                          \n",
       "ZJ000000         0.0  0.0     0.0              0.0    0.0  train_features   \n",
       "ZJ000001         0.0  0.0     0.0              1.0    0.0  train_features   \n",
       "ZJ000002         0.0  0.0     0.0              0.0    0.0  train_features   \n",
       "ZJ000003         0.0  0.0     0.0              1.0    0.0  train_features   \n",
       "ZJ000004         0.0  0.0     1.0              0.0    0.0  train_features   \n",
       "...              ...  ...     ...              ...    ...             ...   \n",
       "ZJ016483         0.0  0.0     0.0              0.0    0.0  train_features   \n",
       "ZJ016484         0.0  0.0     1.0              0.0    0.0  train_features   \n",
       "ZJ016485         1.0  0.0     0.0              0.0    0.0  train_features   \n",
       "ZJ016486         0.0  0.0     0.0              0.0    0.0  train_features   \n",
       "ZJ016487         1.0  0.0     0.0              0.0    0.0  train_features   \n",
       "\n",
       "                  file  \n",
       "id                      \n",
       "ZJ000000  ZJ000000.jpg  \n",
       "ZJ000001  ZJ000001.jpg  \n",
       "ZJ000002  ZJ000002.jpg  \n",
       "ZJ000003  ZJ000003.jpg  \n",
       "ZJ000004  ZJ000004.jpg  \n",
       "...                ...  \n",
       "ZJ016483  ZJ016483.jpg  \n",
       "ZJ016484  ZJ016484.jpg  \n",
       "ZJ016485  ZJ016485.jpg  \n",
       "ZJ016486  ZJ016486.jpg  \n",
       "ZJ016487  ZJ016487.jpg  \n",
       "\n",
       "[16488 rows x 13 columns]"
      ]
     },
     "execution_count": 49,
     "metadata": {},
     "output_type": "execute_result"
    }
   ],
   "source": [
    "d=pf.astype(str,copy=False)\n",
    "d\n",
    "d[['path','file']] = d.filepath.str.split(\"/\",expand=True)\n",
    "d"
   ]
  },
  {
   "cell_type": "markdown",
   "id": "8d8cd4bf",
   "metadata": {},
   "source": [
    "Map Image to its label"
   ]
  },
  {
   "cell_type": "code",
   "execution_count": 38,
   "id": "1fb66a4e",
   "metadata": {},
   "outputs": [
    {
     "data": {
      "text/plain": [
       "'2.9.1'"
      ]
     },
     "execution_count": 38,
     "metadata": {},
     "output_type": "execute_result"
    }
   ],
   "source": [
    "tf.__version__"
   ]
  },
  {
   "cell_type": "code",
   "execution_count": 15,
   "id": "2705303e",
   "metadata": {},
   "outputs": [],
   "source": [
    "# # import image\n",
    "# from tensorflow import keras\n",
    "# from tensorflow.keras.utils import load_img,img_to_array,array_to_img,to_categorical\n",
    "# class MyTrainingData(keras.utils.Sequence):\n",
    "#     def __init__(self, file, labels, batchSize):\n",
    "#         self.file = file\n",
    "#         self.label = labels\n",
    "#         self.batchSize = batchSize\n",
    "#         self.n_batches = int(len(self.file) / self.batchSize)\n",
    "\n",
    "\n",
    "\n",
    "#     def on_epoch_end(self):  # it is called after every epoch\n",
    "# #         self.file, self.label =shuffle(self.file, self.label)\n",
    "#         for i in range(50):\n",
    "#             print(self.file[i], self.label[i], 'file-label')\n",
    "\n",
    "\n",
    "#     def __len__(self):\n",
    "#         return self.n_batches\n",
    "    \n",
    "\n",
    "#     # called after every batch to get new batch or new 32 images and labels\n",
    "#     def __getitem__(self, idx):\n",
    "#         # this method calls by fit method with idx ranging from 0 to len(training_exmaples) / batch_size =\n",
    "#         batchX = self.file[idx*self.batchSize: (idx+1)*self.batchSize]\n",
    "#         batchY = self.label[idx*self.batchSize: (idx+1)*self.batchSize]\n",
    "#         imgFiles = [tf.keras.utils.load_img(name, target_size=(224, 224, 3)) for name in batchX]   #loading 32 images\n",
    "#         imgFiles = [tf.keras.utils.img_to_array(img) for img in imgFiles]   #preprocessing\n",
    "#         imgFiles = [img / 255 for img in imgFiles] \n",
    "#         batchY = to_categorical(batchY, 8)    # 4 represent number of classes (4 in that case)\n",
    "#         return np.array(imgFiles), np.array(batchY)\n"
   ]
  },
  {
   "cell_type": "code",
   "execution_count": 51,
   "id": "c5fc6d0f",
   "metadata": {},
   "outputs": [
    {
     "name": "stdout",
     "output_type": "stream",
     "text": [
      "Found 16488 validated image filenames belonging to 8 classes.\n"
     ]
    },
    {
     "ename": "AttributeError",
     "evalue": "'DataFrameIterator' object has no attribute 'shape'",
     "output_type": "error",
     "traceback": [
      "\u001b[1;31m---------------------------------------------------------------------------\u001b[0m",
      "\u001b[1;31mAttributeError\u001b[0m                            Traceback (most recent call last)",
      "Cell \u001b[1;32mIn [51], line 5\u001b[0m\n\u001b[0;32m      3\u001b[0m train_gen\u001b[38;5;241m=\u001b[39mtrain\u001b[38;5;241m.\u001b[39mflow_from_dataframe(d,t,x_col\u001b[38;5;241m=\u001b[39m\u001b[38;5;124m'\u001b[39m\u001b[38;5;124mfile\u001b[39m\u001b[38;5;124m'\u001b[39m,y_col\u001b[38;5;241m=\u001b[39m\u001b[38;5;124m'\u001b[39m\u001b[38;5;124mlabel\u001b[39m\u001b[38;5;124m'\u001b[39m,batch_size\u001b[38;5;241m=\u001b[39m\u001b[38;5;241m32\u001b[39m,color_mode\u001b[38;5;241m=\u001b[39m\u001b[38;5;124m'\u001b[39m\u001b[38;5;124mrgb\u001b[39m\u001b[38;5;124m'\u001b[39m,class_mode\u001b[38;5;241m=\u001b[39m\u001b[38;5;124m'\u001b[39m\u001b[38;5;124mcategorical\u001b[39m\u001b[38;5;124m'\u001b[39m,target_size\u001b[38;5;241m=\u001b[39m(\u001b[38;5;241m224\u001b[39m,\u001b[38;5;241m224\u001b[39m))\n\u001b[0;32m      4\u001b[0m \u001b[38;5;66;03m# test,x_col='filepath',batch_size=32,class_mode=None,target_size=(224,224)\u001b[39;00m\n\u001b[1;32m----> 5\u001b[0m \u001b[43mtrain_gen\u001b[49m\u001b[38;5;241;43m.\u001b[39;49m\u001b[43mshape\u001b[49m\n",
      "\u001b[1;31mAttributeError\u001b[0m: 'DataFrameIterator' object has no attribute 'shape'"
     ]
    }
   ],
   "source": [
    "from tensorflow.keras.preprocessing.image import ImageDataGenerator\n",
    "train=ImageDataGenerator()\n",
    "train_gen=train.flow_from_dataframe(d,t,x_col='file',y_col='label',batch_size=32,color_mode='rgb',class_mode='categorical',target_size=(224,224))\n",
    "# test,x_col='filepath',batch_size=32,class_mode=None,target_size=(224,224)\n",
    "train_gen.shape"
   ]
  },
  {
   "cell_type": "code",
   "execution_count": 17,
   "id": "7b224c9c",
   "metadata": {},
   "outputs": [
    {
     "name": "stdout",
     "output_type": "stream",
     "text": [
      "D:\\Course\\DrivenData Project\\Dataset\n"
     ]
    }
   ],
   "source": [
    "cd D:/Course/DrivenData Project/Dataset"
   ]
  },
  {
   "cell_type": "code",
   "execution_count": 18,
   "id": "914cfeac",
   "metadata": {},
   "outputs": [],
   "source": [
    "# data=MyTrainingData(img_filepath,l,batch_size)"
   ]
  },
  {
   "cell_type": "code",
   "execution_count": 19,
   "id": "5914fc9f",
   "metadata": {},
   "outputs": [
    {
     "name": "stdout",
     "output_type": "stream",
     "text": [
      "<class '__main__.MyTrainingData'>\n"
     ]
    },
    {
     "data": {
      "text/plain": [
       "515"
      ]
     },
     "execution_count": 19,
     "metadata": {},
     "output_type": "execute_result"
    }
   ],
   "source": [
    "# print(type(data))\n",
    "# len(data)"
   ]
  },
  {
   "cell_type": "code",
   "execution_count": 20,
   "id": "e722e0e2",
   "metadata": {},
   "outputs": [],
   "source": [
    "# !pip install pillow"
   ]
  },
  {
   "cell_type": "markdown",
   "id": "3b584dce",
   "metadata": {},
   "source": [
    "# Model"
   ]
  },
  {
   "cell_type": "code",
   "execution_count": 21,
   "id": "b62c7cd2",
   "metadata": {},
   "outputs": [],
   "source": [
    "from keras.models import Sequential\n",
    "from keras.layers import Conv2D, MaxPooling2D, MaxPool2D\n",
    "from keras.layers import Activation, Dropout, Flatten, Dense\n",
    "from keras.regularizers import l1, l2, l1_l2"
   ]
  },
  {
   "cell_type": "code",
   "execution_count": 22,
   "id": "b98b3057",
   "metadata": {},
   "outputs": [],
   "source": [
    "model=Sequential()\n",
    "model.add(Conv2D(60,(3,3),input_shape=(224,224,3)))\n",
    "model.add(Activation('relu'))\n",
    "model.add(MaxPooling2D(pool_size=(2,2)))\n",
    "\n",
    "model.add(Conv2D(60,(3,3)))\n",
    "model.add(Activation('relu'))\n",
    "model.add(MaxPooling2D(pool_size=(2,2)))\n",
    "\n",
    "model.add(Flatten())\n",
    "model.add(Dense(100,activation='relu',activity_regularizer=l1(0.001)))\n",
    "model.add(Dense(8))\n",
    "model.add(Activation('softmax'))"
   ]
  },
  {
   "cell_type": "code",
   "execution_count": 23,
   "id": "556f97cc",
   "metadata": {},
   "outputs": [],
   "source": [
    "model.compile(loss='binary_crossentropy',optimizer='Adam' ,metrics=['accuracy'])"
   ]
  },
  {
   "cell_type": "code",
   "execution_count": 24,
   "id": "8e1dad25",
   "metadata": {},
   "outputs": [
    {
     "name": "stdout",
     "output_type": "stream",
     "text": [
      "Epoch 1/10\n",
      "515/515 [==============================] - 64s 115ms/step - loss: 0.3076 - accuracy: 0.5236\n",
      "train_features/ZJ000000.jpg 1 file-label\n",
      "train_features/ZJ000001.jpg 6 file-label\n",
      "train_features/ZJ000002.jpg 1 file-label\n",
      "train_features/ZJ000003.jpg 6 file-label\n",
      "train_features/ZJ000004.jpg 5 file-label\n",
      "train_features/ZJ000005.jpg 4 file-label\n",
      "train_features/ZJ000006.jpg 3 file-label\n",
      "train_features/ZJ000007.jpg 0 file-label\n",
      "train_features/ZJ000008.jpg 5 file-label\n",
      "train_features/ZJ000009.jpg 1 file-label\n",
      "train_features/ZJ000010.jpg 5 file-label\n",
      "train_features/ZJ000011.jpg 5 file-label\n",
      "train_features/ZJ000012.jpg 6 file-label\n",
      "train_features/ZJ000013.jpg 2 file-label\n",
      "train_features/ZJ000014.jpg 6 file-label\n",
      "train_features/ZJ000015.jpg 2 file-label\n",
      "train_features/ZJ000016.jpg 5 file-label\n",
      "train_features/ZJ000017.jpg 1 file-label\n",
      "train_features/ZJ000018.jpg 2 file-label\n",
      "train_features/ZJ000019.jpg 6 file-label\n",
      "train_features/ZJ000020.jpg 5 file-label\n",
      "train_features/ZJ000021.jpg 6 file-label\n",
      "train_features/ZJ000022.jpg 0 file-label\n",
      "train_features/ZJ000023.jpg 5 file-label\n",
      "train_features/ZJ000024.jpg 6 file-label\n",
      "train_features/ZJ000025.jpg 7 file-label\n",
      "train_features/ZJ000026.jpg 6 file-label\n",
      "train_features/ZJ000027.jpg 6 file-label\n",
      "train_features/ZJ000028.jpg 6 file-label\n",
      "train_features/ZJ000029.jpg 2 file-label\n",
      "train_features/ZJ000030.jpg 0 file-label\n",
      "train_features/ZJ000031.jpg 6 file-label\n",
      "train_features/ZJ000032.jpg 4 file-label\n",
      "train_features/ZJ000033.jpg 3 file-label\n",
      "train_features/ZJ000034.jpg 6 file-label\n",
      "train_features/ZJ000035.jpg 7 file-label\n",
      "train_features/ZJ000036.jpg 3 file-label\n",
      "train_features/ZJ000037.jpg 0 file-label\n",
      "train_features/ZJ000038.jpg 6 file-label\n",
      "train_features/ZJ000039.jpg 0 file-label\n",
      "train_features/ZJ000040.jpg 3 file-label\n",
      "train_features/ZJ000041.jpg 2 file-label\n",
      "train_features/ZJ000042.jpg 5 file-label\n",
      "train_features/ZJ000043.jpg 0 file-label\n",
      "train_features/ZJ000044.jpg 3 file-label\n",
      "train_features/ZJ000045.jpg 2 file-label\n",
      "train_features/ZJ000046.jpg 5 file-label\n",
      "train_features/ZJ000047.jpg 6 file-label\n",
      "train_features/ZJ000048.jpg 6 file-label\n",
      "train_features/ZJ000049.jpg 0 file-label\n",
      "Epoch 2/10\n",
      "515/515 [==============================] - 59s 115ms/step - loss: 0.1910 - accuracy: 0.7510\n",
      "train_features/ZJ000000.jpg 1 file-label\n",
      "train_features/ZJ000001.jpg 6 file-label\n",
      "train_features/ZJ000002.jpg 1 file-label\n",
      "train_features/ZJ000003.jpg 6 file-label\n",
      "train_features/ZJ000004.jpg 5 file-label\n",
      "train_features/ZJ000005.jpg 4 file-label\n",
      "train_features/ZJ000006.jpg 3 file-label\n",
      "train_features/ZJ000007.jpg 0 file-label\n",
      "train_features/ZJ000008.jpg 5 file-label\n",
      "train_features/ZJ000009.jpg 1 file-label\n",
      "train_features/ZJ000010.jpg 5 file-label\n",
      "train_features/ZJ000011.jpg 5 file-label\n",
      "train_features/ZJ000012.jpg 6 file-label\n",
      "train_features/ZJ000013.jpg 2 file-label\n",
      "train_features/ZJ000014.jpg 6 file-label\n",
      "train_features/ZJ000015.jpg 2 file-label\n",
      "train_features/ZJ000016.jpg 5 file-label\n",
      "train_features/ZJ000017.jpg 1 file-label\n",
      "train_features/ZJ000018.jpg 2 file-label\n",
      "train_features/ZJ000019.jpg 6 file-label\n",
      "train_features/ZJ000020.jpg 5 file-label\n",
      "train_features/ZJ000021.jpg 6 file-label\n",
      "train_features/ZJ000022.jpg 0 file-label\n",
      "train_features/ZJ000023.jpg 5 file-label\n",
      "train_features/ZJ000024.jpg 6 file-label\n",
      "train_features/ZJ000025.jpg 7 file-label\n",
      "train_features/ZJ000026.jpg 6 file-label\n",
      "train_features/ZJ000027.jpg 6 file-label\n",
      "train_features/ZJ000028.jpg 6 file-label\n",
      "train_features/ZJ000029.jpg 2 file-label\n",
      "train_features/ZJ000030.jpg 0 file-label\n",
      "train_features/ZJ000031.jpg 6 file-label\n",
      "train_features/ZJ000032.jpg 4 file-label\n",
      "train_features/ZJ000033.jpg 3 file-label\n",
      "train_features/ZJ000034.jpg 6 file-label\n",
      "train_features/ZJ000035.jpg 7 file-label\n",
      "train_features/ZJ000036.jpg 3 file-label\n",
      "train_features/ZJ000037.jpg 0 file-label\n",
      "train_features/ZJ000038.jpg 6 file-label\n",
      "train_features/ZJ000039.jpg 0 file-label\n",
      "train_features/ZJ000040.jpg 3 file-label\n",
      "train_features/ZJ000041.jpg 2 file-label\n",
      "train_features/ZJ000042.jpg 5 file-label\n",
      "train_features/ZJ000043.jpg 0 file-label\n",
      "train_features/ZJ000044.jpg 3 file-label\n",
      "train_features/ZJ000045.jpg 2 file-label\n",
      "train_features/ZJ000046.jpg 5 file-label\n",
      "train_features/ZJ000047.jpg 6 file-label\n",
      "train_features/ZJ000048.jpg 6 file-label\n",
      "train_features/ZJ000049.jpg 0 file-label\n",
      "Epoch 3/10\n",
      "515/515 [==============================] - 59s 114ms/step - loss: 0.1439 - accuracy: 0.8295\n",
      "train_features/ZJ000000.jpg 1 file-label\n",
      "train_features/ZJ000001.jpg 6 file-label\n",
      "train_features/ZJ000002.jpg 1 file-label\n",
      "train_features/ZJ000003.jpg 6 file-label\n",
      "train_features/ZJ000004.jpg 5 file-label\n",
      "train_features/ZJ000005.jpg 4 file-label\n",
      "train_features/ZJ000006.jpg 3 file-label\n",
      "train_features/ZJ000007.jpg 0 file-label\n",
      "train_features/ZJ000008.jpg 5 file-label\n",
      "train_features/ZJ000009.jpg 1 file-label\n",
      "train_features/ZJ000010.jpg 5 file-label\n",
      "train_features/ZJ000011.jpg 5 file-label\n",
      "train_features/ZJ000012.jpg 6 file-label\n",
      "train_features/ZJ000013.jpg 2 file-label\n",
      "train_features/ZJ000014.jpg 6 file-label\n",
      "train_features/ZJ000015.jpg 2 file-label\n",
      "train_features/ZJ000016.jpg 5 file-label\n",
      "train_features/ZJ000017.jpg 1 file-label\n",
      "train_features/ZJ000018.jpg 2 file-label\n",
      "train_features/ZJ000019.jpg 6 file-label\n",
      "train_features/ZJ000020.jpg 5 file-label\n",
      "train_features/ZJ000021.jpg 6 file-label\n",
      "train_features/ZJ000022.jpg 0 file-label\n",
      "train_features/ZJ000023.jpg 5 file-label\n",
      "train_features/ZJ000024.jpg 6 file-label\n",
      "train_features/ZJ000025.jpg 7 file-label\n",
      "train_features/ZJ000026.jpg 6 file-label\n",
      "train_features/ZJ000027.jpg 6 file-label\n",
      "train_features/ZJ000028.jpg 6 file-label\n",
      "train_features/ZJ000029.jpg 2 file-label\n",
      "train_features/ZJ000030.jpg 0 file-label\n",
      "train_features/ZJ000031.jpg 6 file-label\n",
      "train_features/ZJ000032.jpg 4 file-label\n",
      "train_features/ZJ000033.jpg 3 file-label\n",
      "train_features/ZJ000034.jpg 6 file-label\n",
      "train_features/ZJ000035.jpg 7 file-label\n",
      "train_features/ZJ000036.jpg 3 file-label\n",
      "train_features/ZJ000037.jpg 0 file-label\n",
      "train_features/ZJ000038.jpg 6 file-label\n",
      "train_features/ZJ000039.jpg 0 file-label\n",
      "train_features/ZJ000040.jpg 3 file-label\n",
      "train_features/ZJ000041.jpg 2 file-label\n",
      "train_features/ZJ000042.jpg 5 file-label\n",
      "train_features/ZJ000043.jpg 0 file-label\n",
      "train_features/ZJ000044.jpg 3 file-label\n",
      "train_features/ZJ000045.jpg 2 file-label\n",
      "train_features/ZJ000046.jpg 5 file-label\n",
      "train_features/ZJ000047.jpg 6 file-label\n",
      "train_features/ZJ000048.jpg 6 file-label\n",
      "train_features/ZJ000049.jpg 0 file-label\n",
      "Epoch 4/10\n",
      "515/515 [==============================] - 59s 114ms/step - loss: 0.1198 - accuracy: 0.8667\n",
      "train_features/ZJ000000.jpg 1 file-label\n",
      "train_features/ZJ000001.jpg 6 file-label\n",
      "train_features/ZJ000002.jpg 1 file-label\n",
      "train_features/ZJ000003.jpg 6 file-label\n",
      "train_features/ZJ000004.jpg 5 file-label\n",
      "train_features/ZJ000005.jpg 4 file-label\n",
      "train_features/ZJ000006.jpg 3 file-label\n",
      "train_features/ZJ000007.jpg 0 file-label\n",
      "train_features/ZJ000008.jpg 5 file-label\n",
      "train_features/ZJ000009.jpg 1 file-label\n",
      "train_features/ZJ000010.jpg 5 file-label\n",
      "train_features/ZJ000011.jpg 5 file-label\n",
      "train_features/ZJ000012.jpg 6 file-label\n",
      "train_features/ZJ000013.jpg 2 file-label\n",
      "train_features/ZJ000014.jpg 6 file-label\n",
      "train_features/ZJ000015.jpg 2 file-label\n",
      "train_features/ZJ000016.jpg 5 file-label\n",
      "train_features/ZJ000017.jpg 1 file-label\n",
      "train_features/ZJ000018.jpg 2 file-label\n",
      "train_features/ZJ000019.jpg 6 file-label\n",
      "train_features/ZJ000020.jpg 5 file-label\n",
      "train_features/ZJ000021.jpg 6 file-label\n",
      "train_features/ZJ000022.jpg 0 file-label\n",
      "train_features/ZJ000023.jpg 5 file-label\n",
      "train_features/ZJ000024.jpg 6 file-label\n",
      "train_features/ZJ000025.jpg 7 file-label\n",
      "train_features/ZJ000026.jpg 6 file-label\n",
      "train_features/ZJ000027.jpg 6 file-label\n",
      "train_features/ZJ000028.jpg 6 file-label\n",
      "train_features/ZJ000029.jpg 2 file-label\n",
      "train_features/ZJ000030.jpg 0 file-label\n",
      "train_features/ZJ000031.jpg 6 file-label\n",
      "train_features/ZJ000032.jpg 4 file-label\n",
      "train_features/ZJ000033.jpg 3 file-label\n",
      "train_features/ZJ000034.jpg 6 file-label\n",
      "train_features/ZJ000035.jpg 7 file-label\n",
      "train_features/ZJ000036.jpg 3 file-label\n",
      "train_features/ZJ000037.jpg 0 file-label\n",
      "train_features/ZJ000038.jpg 6 file-label\n",
      "train_features/ZJ000039.jpg 0 file-label\n",
      "train_features/ZJ000040.jpg 3 file-label\n",
      "train_features/ZJ000041.jpg 2 file-label\n",
      "train_features/ZJ000042.jpg 5 file-label\n",
      "train_features/ZJ000043.jpg 0 file-label\n",
      "train_features/ZJ000044.jpg 3 file-label\n",
      "train_features/ZJ000045.jpg 2 file-label\n",
      "train_features/ZJ000046.jpg 5 file-label\n",
      "train_features/ZJ000047.jpg 6 file-label\n",
      "train_features/ZJ000048.jpg 6 file-label\n",
      "train_features/ZJ000049.jpg 0 file-label\n",
      "Epoch 5/10\n"
     ]
    },
    {
     "name": "stdout",
     "output_type": "stream",
     "text": [
      "515/515 [==============================] - 59s 114ms/step - loss: 0.1023 - accuracy: 0.8921\n",
      "train_features/ZJ000000.jpg 1 file-label\n",
      "train_features/ZJ000001.jpg 6 file-label\n",
      "train_features/ZJ000002.jpg 1 file-label\n",
      "train_features/ZJ000003.jpg 6 file-label\n",
      "train_features/ZJ000004.jpg 5 file-label\n",
      "train_features/ZJ000005.jpg 4 file-label\n",
      "train_features/ZJ000006.jpg 3 file-label\n",
      "train_features/ZJ000007.jpg 0 file-label\n",
      "train_features/ZJ000008.jpg 5 file-label\n",
      "train_features/ZJ000009.jpg 1 file-label\n",
      "train_features/ZJ000010.jpg 5 file-label\n",
      "train_features/ZJ000011.jpg 5 file-label\n",
      "train_features/ZJ000012.jpg 6 file-label\n",
      "train_features/ZJ000013.jpg 2 file-label\n",
      "train_features/ZJ000014.jpg 6 file-label\n",
      "train_features/ZJ000015.jpg 2 file-label\n",
      "train_features/ZJ000016.jpg 5 file-label\n",
      "train_features/ZJ000017.jpg 1 file-label\n",
      "train_features/ZJ000018.jpg 2 file-label\n",
      "train_features/ZJ000019.jpg 6 file-label\n",
      "train_features/ZJ000020.jpg 5 file-label\n",
      "train_features/ZJ000021.jpg 6 file-label\n",
      "train_features/ZJ000022.jpg 0 file-label\n",
      "train_features/ZJ000023.jpg 5 file-label\n",
      "train_features/ZJ000024.jpg 6 file-label\n",
      "train_features/ZJ000025.jpg 7 file-label\n",
      "train_features/ZJ000026.jpg 6 file-label\n",
      "train_features/ZJ000027.jpg 6 file-label\n",
      "train_features/ZJ000028.jpg 6 file-label\n",
      "train_features/ZJ000029.jpg 2 file-label\n",
      "train_features/ZJ000030.jpg 0 file-label\n",
      "train_features/ZJ000031.jpg 6 file-label\n",
      "train_features/ZJ000032.jpg 4 file-label\n",
      "train_features/ZJ000033.jpg 3 file-label\n",
      "train_features/ZJ000034.jpg 6 file-label\n",
      "train_features/ZJ000035.jpg 7 file-label\n",
      "train_features/ZJ000036.jpg 3 file-label\n",
      "train_features/ZJ000037.jpg 0 file-label\n",
      "train_features/ZJ000038.jpg 6 file-label\n",
      "train_features/ZJ000039.jpg 0 file-label\n",
      "train_features/ZJ000040.jpg 3 file-label\n",
      "train_features/ZJ000041.jpg 2 file-label\n",
      "train_features/ZJ000042.jpg 5 file-label\n",
      "train_features/ZJ000043.jpg 0 file-label\n",
      "train_features/ZJ000044.jpg 3 file-label\n",
      "train_features/ZJ000045.jpg 2 file-label\n",
      "train_features/ZJ000046.jpg 5 file-label\n",
      "train_features/ZJ000047.jpg 6 file-label\n",
      "train_features/ZJ000048.jpg 6 file-label\n",
      "train_features/ZJ000049.jpg 0 file-label\n",
      "Epoch 6/10\n",
      "515/515 [==============================] - 61s 118ms/step - loss: 0.0895 - accuracy: 0.9092\n",
      "train_features/ZJ000000.jpg 1 file-label\n",
      "train_features/ZJ000001.jpg 6 file-label\n",
      "train_features/ZJ000002.jpg 1 file-label\n",
      "train_features/ZJ000003.jpg 6 file-label\n",
      "train_features/ZJ000004.jpg 5 file-label\n",
      "train_features/ZJ000005.jpg 4 file-label\n",
      "train_features/ZJ000006.jpg 3 file-label\n",
      "train_features/ZJ000007.jpg 0 file-label\n",
      "train_features/ZJ000008.jpg 5 file-label\n",
      "train_features/ZJ000009.jpg 1 file-label\n",
      "train_features/ZJ000010.jpg 5 file-label\n",
      "train_features/ZJ000011.jpg 5 file-label\n",
      "train_features/ZJ000012.jpg 6 file-label\n",
      "train_features/ZJ000013.jpg 2 file-label\n",
      "train_features/ZJ000014.jpg 6 file-label\n",
      "train_features/ZJ000015.jpg 2 file-label\n",
      "train_features/ZJ000016.jpg 5 file-label\n",
      "train_features/ZJ000017.jpg 1 file-label\n",
      "train_features/ZJ000018.jpg 2 file-label\n",
      "train_features/ZJ000019.jpg 6 file-label\n",
      "train_features/ZJ000020.jpg 5 file-label\n",
      "train_features/ZJ000021.jpg 6 file-label\n",
      "train_features/ZJ000022.jpg 0 file-label\n",
      "train_features/ZJ000023.jpg 5 file-label\n",
      "train_features/ZJ000024.jpg 6 file-label\n",
      "train_features/ZJ000025.jpg 7 file-label\n",
      "train_features/ZJ000026.jpg 6 file-label\n",
      "train_features/ZJ000027.jpg 6 file-label\n",
      "train_features/ZJ000028.jpg 6 file-label\n",
      "train_features/ZJ000029.jpg 2 file-label\n",
      "train_features/ZJ000030.jpg 0 file-label\n",
      "train_features/ZJ000031.jpg 6 file-label\n",
      "train_features/ZJ000032.jpg 4 file-label\n",
      "train_features/ZJ000033.jpg 3 file-label\n",
      "train_features/ZJ000034.jpg 6 file-label\n",
      "train_features/ZJ000035.jpg 7 file-label\n",
      "train_features/ZJ000036.jpg 3 file-label\n",
      "train_features/ZJ000037.jpg 0 file-label\n",
      "train_features/ZJ000038.jpg 6 file-label\n",
      "train_features/ZJ000039.jpg 0 file-label\n",
      "train_features/ZJ000040.jpg 3 file-label\n",
      "train_features/ZJ000041.jpg 2 file-label\n",
      "train_features/ZJ000042.jpg 5 file-label\n",
      "train_features/ZJ000043.jpg 0 file-label\n",
      "train_features/ZJ000044.jpg 3 file-label\n",
      "train_features/ZJ000045.jpg 2 file-label\n",
      "train_features/ZJ000046.jpg 5 file-label\n",
      "train_features/ZJ000047.jpg 6 file-label\n",
      "train_features/ZJ000048.jpg 6 file-label\n",
      "train_features/ZJ000049.jpg 0 file-label\n",
      "Epoch 7/10\n",
      "515/515 [==============================] - 60s 116ms/step - loss: 0.0797 - accuracy: 0.9222\n",
      "train_features/ZJ000000.jpg 1 file-label\n",
      "train_features/ZJ000001.jpg 6 file-label\n",
      "train_features/ZJ000002.jpg 1 file-label\n",
      "train_features/ZJ000003.jpg 6 file-label\n",
      "train_features/ZJ000004.jpg 5 file-label\n",
      "train_features/ZJ000005.jpg 4 file-label\n",
      "train_features/ZJ000006.jpg 3 file-label\n",
      "train_features/ZJ000007.jpg 0 file-label\n",
      "train_features/ZJ000008.jpg 5 file-label\n",
      "train_features/ZJ000009.jpg 1 file-label\n",
      "train_features/ZJ000010.jpg 5 file-label\n",
      "train_features/ZJ000011.jpg 5 file-label\n",
      "train_features/ZJ000012.jpg 6 file-label\n",
      "train_features/ZJ000013.jpg 2 file-label\n",
      "train_features/ZJ000014.jpg 6 file-label\n",
      "train_features/ZJ000015.jpg 2 file-label\n",
      "train_features/ZJ000016.jpg 5 file-label\n",
      "train_features/ZJ000017.jpg 1 file-label\n",
      "train_features/ZJ000018.jpg 2 file-label\n",
      "train_features/ZJ000019.jpg 6 file-label\n",
      "train_features/ZJ000020.jpg 5 file-label\n",
      "train_features/ZJ000021.jpg 6 file-label\n",
      "train_features/ZJ000022.jpg 0 file-label\n",
      "train_features/ZJ000023.jpg 5 file-label\n",
      "train_features/ZJ000024.jpg 6 file-label\n",
      "train_features/ZJ000025.jpg 7 file-label\n",
      "train_features/ZJ000026.jpg 6 file-label\n",
      "train_features/ZJ000027.jpg 6 file-label\n",
      "train_features/ZJ000028.jpg 6 file-label\n",
      "train_features/ZJ000029.jpg 2 file-label\n",
      "train_features/ZJ000030.jpg 0 file-label\n",
      "train_features/ZJ000031.jpg 6 file-label\n",
      "train_features/ZJ000032.jpg 4 file-label\n",
      "train_features/ZJ000033.jpg 3 file-label\n",
      "train_features/ZJ000034.jpg 6 file-label\n",
      "train_features/ZJ000035.jpg 7 file-label\n",
      "train_features/ZJ000036.jpg 3 file-label\n",
      "train_features/ZJ000037.jpg 0 file-label\n",
      "train_features/ZJ000038.jpg 6 file-label\n",
      "train_features/ZJ000039.jpg 0 file-label\n",
      "train_features/ZJ000040.jpg 3 file-label\n",
      "train_features/ZJ000041.jpg 2 file-label\n",
      "train_features/ZJ000042.jpg 5 file-label\n",
      "train_features/ZJ000043.jpg 0 file-label\n",
      "train_features/ZJ000044.jpg 3 file-label\n",
      "train_features/ZJ000045.jpg 2 file-label\n",
      "train_features/ZJ000046.jpg 5 file-label\n",
      "train_features/ZJ000047.jpg 6 file-label\n",
      "train_features/ZJ000048.jpg 6 file-label\n",
      "train_features/ZJ000049.jpg 0 file-label\n",
      "Epoch 8/10\n",
      "515/515 [==============================] - 59s 114ms/step - loss: 0.0704 - accuracy: 0.9335\n",
      "train_features/ZJ000000.jpg 1 file-label\n",
      "train_features/ZJ000001.jpg 6 file-label\n",
      "train_features/ZJ000002.jpg 1 file-label\n",
      "train_features/ZJ000003.jpg 6 file-label\n",
      "train_features/ZJ000004.jpg 5 file-label\n",
      "train_features/ZJ000005.jpg 4 file-label\n",
      "train_features/ZJ000006.jpg 3 file-label\n",
      "train_features/ZJ000007.jpg 0 file-label\n",
      "train_features/ZJ000008.jpg 5 file-label\n",
      "train_features/ZJ000009.jpg 1 file-label\n",
      "train_features/ZJ000010.jpg 5 file-label\n",
      "train_features/ZJ000011.jpg 5 file-label\n",
      "train_features/ZJ000012.jpg 6 file-label\n",
      "train_features/ZJ000013.jpg 2 file-label\n",
      "train_features/ZJ000014.jpg 6 file-label\n",
      "train_features/ZJ000015.jpg 2 file-label\n",
      "train_features/ZJ000016.jpg 5 file-label\n",
      "train_features/ZJ000017.jpg 1 file-label\n",
      "train_features/ZJ000018.jpg 2 file-label\n",
      "train_features/ZJ000019.jpg 6 file-label\n",
      "train_features/ZJ000020.jpg 5 file-label\n",
      "train_features/ZJ000021.jpg 6 file-label\n",
      "train_features/ZJ000022.jpg 0 file-label\n",
      "train_features/ZJ000023.jpg 5 file-label\n",
      "train_features/ZJ000024.jpg 6 file-label\n",
      "train_features/ZJ000025.jpg 7 file-label\n",
      "train_features/ZJ000026.jpg 6 file-label\n",
      "train_features/ZJ000027.jpg 6 file-label\n",
      "train_features/ZJ000028.jpg 6 file-label\n",
      "train_features/ZJ000029.jpg 2 file-label\n",
      "train_features/ZJ000030.jpg 0 file-label\n",
      "train_features/ZJ000031.jpg 6 file-label\n",
      "train_features/ZJ000032.jpg 4 file-label\n",
      "train_features/ZJ000033.jpg 3 file-label\n",
      "train_features/ZJ000034.jpg 6 file-label\n",
      "train_features/ZJ000035.jpg 7 file-label\n",
      "train_features/ZJ000036.jpg 3 file-label\n",
      "train_features/ZJ000037.jpg 0 file-label\n",
      "train_features/ZJ000038.jpg 6 file-label\n",
      "train_features/ZJ000039.jpg 0 file-label\n",
      "train_features/ZJ000040.jpg 3 file-label\n",
      "train_features/ZJ000041.jpg 2 file-label\n",
      "train_features/ZJ000042.jpg 5 file-label\n",
      "train_features/ZJ000043.jpg 0 file-label\n",
      "train_features/ZJ000044.jpg 3 file-label\n",
      "train_features/ZJ000045.jpg 2 file-label\n",
      "train_features/ZJ000046.jpg 5 file-label\n",
      "train_features/ZJ000047.jpg 6 file-label\n",
      "train_features/ZJ000048.jpg 6 file-label\n",
      "train_features/ZJ000049.jpg 0 file-label\n",
      "Epoch 9/10\n"
     ]
    },
    {
     "name": "stdout",
     "output_type": "stream",
     "text": [
      "515/515 [==============================] - 59s 114ms/step - loss: 0.0637 - accuracy: 0.9425\n",
      "train_features/ZJ000000.jpg 1 file-label\n",
      "train_features/ZJ000001.jpg 6 file-label\n",
      "train_features/ZJ000002.jpg 1 file-label\n",
      "train_features/ZJ000003.jpg 6 file-label\n",
      "train_features/ZJ000004.jpg 5 file-label\n",
      "train_features/ZJ000005.jpg 4 file-label\n",
      "train_features/ZJ000006.jpg 3 file-label\n",
      "train_features/ZJ000007.jpg 0 file-label\n",
      "train_features/ZJ000008.jpg 5 file-label\n",
      "train_features/ZJ000009.jpg 1 file-label\n",
      "train_features/ZJ000010.jpg 5 file-label\n",
      "train_features/ZJ000011.jpg 5 file-label\n",
      "train_features/ZJ000012.jpg 6 file-label\n",
      "train_features/ZJ000013.jpg 2 file-label\n",
      "train_features/ZJ000014.jpg 6 file-label\n",
      "train_features/ZJ000015.jpg 2 file-label\n",
      "train_features/ZJ000016.jpg 5 file-label\n",
      "train_features/ZJ000017.jpg 1 file-label\n",
      "train_features/ZJ000018.jpg 2 file-label\n",
      "train_features/ZJ000019.jpg 6 file-label\n",
      "train_features/ZJ000020.jpg 5 file-label\n",
      "train_features/ZJ000021.jpg 6 file-label\n",
      "train_features/ZJ000022.jpg 0 file-label\n",
      "train_features/ZJ000023.jpg 5 file-label\n",
      "train_features/ZJ000024.jpg 6 file-label\n",
      "train_features/ZJ000025.jpg 7 file-label\n",
      "train_features/ZJ000026.jpg 6 file-label\n",
      "train_features/ZJ000027.jpg 6 file-label\n",
      "train_features/ZJ000028.jpg 6 file-label\n",
      "train_features/ZJ000029.jpg 2 file-label\n",
      "train_features/ZJ000030.jpg 0 file-label\n",
      "train_features/ZJ000031.jpg 6 file-label\n",
      "train_features/ZJ000032.jpg 4 file-label\n",
      "train_features/ZJ000033.jpg 3 file-label\n",
      "train_features/ZJ000034.jpg 6 file-label\n",
      "train_features/ZJ000035.jpg 7 file-label\n",
      "train_features/ZJ000036.jpg 3 file-label\n",
      "train_features/ZJ000037.jpg 0 file-label\n",
      "train_features/ZJ000038.jpg 6 file-label\n",
      "train_features/ZJ000039.jpg 0 file-label\n",
      "train_features/ZJ000040.jpg 3 file-label\n",
      "train_features/ZJ000041.jpg 2 file-label\n",
      "train_features/ZJ000042.jpg 5 file-label\n",
      "train_features/ZJ000043.jpg 0 file-label\n",
      "train_features/ZJ000044.jpg 3 file-label\n",
      "train_features/ZJ000045.jpg 2 file-label\n",
      "train_features/ZJ000046.jpg 5 file-label\n",
      "train_features/ZJ000047.jpg 6 file-label\n",
      "train_features/ZJ000048.jpg 6 file-label\n",
      "train_features/ZJ000049.jpg 0 file-label\n",
      "Epoch 10/10\n",
      "515/515 [==============================] - 59s 114ms/step - loss: 0.0578 - accuracy: 0.9486\n",
      "train_features/ZJ000000.jpg 1 file-label\n",
      "train_features/ZJ000001.jpg 6 file-label\n",
      "train_features/ZJ000002.jpg 1 file-label\n",
      "train_features/ZJ000003.jpg 6 file-label\n",
      "train_features/ZJ000004.jpg 5 file-label\n",
      "train_features/ZJ000005.jpg 4 file-label\n",
      "train_features/ZJ000006.jpg 3 file-label\n",
      "train_features/ZJ000007.jpg 0 file-label\n",
      "train_features/ZJ000008.jpg 5 file-label\n",
      "train_features/ZJ000009.jpg 1 file-label\n",
      "train_features/ZJ000010.jpg 5 file-label\n",
      "train_features/ZJ000011.jpg 5 file-label\n",
      "train_features/ZJ000012.jpg 6 file-label\n",
      "train_features/ZJ000013.jpg 2 file-label\n",
      "train_features/ZJ000014.jpg 6 file-label\n",
      "train_features/ZJ000015.jpg 2 file-label\n",
      "train_features/ZJ000016.jpg 5 file-label\n",
      "train_features/ZJ000017.jpg 1 file-label\n",
      "train_features/ZJ000018.jpg 2 file-label\n",
      "train_features/ZJ000019.jpg 6 file-label\n",
      "train_features/ZJ000020.jpg 5 file-label\n",
      "train_features/ZJ000021.jpg 6 file-label\n",
      "train_features/ZJ000022.jpg 0 file-label\n",
      "train_features/ZJ000023.jpg 5 file-label\n",
      "train_features/ZJ000024.jpg 6 file-label\n",
      "train_features/ZJ000025.jpg 7 file-label\n",
      "train_features/ZJ000026.jpg 6 file-label\n",
      "train_features/ZJ000027.jpg 6 file-label\n",
      "train_features/ZJ000028.jpg 6 file-label\n",
      "train_features/ZJ000029.jpg 2 file-label\n",
      "train_features/ZJ000030.jpg 0 file-label\n",
      "train_features/ZJ000031.jpg 6 file-label\n",
      "train_features/ZJ000032.jpg 4 file-label\n",
      "train_features/ZJ000033.jpg 3 file-label\n",
      "train_features/ZJ000034.jpg 6 file-label\n",
      "train_features/ZJ000035.jpg 7 file-label\n",
      "train_features/ZJ000036.jpg 3 file-label\n",
      "train_features/ZJ000037.jpg 0 file-label\n",
      "train_features/ZJ000038.jpg 6 file-label\n",
      "train_features/ZJ000039.jpg 0 file-label\n",
      "train_features/ZJ000040.jpg 3 file-label\n",
      "train_features/ZJ000041.jpg 2 file-label\n",
      "train_features/ZJ000042.jpg 5 file-label\n",
      "train_features/ZJ000043.jpg 0 file-label\n",
      "train_features/ZJ000044.jpg 3 file-label\n",
      "train_features/ZJ000045.jpg 2 file-label\n",
      "train_features/ZJ000046.jpg 5 file-label\n",
      "train_features/ZJ000047.jpg 6 file-label\n",
      "train_features/ZJ000048.jpg 6 file-label\n",
      "train_features/ZJ000049.jpg 0 file-label\n"
     ]
    }
   ],
   "source": [
    "tf=model.fit(data,epochs=10,verbose=1,shuffle=True)"
   ]
  },
  {
   "cell_type": "markdown",
   "id": "19de1a01",
   "metadata": {},
   "source": [
    "Evaluation\n"
   ]
  },
  {
   "cell_type": "code",
   "execution_count": 28,
   "id": "de27d4d8",
   "metadata": {},
   "outputs": [
    {
     "ename": "AttributeError",
     "evalue": "'History' object has no attribute 'History'",
     "output_type": "error",
     "traceback": [
      "\u001b[1;31m---------------------------------------------------------------------------\u001b[0m",
      "\u001b[1;31mAttributeError\u001b[0m                            Traceback (most recent call last)",
      "Cell \u001b[1;32mIn [28], line 1\u001b[0m\n\u001b[1;32m----> 1\u001b[0m \u001b[43mtf\u001b[49m\u001b[38;5;241;43m.\u001b[39;49m\u001b[43mHistory\u001b[49m()\n",
      "\u001b[1;31mAttributeError\u001b[0m: 'History' object has no attribute 'History'"
     ]
    }
   ],
   "source": [
    "# tf.History()"
   ]
  },
  {
   "cell_type": "code",
   "execution_count": null,
   "id": "7d0575a9",
   "metadata": {},
   "outputs": [],
   "source": []
  },
  {
   "cell_type": "code",
   "execution_count": 29,
   "id": "ce096d43",
   "metadata": {},
   "outputs": [
    {
     "name": "stderr",
     "output_type": "stream",
     "text": [
      "WARNING:absl:Found untraced functions such as _jit_compiled_convolution_op, _jit_compiled_convolution_op while saving (showing 2 of 2). These functions will not be directly callable after loading.\n"
     ]
    },
    {
     "name": "stdout",
     "output_type": "stream",
     "text": [
      "INFO:tensorflow:Assets written to: CNN.1\\assets\n"
     ]
    },
    {
     "name": "stderr",
     "output_type": "stream",
     "text": [
      "INFO:tensorflow:Assets written to: CNN.1\\assets\n"
     ]
    }
   ],
   "source": [
    "model.save(\"CNN.1\")"
   ]
  },
  {
   "cell_type": "code",
   "execution_count": null,
   "id": "751b473b",
   "metadata": {},
   "outputs": [],
   "source": [
    "# import pickle as pk\n",
    "\n",
    "# with open(\"cnn-model1.pickle\", 'wb') as cnn:\n",
    "#     pk.dump(model, cnn)\n",
    "#     cnn.close()"
   ]
  },
  {
   "cell_type": "code",
   "execution_count": null,
   "id": "9bd590b8",
   "metadata": {},
   "outputs": [],
   "source": [
    "# import tensorflow as tf"
   ]
  },
  {
   "cell_type": "code",
   "execution_count": null,
   "id": "8c7f6127",
   "metadata": {},
   "outputs": [],
   "source": [
    "# import pickle as pk\n",
    "# with open(\"C:/Users/Karan/conser-vision/data/pickles/cnn-model1.pickle\", 'rb') as sm:\n",
    "#     model=pk.load(sm)\n",
    "#     sm.close()"
   ]
  },
  {
   "cell_type": "code",
   "execution_count": 30,
   "id": "5cbe659b",
   "metadata": {},
   "outputs": [],
   "source": [
    "loaded=tensorflow.keras.models.load_model('CNN.1')"
   ]
  },
  {
   "cell_type": "code",
   "execution_count": 31,
   "id": "f3707631",
   "metadata": {},
   "outputs": [
    {
     "data": {
      "text/html": [
       "<div>\n",
       "<style scoped>\n",
       "    .dataframe tbody tr th:only-of-type {\n",
       "        vertical-align: middle;\n",
       "    }\n",
       "\n",
       "    .dataframe tbody tr th {\n",
       "        vertical-align: top;\n",
       "    }\n",
       "\n",
       "    .dataframe thead th {\n",
       "        text-align: right;\n",
       "    }\n",
       "</style>\n",
       "<table border=\"1\" class=\"dataframe\">\n",
       "  <thead>\n",
       "    <tr style=\"text-align: right;\">\n",
       "      <th></th>\n",
       "      <th>id</th>\n",
       "      <th>filepath</th>\n",
       "      <th>site</th>\n",
       "    </tr>\n",
       "  </thead>\n",
       "  <tbody>\n",
       "    <tr>\n",
       "      <th>0</th>\n",
       "      <td>ZJ016488</td>\n",
       "      <td>test_features/ZJ016488.jpg</td>\n",
       "      <td>S0082</td>\n",
       "    </tr>\n",
       "    <tr>\n",
       "      <th>1</th>\n",
       "      <td>ZJ016489</td>\n",
       "      <td>test_features/ZJ016489.jpg</td>\n",
       "      <td>S0040</td>\n",
       "    </tr>\n",
       "    <tr>\n",
       "      <th>2</th>\n",
       "      <td>ZJ016490</td>\n",
       "      <td>test_features/ZJ016490.jpg</td>\n",
       "      <td>S0040</td>\n",
       "    </tr>\n",
       "    <tr>\n",
       "      <th>3</th>\n",
       "      <td>ZJ016491</td>\n",
       "      <td>test_features/ZJ016491.jpg</td>\n",
       "      <td>S0041</td>\n",
       "    </tr>\n",
       "    <tr>\n",
       "      <th>4</th>\n",
       "      <td>ZJ016492</td>\n",
       "      <td>test_features/ZJ016492.jpg</td>\n",
       "      <td>S0040</td>\n",
       "    </tr>\n",
       "    <tr>\n",
       "      <th>...</th>\n",
       "      <td>...</td>\n",
       "      <td>...</td>\n",
       "      <td>...</td>\n",
       "    </tr>\n",
       "    <tr>\n",
       "      <th>4459</th>\n",
       "      <td>ZJ020947</td>\n",
       "      <td>test_features/ZJ020947.jpg</td>\n",
       "      <td>S0086</td>\n",
       "    </tr>\n",
       "    <tr>\n",
       "      <th>4460</th>\n",
       "      <td>ZJ020948</td>\n",
       "      <td>test_features/ZJ020948.jpg</td>\n",
       "      <td>S0152</td>\n",
       "    </tr>\n",
       "    <tr>\n",
       "      <th>4461</th>\n",
       "      <td>ZJ020949</td>\n",
       "      <td>test_features/ZJ020949.jpg</td>\n",
       "      <td>S0162</td>\n",
       "    </tr>\n",
       "    <tr>\n",
       "      <th>4462</th>\n",
       "      <td>ZJ020950</td>\n",
       "      <td>test_features/ZJ020950.jpg</td>\n",
       "      <td>S0055</td>\n",
       "    </tr>\n",
       "    <tr>\n",
       "      <th>4463</th>\n",
       "      <td>ZJ020951</td>\n",
       "      <td>test_features/ZJ020951.jpg</td>\n",
       "      <td>S0114</td>\n",
       "    </tr>\n",
       "  </tbody>\n",
       "</table>\n",
       "<p>4464 rows × 3 columns</p>\n",
       "</div>"
      ],
      "text/plain": [
       "            id                    filepath   site\n",
       "0     ZJ016488  test_features/ZJ016488.jpg  S0082\n",
       "1     ZJ016489  test_features/ZJ016489.jpg  S0040\n",
       "2     ZJ016490  test_features/ZJ016490.jpg  S0040\n",
       "3     ZJ016491  test_features/ZJ016491.jpg  S0041\n",
       "4     ZJ016492  test_features/ZJ016492.jpg  S0040\n",
       "...        ...                         ...    ...\n",
       "4459  ZJ020947  test_features/ZJ020947.jpg  S0086\n",
       "4460  ZJ020948  test_features/ZJ020948.jpg  S0152\n",
       "4461  ZJ020949  test_features/ZJ020949.jpg  S0162\n",
       "4462  ZJ020950  test_features/ZJ020950.jpg  S0055\n",
       "4463  ZJ020951  test_features/ZJ020951.jpg  S0114\n",
       "\n",
       "[4464 rows x 3 columns]"
      ]
     },
     "execution_count": 31,
     "metadata": {},
     "output_type": "execute_result"
    }
   ],
   "source": [
    "test=pd.read_csv('test_features.csv')\n",
    "test"
   ]
  },
  {
   "cell_type": "code",
   "execution_count": 32,
   "id": "72e6c55d",
   "metadata": {},
   "outputs": [],
   "source": [
    "\n",
    "# Test_imgFiles = [tf.keras.utils.load_img(name, target_size=(224, 224, 3)) for name in test['filepath']]"
   ]
  },
  {
   "cell_type": "code",
   "execution_count": 33,
   "id": "7f821aac",
   "metadata": {},
   "outputs": [],
   "source": [
    "# print(len(Test_imgFiles))\n",
    "# Test_imgFiles=np.array(Test_imgFiles)\n",
    "# Test_imgFiles.shape"
   ]
  },
  {
   "cell_type": "code",
   "execution_count": 34,
   "id": "c841b338",
   "metadata": {},
   "outputs": [],
   "source": [
    "# Test_imgFiles=[tf.keras.utils.img_to_array(img) for img in Test_imgFiles]\n",
    "# # y=tf.convert_to_tensor(Test_imgFiles)"
   ]
  },
  {
   "cell_type": "code",
   "execution_count": 35,
   "id": "274e8694",
   "metadata": {},
   "outputs": [],
   "source": [
    "# tf.config.experimental.get_memory_info('GPU:0')['current'] / 10**9"
   ]
  },
  {
   "cell_type": "code",
   "execution_count": 36,
   "id": "91ab2df4",
   "metadata": {},
   "outputs": [],
   "source": [
    "# y_pred=model.predict(Test_imgFiles[3])"
   ]
  },
  {
   "cell_type": "code",
   "execution_count": 37,
   "id": "59687caa",
   "metadata": {},
   "outputs": [],
   "source": [
    "img_size=(224,224)\n",
    "from tensorflow.keras.preprocessing.image import ImageDataGenerator"
   ]
  },
  {
   "cell_type": "code",
   "execution_count": 38,
   "id": "e251e384",
   "metadata": {},
   "outputs": [],
   "source": [
    "def make_gens(batch_size,test_df,img_size):\n",
    "    t_gen=ImageDataGenerator()\n",
    "    test_gen=t_gen.flow_from_dataframe(test,x_col='filepath',batch_size=32,class_mode=None,target_size=(224,224))\n",
    "    test_steps=int(len(test_df)/batch_size)\n",
    "    return test_gen,test_steps"
   ]
  },
  {
   "cell_type": "code",
   "execution_count": 39,
   "id": "f14b4ee9",
   "metadata": {},
   "outputs": [
    {
     "name": "stdout",
     "output_type": "stream",
     "text": [
      "Found 4464 validated image filenames.\n"
     ]
    }
   ],
   "source": [
    "test_gen,steps=make_gens(32,test,img_size)"
   ]
  },
  {
   "cell_type": "code",
   "execution_count": 40,
   "id": "ed907fa6",
   "metadata": {},
   "outputs": [
    {
     "data": {
      "text/plain": [
       "(32, 224, 224, 3)"
      ]
     },
     "execution_count": 40,
     "metadata": {},
     "output_type": "execute_result"
    }
   ],
   "source": [
    "test_gen[0].shape"
   ]
  },
  {
   "cell_type": "code",
   "execution_count": 41,
   "id": "0f104a44",
   "metadata": {},
   "outputs": [
    {
     "name": "stdout",
     "output_type": "stream",
     "text": [
      "140/140 [==============================] - 33s 235ms/step\n"
     ]
    }
   ],
   "source": [
    "preds=model.predict(test_gen,verbose=1)"
   ]
  },
  {
   "cell_type": "code",
   "execution_count": 42,
   "id": "3f148291",
   "metadata": {},
   "outputs": [
    {
     "data": {
      "text/plain": [
       "array([[0.0000000e+00, 0.0000000e+00, 2.4538881e-24, ..., 1.0000000e+00,\n",
       "        0.0000000e+00, 0.0000000e+00],\n",
       "       [0.0000000e+00, 0.0000000e+00, 0.0000000e+00, ..., 0.0000000e+00,\n",
       "        0.0000000e+00, 0.0000000e+00],\n",
       "       [1.0000000e+00, 0.0000000e+00, 0.0000000e+00, ..., 0.0000000e+00,\n",
       "        0.0000000e+00, 0.0000000e+00],\n",
       "       ...,\n",
       "       [0.0000000e+00, 0.0000000e+00, 0.0000000e+00, ..., 0.0000000e+00,\n",
       "        1.0000000e+00, 0.0000000e+00],\n",
       "       [0.0000000e+00, 0.0000000e+00, 1.0000000e+00, ..., 0.0000000e+00,\n",
       "        0.0000000e+00, 0.0000000e+00],\n",
       "       [0.0000000e+00, 0.0000000e+00, 1.0000000e+00, ..., 0.0000000e+00,\n",
       "        0.0000000e+00, 0.0000000e+00]], dtype=float32)"
      ]
     },
     "execution_count": 42,
     "metadata": {},
     "output_type": "execute_result"
    }
   ],
   "source": [
    "type(preds)\n",
    "preds.shape\n",
    "preds"
   ]
  },
  {
   "cell_type": "code",
   "execution_count": 43,
   "id": "262223ae",
   "metadata": {},
   "outputs": [],
   "source": [
    "np.set_printoptions(suppress=True)"
   ]
  },
  {
   "cell_type": "code",
   "execution_count": 44,
   "id": "a2f4e477",
   "metadata": {},
   "outputs": [
    {
     "data": {
      "text/plain": [
       "array([0., 0., 0., 0., 1., 0., 0., 0.], dtype=float32)"
      ]
     },
     "execution_count": 44,
     "metadata": {},
     "output_type": "execute_result"
    }
   ],
   "source": [
    "preds[1]"
   ]
  },
  {
   "cell_type": "code",
   "execution_count": 45,
   "id": "5c8defd6",
   "metadata": {},
   "outputs": [],
   "source": [
    "# preds_1 = np.array([np.argmax(preds[i, :]) for i in range(preds.shape[0])])"
   ]
  },
  {
   "cell_type": "code",
   "execution_count": 46,
   "id": "9d47fbdc",
   "metadata": {},
   "outputs": [],
   "source": [
    "# preds"
   ]
  },
  {
   "cell_type": "code",
   "execution_count": 47,
   "id": "79cde970",
   "metadata": {},
   "outputs": [
    {
     "data": {
      "text/plain": [
       "array([[0., 0., 0., ..., 1., 0., 0.],\n",
       "       [0., 0., 0., ..., 0., 0., 0.],\n",
       "       [1., 0., 0., ..., 0., 0., 0.],\n",
       "       ...,\n",
       "       [0., 0., 0., ..., 0., 1., 0.],\n",
       "       [0., 0., 1., ..., 0., 0., 0.],\n",
       "       [0., 0., 1., ..., 0., 0., 0.]], dtype=float32)"
      ]
     },
     "execution_count": 47,
     "metadata": {},
     "output_type": "execute_result"
    }
   ],
   "source": [
    "z_pred=np.zeros_like(preds)\n",
    "for i in range(preds.shape[0]):\n",
    "    j=np.argmax(preds[i,:])\n",
    "    z_pred[i,j]=1\n",
    "z_pred"
   ]
  },
  {
   "cell_type": "code",
   "execution_count": 48,
   "id": "9bcd3e77",
   "metadata": {},
   "outputs": [],
   "source": [
    "final_labels=[]\n",
    "for i in range(preds.shape[0]):\n",
    "    final_labels.append(np.argmax(preds[i]))"
   ]
  },
  {
   "cell_type": "code",
   "execution_count": 49,
   "id": "069b2e90",
   "metadata": {},
   "outputs": [],
   "source": [
    "final_labels=np.array(final_labels)"
   ]
  },
  {
   "cell_type": "code",
   "execution_count": 118,
   "id": "8da7c2ac",
   "metadata": {},
   "outputs": [
    {
     "data": {
      "text/plain": [
       "3"
      ]
     },
     "execution_count": 118,
     "metadata": {},
     "output_type": "execute_result"
    }
   ],
   "source": [
    "final_labels[0]"
   ]
  },
  {
   "cell_type": "code",
   "execution_count": 88,
   "id": "7cedf794",
   "metadata": {},
   "outputs": [],
   "source": [
    "pp=np.unique(final_labels)"
   ]
  },
  {
   "cell_type": "code",
   "execution_count": 87,
   "id": "21deff13",
   "metadata": {},
   "outputs": [
    {
     "data": {
      "text/plain": [
       "Index(['antelope_duiker', 'bird', 'blank', 'civet_genet', 'hog', 'leopard',\n",
       "       'monkey_prosimian', 'rodent'],\n",
       "      dtype='object')"
      ]
     },
     "execution_count": 87,
     "metadata": {},
     "output_type": "execute_result"
    }
   ],
   "source": [
    "classes"
   ]
  },
  {
   "cell_type": "code",
   "execution_count": 90,
   "id": "c54af8c0",
   "metadata": {},
   "outputs": [
    {
     "data": {
      "text/plain": [
       "{0: 'antelope_duiker',\n",
       " 1: 'bird',\n",
       " 2: 'blank',\n",
       " 3: 'civet_genet',\n",
       " 4: 'hog',\n",
       " 5: 'leopard',\n",
       " 6: 'monkey_prosimian',\n",
       " 7: 'rodent'}"
      ]
     },
     "execution_count": 90,
     "metadata": {},
     "output_type": "execute_result"
    }
   ],
   "source": [
    "c_l=dict()\n",
    "for i in pp:\n",
    "    c_l[i]=classes[i]\n",
    "c_l"
   ]
  },
  {
   "cell_type": "code",
   "execution_count": 91,
   "id": "4c64acfe",
   "metadata": {},
   "outputs": [],
   "source": [
    "pp=np.unique(final_labels,return_counts=True)"
   ]
  },
  {
   "cell_type": "code",
   "execution_count": 93,
   "id": "37ea98d7",
   "metadata": {},
   "outputs": [
    {
     "data": {
      "text/plain": [
       "array([0, 1, 2, 3, 4, 5, 6, 7], dtype=int64)"
      ]
     },
     "execution_count": 93,
     "metadata": {},
     "output_type": "execute_result"
    }
   ],
   "source": [
    "pp[0]"
   ]
  },
  {
   "cell_type": "code",
   "execution_count": 94,
   "id": "0701c406",
   "metadata": {},
   "outputs": [
    {
     "ename": "TypeError",
     "evalue": "tuple indices must be integers or slices, not tuple",
     "output_type": "error",
     "traceback": [
      "\u001b[1;31m---------------------------------------------------------------------------\u001b[0m",
      "\u001b[1;31mTypeError\u001b[0m                                 Traceback (most recent call last)",
      "Cell \u001b[1;32mIn [94], line 2\u001b[0m\n\u001b[0;32m      1\u001b[0m \u001b[38;5;28;01mfor\u001b[39;00m i \u001b[38;5;129;01min\u001b[39;00m \u001b[38;5;28mrange\u001b[39m(pp[\u001b[38;5;241m0\u001b[39m]\u001b[38;5;241m.\u001b[39mshape[\u001b[38;5;241m0\u001b[39m]):\n\u001b[1;32m----> 2\u001b[0m     pp[\u001b[38;5;241m0\u001b[39m][i]\u001b[38;5;241m=\u001b[39mnp\u001b[38;5;241m.\u001b[39mwhere(\u001b[43mpp\u001b[49m\u001b[43m[\u001b[49m\u001b[38;5;241;43m0\u001b[39;49m\u001b[43m,\u001b[49m\u001b[43mi\u001b[49m\u001b[43m]\u001b[49m \u001b[38;5;129;01min\u001b[39;00m c_l\u001b[38;5;241m.\u001b[39mkeys(),\n\u001b[0;32m      3\u001b[0m                       c_l[i],\n\u001b[0;32m      4\u001b[0m                       \u001b[38;5;241m0\u001b[39m)\n",
      "\u001b[1;31mTypeError\u001b[0m: tuple indices must be integers or slices, not tuple"
     ]
    }
   ],
   "source": [
    "for i in range(pp[0].shape[0]):\n",
    "    pp[0][i]=np.where(pp[0,i] in c_l.keys(),\n",
    "                      c_l[i],\n",
    "                      0)"
   ]
  },
  {
   "cell_type": "code",
   "execution_count": 51,
   "id": "f8b14382",
   "metadata": {
    "scrolled": true
   },
   "outputs": [
    {
     "data": {
      "text/plain": [
       "array([0.04823279, 0.18918532, 0.04491418, 0.19958797, 0.10611783,\n",
       "       0.13291451, 0.16640995, 0.11263745])"
      ]
     },
     "execution_count": 51,
     "metadata": {},
     "output_type": "execute_result"
    }
   ],
   "source": [
    "sub=pd.read_csv('submission_format.csv')\n",
    "sub=sub.iloc[:,1:].to_numpy()\n",
    "sub[0]"
   ]
  },
  {
   "cell_type": "code",
   "execution_count": 52,
   "id": "69d65dee",
   "metadata": {},
   "outputs": [
    {
     "data": {
      "text/plain": [
       "array([[0., 0., 0., ..., 0., 0., 0.],\n",
       "       [0., 0., 0., ..., 0., 1., 0.],\n",
       "       [0., 0., 1., ..., 0., 0., 0.],\n",
       "       ...,\n",
       "       [0., 0., 1., ..., 0., 0., 0.],\n",
       "       [0., 0., 1., ..., 0., 0., 0.],\n",
       "       [0., 0., 0., ..., 0., 1., 0.]])"
      ]
     },
     "execution_count": 52,
     "metadata": {},
     "output_type": "execute_result"
    }
   ],
   "source": [
    "soc=np.zeros_like(sub)\n",
    "for i in range(sub.shape[0]):\n",
    "    j=np.argmax(sub[i,:])\n",
    "    soc[i,j]=1\n",
    "soc\n",
    "# k=np.argmax(sub[0,:])\n",
    "# k"
   ]
  },
  {
   "cell_type": "code",
   "execution_count": 53,
   "id": "7c245267",
   "metadata": {},
   "outputs": [
    {
     "ename": "ModuleNotFoundError",
     "evalue": "No module named 'sklearn'",
     "output_type": "error",
     "traceback": [
      "\u001b[1;31m---------------------------------------------------------------------------\u001b[0m",
      "\u001b[1;31mModuleNotFoundError\u001b[0m                       Traceback (most recent call last)",
      "Cell \u001b[1;32mIn [53], line 1\u001b[0m\n\u001b[1;32m----> 1\u001b[0m \u001b[38;5;28;01mfrom\u001b[39;00m \u001b[38;5;21;01msklearn\u001b[39;00m\u001b[38;5;21;01m.\u001b[39;00m\u001b[38;5;21;01mmetrics\u001b[39;00m \u001b[38;5;28;01mimport\u001b[39;00m accuracy_score\n\u001b[0;32m      2\u001b[0m accuracy_score(z_pred, soc)\n",
      "\u001b[1;31mModuleNotFoundError\u001b[0m: No module named 'sklearn'"
     ]
    }
   ],
   "source": [
    "from sklearn.metrics import accuracy_score\n",
    "accuracy_score(z_pred, soc)"
   ]
  },
  {
   "cell_type": "code",
   "execution_count": 54,
   "id": "5613af09",
   "metadata": {},
   "outputs": [
    {
     "data": {
      "text/plain": [
       "array([[0., 0., 0., ..., 1., 0., 0.],\n",
       "       [0., 0., 0., ..., 0., 0., 0.],\n",
       "       [1., 0., 0., ..., 0., 0., 0.],\n",
       "       ...,\n",
       "       [0., 0., 0., ..., 0., 1., 0.],\n",
       "       [0., 0., 1., ..., 0., 0., 0.],\n",
       "       [0., 0., 1., ..., 0., 0., 0.]], dtype=float32)"
      ]
     },
     "execution_count": 54,
     "metadata": {},
     "output_type": "execute_result"
    }
   ],
   "source": [
    "z_pred"
   ]
  },
  {
   "cell_type": "code",
   "execution_count": 55,
   "id": "2ca82150",
   "metadata": {},
   "outputs": [
    {
     "data": {
      "text/plain": [
       "array([[0., 0., 0., ..., 0., 0., 0.],\n",
       "       [0., 0., 0., ..., 0., 1., 0.],\n",
       "       [0., 0., 1., ..., 0., 0., 0.],\n",
       "       ...,\n",
       "       [0., 0., 1., ..., 0., 0., 0.],\n",
       "       [0., 0., 1., ..., 0., 0., 0.],\n",
       "       [0., 0., 0., ..., 0., 1., 0.]])"
      ]
     },
     "execution_count": 55,
     "metadata": {},
     "output_type": "execute_result"
    }
   ],
   "source": [
    "soc"
   ]
  },
  {
   "cell_type": "code",
   "execution_count": 56,
   "id": "17c50ab8",
   "metadata": {},
   "outputs": [],
   "source": [
    "np.savetxt('1',z_pred,delimiter=',')"
   ]
  },
  {
   "cell_type": "code",
   "execution_count": null,
   "id": "2e56834b",
   "metadata": {},
   "outputs": [],
   "source": [
    "np."
   ]
  }
 ],
 "metadata": {
  "kernelspec": {
   "display_name": "tensor",
   "language": "python",
   "name": "tensor"
  },
  "language_info": {
   "codemirror_mode": {
    "name": "ipython",
    "version": 3
   },
   "file_extension": ".py",
   "mimetype": "text/x-python",
   "name": "python",
   "nbconvert_exporter": "python",
   "pygments_lexer": "ipython3",
   "version": "3.10.0"
  }
 },
 "nbformat": 4,
 "nbformat_minor": 5
}
