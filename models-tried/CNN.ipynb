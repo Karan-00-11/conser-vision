{
 "cells": [
  {
   "cell_type": "markdown",
   "id": "06625283",
   "metadata": {},
   "source": [
    "# Load dependencies"
   ]
  },
  {
   "cell_type": "code",
   "execution_count": 37,
   "id": "6ea5f683",
   "metadata": {},
   "outputs": [],
   "source": [
    "import tensorflow as tf\n",
    "import os\n",
    "import pandas as pd\n",
    "import numpy as np\n",
    "# from tensorflow.compact.v1 import ConfigProto"
   ]
  },
  {
   "cell_type": "code",
   "execution_count": null,
   "id": "88e7cb6b",
   "metadata": {},
   "outputs": [],
   "source": [
    "np."
   ]
  },
  {
   "cell_type": "code",
   "execution_count": 38,
   "id": "7296da54",
   "metadata": {},
   "outputs": [],
   "source": [
    "# import tensorflow as tf\n",
    "# print(\"Num of GPUs available: \", len(tf.test.gpu_device_name()))\n"
   ]
  },
  {
   "cell_type": "code",
   "execution_count": 39,
   "id": "481575d3",
   "metadata": {},
   "outputs": [],
   "source": [
    "gpus=tf.config.experimental.list_physical_devices(\"GPU\")\n",
    "for gpu in gpus:\n",
    "    tf.config.experimental.set_memory_growth(gpu,True)"
   ]
  },
  {
   "cell_type": "code",
   "execution_count": 40,
   "id": "3b514d23",
   "metadata": {},
   "outputs": [
    {
     "name": "stdout",
     "output_type": "stream",
     "text": [
      "D:\\Course\\DrivenData Project\n"
     ]
    }
   ],
   "source": [
    "cd D:/Course/DrivenData Project"
   ]
  },
  {
   "cell_type": "code",
   "execution_count": 41,
   "id": "7fde3f6b",
   "metadata": {},
   "outputs": [
    {
     "name": "stdout",
     "output_type": "stream",
     "text": [
      "1.5.1\n"
     ]
    }
   ],
   "source": [
    "print(pd.__version__)"
   ]
  },
  {
   "cell_type": "markdown",
   "id": "e489e9ee",
   "metadata": {},
   "source": [
    "# Import Files\n"
   ]
  },
  {
   "cell_type": "code",
   "execution_count": 42,
   "id": "b6788f72",
   "metadata": {},
   "outputs": [
    {
     "data": {
      "text/plain": [
       "16488"
      ]
     },
     "execution_count": 42,
     "metadata": {},
     "output_type": "execute_result"
    }
   ],
   "source": [
    "data_dir='Dataset'\n",
    "t=os.path.join(data_dir,'train_features')\n",
    "p=os.listdir(os.path.join(data_dir,'train_features'))\n",
    "len(p)"
   ]
  },
  {
   "cell_type": "code",
   "execution_count": 43,
   "id": "9a4a8bdc",
   "metadata": {},
   "outputs": [
    {
     "data": {
      "text/html": [
       "<div>\n",
       "<style scoped>\n",
       "    .dataframe tbody tr th:only-of-type {\n",
       "        vertical-align: middle;\n",
       "    }\n",
       "\n",
       "    .dataframe tbody tr th {\n",
       "        vertical-align: top;\n",
       "    }\n",
       "\n",
       "    .dataframe thead th {\n",
       "        text-align: right;\n",
       "    }\n",
       "</style>\n",
       "<table border=\"1\" class=\"dataframe\">\n",
       "  <thead>\n",
       "    <tr style=\"text-align: right;\">\n",
       "      <th></th>\n",
       "      <th>id</th>\n",
       "      <th>filepath</th>\n",
       "      <th>site</th>\n",
       "    </tr>\n",
       "  </thead>\n",
       "  <tbody>\n",
       "    <tr>\n",
       "      <th>0</th>\n",
       "      <td>ZJ000000</td>\n",
       "      <td>train_features/ZJ000000.jpg</td>\n",
       "      <td>S0120</td>\n",
       "    </tr>\n",
       "    <tr>\n",
       "      <th>1</th>\n",
       "      <td>ZJ000001</td>\n",
       "      <td>train_features/ZJ000001.jpg</td>\n",
       "      <td>S0069</td>\n",
       "    </tr>\n",
       "    <tr>\n",
       "      <th>2</th>\n",
       "      <td>ZJ000002</td>\n",
       "      <td>train_features/ZJ000002.jpg</td>\n",
       "      <td>S0009</td>\n",
       "    </tr>\n",
       "    <tr>\n",
       "      <th>3</th>\n",
       "      <td>ZJ000003</td>\n",
       "      <td>train_features/ZJ000003.jpg</td>\n",
       "      <td>S0008</td>\n",
       "    </tr>\n",
       "    <tr>\n",
       "      <th>4</th>\n",
       "      <td>ZJ000004</td>\n",
       "      <td>train_features/ZJ000004.jpg</td>\n",
       "      <td>S0036</td>\n",
       "    </tr>\n",
       "    <tr>\n",
       "      <th>...</th>\n",
       "      <td>...</td>\n",
       "      <td>...</td>\n",
       "      <td>...</td>\n",
       "    </tr>\n",
       "    <tr>\n",
       "      <th>16483</th>\n",
       "      <td>ZJ016483</td>\n",
       "      <td>train_features/ZJ016483.jpg</td>\n",
       "      <td>S0093</td>\n",
       "    </tr>\n",
       "    <tr>\n",
       "      <th>16484</th>\n",
       "      <td>ZJ016484</td>\n",
       "      <td>train_features/ZJ016484.jpg</td>\n",
       "      <td>S0043</td>\n",
       "    </tr>\n",
       "    <tr>\n",
       "      <th>16485</th>\n",
       "      <td>ZJ016485</td>\n",
       "      <td>train_features/ZJ016485.jpg</td>\n",
       "      <td>S0089</td>\n",
       "    </tr>\n",
       "    <tr>\n",
       "      <th>16486</th>\n",
       "      <td>ZJ016486</td>\n",
       "      <td>train_features/ZJ016486.jpg</td>\n",
       "      <td>S0095</td>\n",
       "    </tr>\n",
       "    <tr>\n",
       "      <th>16487</th>\n",
       "      <td>ZJ016487</td>\n",
       "      <td>train_features/ZJ016487.jpg</td>\n",
       "      <td>S0021</td>\n",
       "    </tr>\n",
       "  </tbody>\n",
       "</table>\n",
       "<p>16488 rows × 3 columns</p>\n",
       "</div>"
      ],
      "text/plain": [
       "             id                     filepath   site\n",
       "0      ZJ000000  train_features/ZJ000000.jpg  S0120\n",
       "1      ZJ000001  train_features/ZJ000001.jpg  S0069\n",
       "2      ZJ000002  train_features/ZJ000002.jpg  S0009\n",
       "3      ZJ000003  train_features/ZJ000003.jpg  S0008\n",
       "4      ZJ000004  train_features/ZJ000004.jpg  S0036\n",
       "...         ...                          ...    ...\n",
       "16483  ZJ016483  train_features/ZJ016483.jpg  S0093\n",
       "16484  ZJ016484  train_features/ZJ016484.jpg  S0043\n",
       "16485  ZJ016485  train_features/ZJ016485.jpg  S0089\n",
       "16486  ZJ016486  train_features/ZJ016486.jpg  S0095\n",
       "16487  ZJ016487  train_features/ZJ016487.jpg  S0021\n",
       "\n",
       "[16488 rows x 3 columns]"
      ]
     },
     "execution_count": 43,
     "metadata": {},
     "output_type": "execute_result"
    }
   ],
   "source": [
    "df=pd.read_csv(os.path.join(data_dir,'train_features.csv'))\n",
    "df"
   ]
  },
  {
   "cell_type": "code",
   "execution_count": 44,
   "id": "08e214a2",
   "metadata": {},
   "outputs": [],
   "source": [
    "train_labels = pd.read_csv(os.path.join(data_dir,'train_labels.csv'))\n",
    "classes = train_labels.columns[1:]\n",
    "train_labels = train_labels.iloc[:, 1:]\n",
    "train_y = np.array([np.argmax(train_labels.iloc[i, :]) for i in range(train_labels.shape[0])])\n",
    "l=list(train_y)"
   ]
  },
  {
   "cell_type": "code",
   "execution_count": 45,
   "id": "1caf17bc",
   "metadata": {},
   "outputs": [
    {
     "data": {
      "text/plain": [
       "(16488,)"
      ]
     },
     "execution_count": 45,
     "metadata": {},
     "output_type": "execute_result"
    }
   ],
   "source": [
    "img_filepath=df['filepath']\n",
    "batch_size=32\n",
    "img_filepath.shape"
   ]
  },
  {
   "cell_type": "markdown",
   "id": "8d8cd4bf",
   "metadata": {},
   "source": [
    "Map Image to its label"
   ]
  },
  {
   "cell_type": "code",
   "execution_count": 46,
   "id": "1fb66a4e",
   "metadata": {},
   "outputs": [
    {
     "data": {
      "text/plain": [
       "'2.9.1'"
      ]
     },
     "execution_count": 46,
     "metadata": {},
     "output_type": "execute_result"
    }
   ],
   "source": [
    "tf.__version__"
   ]
  },
  {
   "cell_type": "code",
   "execution_count": 47,
   "id": "2705303e",
   "metadata": {},
   "outputs": [],
   "source": [
    "# import image\n",
    "from tensorflow import keras\n",
    "from tensorflow.keras.utils import load_img,img_to_array,array_to_img,to_categorical\n",
    "class MyTrainingData(keras.utils.Sequence):\n",
    "    def __init__(self, file, labels, batchSize):\n",
    "        self.file = file\n",
    "        self.label = labels\n",
    "        self.batchSize = batchSize\n",
    "        self.n_batches = int(len(self.file) / self.batchSize)\n",
    "\n",
    "\n",
    "\n",
    "    def on_epoch_end(self):  # it is called after every epoch\n",
    "#         self.file, self.label =shuffle(self.file, self.label)\n",
    "        for i in range(50):\n",
    "            print(self.file[i], self.label[i], 'file-label')\n",
    "\n",
    "\n",
    "    def __len__(self):\n",
    "        return self.n_batches\n",
    "    \n",
    "\n",
    "    # called after every batch to get new batch or new 32 images and labels\n",
    "    def __getitem__(self, idx):\n",
    "        # this method calls by fit method with idx ranging from 0 to len(training_exmaples) / batch_size =\n",
    "        batchX = self.file[idx*self.batchSize: (idx+1)*self.batchSize]\n",
    "        batchY = self.label[idx*self.batchSize: (idx+1)*self.batchSize]\n",
    "        imgFiles = [tf.keras.utils.load_img(name, target_size=(224, 224, 3)) for name in batchX]   #loading 32 images\n",
    "        imgFiles = [tf.keras.utils.img_to_array(img) for img in imgFiles]   #preprocessing\n",
    "        imgFiles = [img / 255 for img in imgFiles] \n",
    "        batchY = to_categorical(batchY, 8)    # 4 represent number of classes (4 in that case)\n",
    "        return np.array(imgFiles), np.array(batchY)\n"
   ]
  },
  {
   "cell_type": "code",
   "execution_count": 48,
   "id": "7b224c9c",
   "metadata": {},
   "outputs": [
    {
     "name": "stdout",
     "output_type": "stream",
     "text": [
      "D:\\Course\\DrivenData Project\\Dataset\n"
     ]
    }
   ],
   "source": [
    "cd D:/Course/DrivenData Project/Dataset"
   ]
  },
  {
   "cell_type": "code",
   "execution_count": 49,
   "id": "914cfeac",
   "metadata": {},
   "outputs": [],
   "source": [
    "data=MyTrainingData(img_filepath,l,batch_size)"
   ]
  },
  {
   "cell_type": "code",
   "execution_count": 50,
   "id": "5914fc9f",
   "metadata": {},
   "outputs": [
    {
     "name": "stdout",
     "output_type": "stream",
     "text": [
      "<class '__main__.MyTrainingData'>\n"
     ]
    },
    {
     "data": {
      "text/plain": [
       "515"
      ]
     },
     "execution_count": 50,
     "metadata": {},
     "output_type": "execute_result"
    }
   ],
   "source": [
    "print(type(data))\n",
    "len(data)"
   ]
  },
  {
   "cell_type": "code",
   "execution_count": 51,
   "id": "e722e0e2",
   "metadata": {},
   "outputs": [],
   "source": [
    "# !pip install pillow"
   ]
  },
  {
   "cell_type": "markdown",
   "id": "3b584dce",
   "metadata": {},
   "source": [
    "# Model"
   ]
  },
  {
   "cell_type": "code",
   "execution_count": 21,
   "id": "b62c7cd2",
   "metadata": {},
   "outputs": [],
   "source": [
    "from keras.models import Sequential\n",
    "from keras.layers import Conv2D, MaxPooling2D, MaxPool2D\n",
    "from keras.layers import Activation, Dropout, Flatten, Dense\n",
    "from keras.regularizers import l1, l2, l1_l2"
   ]
  },
  {
   "cell_type": "code",
   "execution_count": 22,
   "id": "b98b3057",
   "metadata": {},
   "outputs": [],
   "source": [
    "model=Sequential()\n",
    "model.add(Conv2D(60,(3,3),input_shape=(224,224,3)))\n",
    "model.add(Activation('relu'))\n",
    "model.add(MaxPooling2D(pool_size=(2,2)))\n",
    "\n",
    "model.add(Conv2D(60,(3,3)))\n",
    "model.add(Activation('relu'))\n",
    "model.add(MaxPooling2D(pool_size=(2,2)))\n",
    "\n",
    "model.add(Flatten())\n",
    "model.add(Dense(100,activation='relu',activity_regularizer=l1(0.001)))\n",
    "model.add(Dense(8))\n",
    "model.add(Activation('softmax'))"
   ]
  },
  {
   "cell_type": "code",
   "execution_count": 23,
   "id": "556f97cc",
   "metadata": {},
   "outputs": [],
   "source": [
    "model.compile(loss='binary_crossentropy',optimizer='Adam' ,metrics=['accuracy'])"
   ]
  },
  {
   "cell_type": "code",
   "execution_count": 24,
   "id": "8e1dad25",
   "metadata": {},
   "outputs": [
    {
     "name": "stdout",
     "output_type": "stream",
     "text": [
      "Epoch 1/10\n",
      "515/515 [==============================] - 60s 104ms/step - loss: 0.3192 - accuracy: 0.4686\n",
      "train_features/ZJ000000.jpg 1 file-label\n",
      "train_features/ZJ000001.jpg 6 file-label\n",
      "train_features/ZJ000002.jpg 1 file-label\n",
      "train_features/ZJ000003.jpg 6 file-label\n",
      "train_features/ZJ000004.jpg 5 file-label\n",
      "train_features/ZJ000005.jpg 4 file-label\n",
      "train_features/ZJ000006.jpg 3 file-label\n",
      "train_features/ZJ000007.jpg 0 file-label\n",
      "train_features/ZJ000008.jpg 5 file-label\n",
      "train_features/ZJ000009.jpg 1 file-label\n",
      "train_features/ZJ000010.jpg 5 file-label\n",
      "train_features/ZJ000011.jpg 5 file-label\n",
      "train_features/ZJ000012.jpg 6 file-label\n",
      "train_features/ZJ000013.jpg 2 file-label\n",
      "train_features/ZJ000014.jpg 6 file-label\n",
      "train_features/ZJ000015.jpg 2 file-label\n",
      "train_features/ZJ000016.jpg 5 file-label\n",
      "train_features/ZJ000017.jpg 1 file-label\n",
      "train_features/ZJ000018.jpg 2 file-label\n",
      "train_features/ZJ000019.jpg 6 file-label\n",
      "train_features/ZJ000020.jpg 5 file-label\n",
      "train_features/ZJ000021.jpg 6 file-label\n",
      "train_features/ZJ000022.jpg 0 file-label\n",
      "train_features/ZJ000023.jpg 5 file-label\n",
      "train_features/ZJ000024.jpg 6 file-label\n",
      "train_features/ZJ000025.jpg 7 file-label\n",
      "train_features/ZJ000026.jpg 6 file-label\n",
      "train_features/ZJ000027.jpg 6 file-label\n",
      "train_features/ZJ000028.jpg 6 file-label\n",
      "train_features/ZJ000029.jpg 2 file-label\n",
      "train_features/ZJ000030.jpg 0 file-label\n",
      "train_features/ZJ000031.jpg 6 file-label\n",
      "train_features/ZJ000032.jpg 4 file-label\n",
      "train_features/ZJ000033.jpg 3 file-label\n",
      "train_features/ZJ000034.jpg 6 file-label\n",
      "train_features/ZJ000035.jpg 7 file-label\n",
      "train_features/ZJ000036.jpg 3 file-label\n",
      "train_features/ZJ000037.jpg 0 file-label\n",
      "train_features/ZJ000038.jpg 6 file-label\n",
      "train_features/ZJ000039.jpg 0 file-label\n",
      "train_features/ZJ000040.jpg 3 file-label\n",
      "train_features/ZJ000041.jpg 2 file-label\n",
      "train_features/ZJ000042.jpg 5 file-label\n",
      "train_features/ZJ000043.jpg 0 file-label\n",
      "train_features/ZJ000044.jpg 3 file-label\n",
      "train_features/ZJ000045.jpg 2 file-label\n",
      "train_features/ZJ000046.jpg 5 file-label\n",
      "train_features/ZJ000047.jpg 6 file-label\n",
      "train_features/ZJ000048.jpg 6 file-label\n",
      "train_features/ZJ000049.jpg 0 file-label\n",
      "Epoch 2/10\n",
      "515/515 [==============================] - 55s 106ms/step - loss: 0.2007 - accuracy: 0.7261\n",
      "train_features/ZJ000000.jpg 1 file-label\n",
      "train_features/ZJ000001.jpg 6 file-label\n",
      "train_features/ZJ000002.jpg 1 file-label\n",
      "train_features/ZJ000003.jpg 6 file-label\n",
      "train_features/ZJ000004.jpg 5 file-label\n",
      "train_features/ZJ000005.jpg 4 file-label\n",
      "train_features/ZJ000006.jpg 3 file-label\n",
      "train_features/ZJ000007.jpg 0 file-label\n",
      "train_features/ZJ000008.jpg 5 file-label\n",
      "train_features/ZJ000009.jpg 1 file-label\n",
      "train_features/ZJ000010.jpg 5 file-label\n",
      "train_features/ZJ000011.jpg 5 file-label\n",
      "train_features/ZJ000012.jpg 6 file-label\n",
      "train_features/ZJ000013.jpg 2 file-label\n",
      "train_features/ZJ000014.jpg 6 file-label\n",
      "train_features/ZJ000015.jpg 2 file-label\n",
      "train_features/ZJ000016.jpg 5 file-label\n",
      "train_features/ZJ000017.jpg 1 file-label\n",
      "train_features/ZJ000018.jpg 2 file-label\n",
      "train_features/ZJ000019.jpg 6 file-label\n",
      "train_features/ZJ000020.jpg 5 file-label\n",
      "train_features/ZJ000021.jpg 6 file-label\n",
      "train_features/ZJ000022.jpg 0 file-label\n",
      "train_features/ZJ000023.jpg 5 file-label\n",
      "train_features/ZJ000024.jpg 6 file-label\n",
      "train_features/ZJ000025.jpg 7 file-label\n",
      "train_features/ZJ000026.jpg 6 file-label\n",
      "train_features/ZJ000027.jpg 6 file-label\n",
      "train_features/ZJ000028.jpg 6 file-label\n",
      "train_features/ZJ000029.jpg 2 file-label\n",
      "train_features/ZJ000030.jpg 0 file-label\n",
      "train_features/ZJ000031.jpg 6 file-label\n",
      "train_features/ZJ000032.jpg 4 file-label\n",
      "train_features/ZJ000033.jpg 3 file-label\n",
      "train_features/ZJ000034.jpg 6 file-label\n",
      "train_features/ZJ000035.jpg 7 file-label\n",
      "train_features/ZJ000036.jpg 3 file-label\n",
      "train_features/ZJ000037.jpg 0 file-label\n",
      "train_features/ZJ000038.jpg 6 file-label\n",
      "train_features/ZJ000039.jpg 0 file-label\n",
      "train_features/ZJ000040.jpg 3 file-label\n",
      "train_features/ZJ000041.jpg 2 file-label\n",
      "train_features/ZJ000042.jpg 5 file-label\n",
      "train_features/ZJ000043.jpg 0 file-label\n",
      "train_features/ZJ000044.jpg 3 file-label\n",
      "train_features/ZJ000045.jpg 2 file-label\n",
      "train_features/ZJ000046.jpg 5 file-label\n",
      "train_features/ZJ000047.jpg 6 file-label\n",
      "train_features/ZJ000048.jpg 6 file-label\n",
      "train_features/ZJ000049.jpg 0 file-label\n",
      "Epoch 3/10\n",
      "515/515 [==============================] - 57s 110ms/step - loss: 0.1542 - accuracy: 0.8075\n",
      "train_features/ZJ000000.jpg 1 file-label\n",
      "train_features/ZJ000001.jpg 6 file-label\n",
      "train_features/ZJ000002.jpg 1 file-label\n",
      "train_features/ZJ000003.jpg 6 file-label\n",
      "train_features/ZJ000004.jpg 5 file-label\n",
      "train_features/ZJ000005.jpg 4 file-label\n",
      "train_features/ZJ000006.jpg 3 file-label\n",
      "train_features/ZJ000007.jpg 0 file-label\n",
      "train_features/ZJ000008.jpg 5 file-label\n",
      "train_features/ZJ000009.jpg 1 file-label\n",
      "train_features/ZJ000010.jpg 5 file-label\n",
      "train_features/ZJ000011.jpg 5 file-label\n",
      "train_features/ZJ000012.jpg 6 file-label\n",
      "train_features/ZJ000013.jpg 2 file-label\n",
      "train_features/ZJ000014.jpg 6 file-label\n",
      "train_features/ZJ000015.jpg 2 file-label\n",
      "train_features/ZJ000016.jpg 5 file-label\n",
      "train_features/ZJ000017.jpg 1 file-label\n",
      "train_features/ZJ000018.jpg 2 file-label\n",
      "train_features/ZJ000019.jpg 6 file-label\n",
      "train_features/ZJ000020.jpg 5 file-label\n",
      "train_features/ZJ000021.jpg 6 file-label\n",
      "train_features/ZJ000022.jpg 0 file-label\n",
      "train_features/ZJ000023.jpg 5 file-label\n",
      "train_features/ZJ000024.jpg 6 file-label\n",
      "train_features/ZJ000025.jpg 7 file-label\n",
      "train_features/ZJ000026.jpg 6 file-label\n",
      "train_features/ZJ000027.jpg 6 file-label\n",
      "train_features/ZJ000028.jpg 6 file-label\n",
      "train_features/ZJ000029.jpg 2 file-label\n",
      "train_features/ZJ000030.jpg 0 file-label\n",
      "train_features/ZJ000031.jpg 6 file-label\n",
      "train_features/ZJ000032.jpg 4 file-label\n",
      "train_features/ZJ000033.jpg 3 file-label\n",
      "train_features/ZJ000034.jpg 6 file-label\n",
      "train_features/ZJ000035.jpg 7 file-label\n",
      "train_features/ZJ000036.jpg 3 file-label\n",
      "train_features/ZJ000037.jpg 0 file-label\n",
      "train_features/ZJ000038.jpg 6 file-label\n",
      "train_features/ZJ000039.jpg 0 file-label\n",
      "train_features/ZJ000040.jpg 3 file-label\n",
      "train_features/ZJ000041.jpg 2 file-label\n",
      "train_features/ZJ000042.jpg 5 file-label\n",
      "train_features/ZJ000043.jpg 0 file-label\n",
      "train_features/ZJ000044.jpg 3 file-label\n",
      "train_features/ZJ000045.jpg 2 file-label\n",
      "train_features/ZJ000046.jpg 5 file-label\n",
      "train_features/ZJ000047.jpg 6 file-label\n",
      "train_features/ZJ000048.jpg 6 file-label\n",
      "train_features/ZJ000049.jpg 0 file-label\n",
      "Epoch 4/10\n",
      "515/515 [==============================] - 56s 108ms/step - loss: 0.1275 - accuracy: 0.8545\n",
      "train_features/ZJ000000.jpg 1 file-label\n",
      "train_features/ZJ000001.jpg 6 file-label\n",
      "train_features/ZJ000002.jpg 1 file-label\n",
      "train_features/ZJ000003.jpg 6 file-label\n",
      "train_features/ZJ000004.jpg 5 file-label\n",
      "train_features/ZJ000005.jpg 4 file-label\n",
      "train_features/ZJ000006.jpg 3 file-label\n",
      "train_features/ZJ000007.jpg 0 file-label\n",
      "train_features/ZJ000008.jpg 5 file-label\n",
      "train_features/ZJ000009.jpg 1 file-label\n",
      "train_features/ZJ000010.jpg 5 file-label\n",
      "train_features/ZJ000011.jpg 5 file-label\n",
      "train_features/ZJ000012.jpg 6 file-label\n",
      "train_features/ZJ000013.jpg 2 file-label\n",
      "train_features/ZJ000014.jpg 6 file-label\n",
      "train_features/ZJ000015.jpg 2 file-label\n",
      "train_features/ZJ000016.jpg 5 file-label\n",
      "train_features/ZJ000017.jpg 1 file-label\n",
      "train_features/ZJ000018.jpg 2 file-label\n",
      "train_features/ZJ000019.jpg 6 file-label\n",
      "train_features/ZJ000020.jpg 5 file-label\n",
      "train_features/ZJ000021.jpg 6 file-label\n",
      "train_features/ZJ000022.jpg 0 file-label\n",
      "train_features/ZJ000023.jpg 5 file-label\n",
      "train_features/ZJ000024.jpg 6 file-label\n",
      "train_features/ZJ000025.jpg 7 file-label\n",
      "train_features/ZJ000026.jpg 6 file-label\n",
      "train_features/ZJ000027.jpg 6 file-label\n",
      "train_features/ZJ000028.jpg 6 file-label\n",
      "train_features/ZJ000029.jpg 2 file-label\n",
      "train_features/ZJ000030.jpg 0 file-label\n",
      "train_features/ZJ000031.jpg 6 file-label\n",
      "train_features/ZJ000032.jpg 4 file-label\n",
      "train_features/ZJ000033.jpg 3 file-label\n",
      "train_features/ZJ000034.jpg 6 file-label\n",
      "train_features/ZJ000035.jpg 7 file-label\n",
      "train_features/ZJ000036.jpg 3 file-label\n",
      "train_features/ZJ000037.jpg 0 file-label\n",
      "train_features/ZJ000038.jpg 6 file-label\n",
      "train_features/ZJ000039.jpg 0 file-label\n",
      "train_features/ZJ000040.jpg 3 file-label\n",
      "train_features/ZJ000041.jpg 2 file-label\n",
      "train_features/ZJ000042.jpg 5 file-label\n",
      "train_features/ZJ000043.jpg 0 file-label\n",
      "train_features/ZJ000044.jpg 3 file-label\n",
      "train_features/ZJ000045.jpg 2 file-label\n",
      "train_features/ZJ000046.jpg 5 file-label\n",
      "train_features/ZJ000047.jpg 6 file-label\n",
      "train_features/ZJ000048.jpg 6 file-label\n",
      "train_features/ZJ000049.jpg 0 file-label\n",
      "Epoch 5/10\n"
     ]
    },
    {
     "name": "stdout",
     "output_type": "stream",
     "text": [
      "515/515 [==============================] - 55s 107ms/step - loss: 0.1089 - accuracy: 0.8794\n",
      "train_features/ZJ000000.jpg 1 file-label\n",
      "train_features/ZJ000001.jpg 6 file-label\n",
      "train_features/ZJ000002.jpg 1 file-label\n",
      "train_features/ZJ000003.jpg 6 file-label\n",
      "train_features/ZJ000004.jpg 5 file-label\n",
      "train_features/ZJ000005.jpg 4 file-label\n",
      "train_features/ZJ000006.jpg 3 file-label\n",
      "train_features/ZJ000007.jpg 0 file-label\n",
      "train_features/ZJ000008.jpg 5 file-label\n",
      "train_features/ZJ000009.jpg 1 file-label\n",
      "train_features/ZJ000010.jpg 5 file-label\n",
      "train_features/ZJ000011.jpg 5 file-label\n",
      "train_features/ZJ000012.jpg 6 file-label\n",
      "train_features/ZJ000013.jpg 2 file-label\n",
      "train_features/ZJ000014.jpg 6 file-label\n",
      "train_features/ZJ000015.jpg 2 file-label\n",
      "train_features/ZJ000016.jpg 5 file-label\n",
      "train_features/ZJ000017.jpg 1 file-label\n",
      "train_features/ZJ000018.jpg 2 file-label\n",
      "train_features/ZJ000019.jpg 6 file-label\n",
      "train_features/ZJ000020.jpg 5 file-label\n",
      "train_features/ZJ000021.jpg 6 file-label\n",
      "train_features/ZJ000022.jpg 0 file-label\n",
      "train_features/ZJ000023.jpg 5 file-label\n",
      "train_features/ZJ000024.jpg 6 file-label\n",
      "train_features/ZJ000025.jpg 7 file-label\n",
      "train_features/ZJ000026.jpg 6 file-label\n",
      "train_features/ZJ000027.jpg 6 file-label\n",
      "train_features/ZJ000028.jpg 6 file-label\n",
      "train_features/ZJ000029.jpg 2 file-label\n",
      "train_features/ZJ000030.jpg 0 file-label\n",
      "train_features/ZJ000031.jpg 6 file-label\n",
      "train_features/ZJ000032.jpg 4 file-label\n",
      "train_features/ZJ000033.jpg 3 file-label\n",
      "train_features/ZJ000034.jpg 6 file-label\n",
      "train_features/ZJ000035.jpg 7 file-label\n",
      "train_features/ZJ000036.jpg 3 file-label\n",
      "train_features/ZJ000037.jpg 0 file-label\n",
      "train_features/ZJ000038.jpg 6 file-label\n",
      "train_features/ZJ000039.jpg 0 file-label\n",
      "train_features/ZJ000040.jpg 3 file-label\n",
      "train_features/ZJ000041.jpg 2 file-label\n",
      "train_features/ZJ000042.jpg 5 file-label\n",
      "train_features/ZJ000043.jpg 0 file-label\n",
      "train_features/ZJ000044.jpg 3 file-label\n",
      "train_features/ZJ000045.jpg 2 file-label\n",
      "train_features/ZJ000046.jpg 5 file-label\n",
      "train_features/ZJ000047.jpg 6 file-label\n",
      "train_features/ZJ000048.jpg 6 file-label\n",
      "train_features/ZJ000049.jpg 0 file-label\n",
      "Epoch 6/10\n",
      "515/515 [==============================] - 56s 108ms/step - loss: 0.0971 - accuracy: 0.8975\n",
      "train_features/ZJ000000.jpg 1 file-label\n",
      "train_features/ZJ000001.jpg 6 file-label\n",
      "train_features/ZJ000002.jpg 1 file-label\n",
      "train_features/ZJ000003.jpg 6 file-label\n",
      "train_features/ZJ000004.jpg 5 file-label\n",
      "train_features/ZJ000005.jpg 4 file-label\n",
      "train_features/ZJ000006.jpg 3 file-label\n",
      "train_features/ZJ000007.jpg 0 file-label\n",
      "train_features/ZJ000008.jpg 5 file-label\n",
      "train_features/ZJ000009.jpg 1 file-label\n",
      "train_features/ZJ000010.jpg 5 file-label\n",
      "train_features/ZJ000011.jpg 5 file-label\n",
      "train_features/ZJ000012.jpg 6 file-label\n",
      "train_features/ZJ000013.jpg 2 file-label\n",
      "train_features/ZJ000014.jpg 6 file-label\n",
      "train_features/ZJ000015.jpg 2 file-label\n",
      "train_features/ZJ000016.jpg 5 file-label\n",
      "train_features/ZJ000017.jpg 1 file-label\n",
      "train_features/ZJ000018.jpg 2 file-label\n",
      "train_features/ZJ000019.jpg 6 file-label\n",
      "train_features/ZJ000020.jpg 5 file-label\n",
      "train_features/ZJ000021.jpg 6 file-label\n",
      "train_features/ZJ000022.jpg 0 file-label\n",
      "train_features/ZJ000023.jpg 5 file-label\n",
      "train_features/ZJ000024.jpg 6 file-label\n",
      "train_features/ZJ000025.jpg 7 file-label\n",
      "train_features/ZJ000026.jpg 6 file-label\n",
      "train_features/ZJ000027.jpg 6 file-label\n",
      "train_features/ZJ000028.jpg 6 file-label\n",
      "train_features/ZJ000029.jpg 2 file-label\n",
      "train_features/ZJ000030.jpg 0 file-label\n",
      "train_features/ZJ000031.jpg 6 file-label\n",
      "train_features/ZJ000032.jpg 4 file-label\n",
      "train_features/ZJ000033.jpg 3 file-label\n",
      "train_features/ZJ000034.jpg 6 file-label\n",
      "train_features/ZJ000035.jpg 7 file-label\n",
      "train_features/ZJ000036.jpg 3 file-label\n",
      "train_features/ZJ000037.jpg 0 file-label\n",
      "train_features/ZJ000038.jpg 6 file-label\n",
      "train_features/ZJ000039.jpg 0 file-label\n",
      "train_features/ZJ000040.jpg 3 file-label\n",
      "train_features/ZJ000041.jpg 2 file-label\n",
      "train_features/ZJ000042.jpg 5 file-label\n",
      "train_features/ZJ000043.jpg 0 file-label\n",
      "train_features/ZJ000044.jpg 3 file-label\n",
      "train_features/ZJ000045.jpg 2 file-label\n",
      "train_features/ZJ000046.jpg 5 file-label\n",
      "train_features/ZJ000047.jpg 6 file-label\n",
      "train_features/ZJ000048.jpg 6 file-label\n",
      "train_features/ZJ000049.jpg 0 file-label\n",
      "Epoch 7/10\n",
      "515/515 [==============================] - 55s 107ms/step - loss: 0.0868 - accuracy: 0.9113\n",
      "train_features/ZJ000000.jpg 1 file-label\n",
      "train_features/ZJ000001.jpg 6 file-label\n",
      "train_features/ZJ000002.jpg 1 file-label\n",
      "train_features/ZJ000003.jpg 6 file-label\n",
      "train_features/ZJ000004.jpg 5 file-label\n",
      "train_features/ZJ000005.jpg 4 file-label\n",
      "train_features/ZJ000006.jpg 3 file-label\n",
      "train_features/ZJ000007.jpg 0 file-label\n",
      "train_features/ZJ000008.jpg 5 file-label\n",
      "train_features/ZJ000009.jpg 1 file-label\n",
      "train_features/ZJ000010.jpg 5 file-label\n",
      "train_features/ZJ000011.jpg 5 file-label\n",
      "train_features/ZJ000012.jpg 6 file-label\n",
      "train_features/ZJ000013.jpg 2 file-label\n",
      "train_features/ZJ000014.jpg 6 file-label\n",
      "train_features/ZJ000015.jpg 2 file-label\n",
      "train_features/ZJ000016.jpg 5 file-label\n",
      "train_features/ZJ000017.jpg 1 file-label\n",
      "train_features/ZJ000018.jpg 2 file-label\n",
      "train_features/ZJ000019.jpg 6 file-label\n",
      "train_features/ZJ000020.jpg 5 file-label\n",
      "train_features/ZJ000021.jpg 6 file-label\n",
      "train_features/ZJ000022.jpg 0 file-label\n",
      "train_features/ZJ000023.jpg 5 file-label\n",
      "train_features/ZJ000024.jpg 6 file-label\n",
      "train_features/ZJ000025.jpg 7 file-label\n",
      "train_features/ZJ000026.jpg 6 file-label\n",
      "train_features/ZJ000027.jpg 6 file-label\n",
      "train_features/ZJ000028.jpg 6 file-label\n",
      "train_features/ZJ000029.jpg 2 file-label\n",
      "train_features/ZJ000030.jpg 0 file-label\n",
      "train_features/ZJ000031.jpg 6 file-label\n",
      "train_features/ZJ000032.jpg 4 file-label\n",
      "train_features/ZJ000033.jpg 3 file-label\n",
      "train_features/ZJ000034.jpg 6 file-label\n",
      "train_features/ZJ000035.jpg 7 file-label\n",
      "train_features/ZJ000036.jpg 3 file-label\n",
      "train_features/ZJ000037.jpg 0 file-label\n",
      "train_features/ZJ000038.jpg 6 file-label\n",
      "train_features/ZJ000039.jpg 0 file-label\n",
      "train_features/ZJ000040.jpg 3 file-label\n",
      "train_features/ZJ000041.jpg 2 file-label\n",
      "train_features/ZJ000042.jpg 5 file-label\n",
      "train_features/ZJ000043.jpg 0 file-label\n",
      "train_features/ZJ000044.jpg 3 file-label\n",
      "train_features/ZJ000045.jpg 2 file-label\n",
      "train_features/ZJ000046.jpg 5 file-label\n",
      "train_features/ZJ000047.jpg 6 file-label\n",
      "train_features/ZJ000048.jpg 6 file-label\n",
      "train_features/ZJ000049.jpg 0 file-label\n",
      "Epoch 8/10\n",
      "515/515 [==============================] - 55s 107ms/step - loss: 0.0794 - accuracy: 0.9207\n",
      "train_features/ZJ000000.jpg 1 file-label\n",
      "train_features/ZJ000001.jpg 6 file-label\n",
      "train_features/ZJ000002.jpg 1 file-label\n",
      "train_features/ZJ000003.jpg 6 file-label\n",
      "train_features/ZJ000004.jpg 5 file-label\n",
      "train_features/ZJ000005.jpg 4 file-label\n",
      "train_features/ZJ000006.jpg 3 file-label\n",
      "train_features/ZJ000007.jpg 0 file-label\n",
      "train_features/ZJ000008.jpg 5 file-label\n",
      "train_features/ZJ000009.jpg 1 file-label\n",
      "train_features/ZJ000010.jpg 5 file-label\n",
      "train_features/ZJ000011.jpg 5 file-label\n",
      "train_features/ZJ000012.jpg 6 file-label\n",
      "train_features/ZJ000013.jpg 2 file-label\n",
      "train_features/ZJ000014.jpg 6 file-label\n",
      "train_features/ZJ000015.jpg 2 file-label\n",
      "train_features/ZJ000016.jpg 5 file-label\n",
      "train_features/ZJ000017.jpg 1 file-label\n",
      "train_features/ZJ000018.jpg 2 file-label\n",
      "train_features/ZJ000019.jpg 6 file-label\n",
      "train_features/ZJ000020.jpg 5 file-label\n",
      "train_features/ZJ000021.jpg 6 file-label\n",
      "train_features/ZJ000022.jpg 0 file-label\n",
      "train_features/ZJ000023.jpg 5 file-label\n",
      "train_features/ZJ000024.jpg 6 file-label\n",
      "train_features/ZJ000025.jpg 7 file-label\n",
      "train_features/ZJ000026.jpg 6 file-label\n",
      "train_features/ZJ000027.jpg 6 file-label\n",
      "train_features/ZJ000028.jpg 6 file-label\n",
      "train_features/ZJ000029.jpg 2 file-label\n",
      "train_features/ZJ000030.jpg 0 file-label\n",
      "train_features/ZJ000031.jpg 6 file-label\n",
      "train_features/ZJ000032.jpg 4 file-label\n",
      "train_features/ZJ000033.jpg 3 file-label\n",
      "train_features/ZJ000034.jpg 6 file-label\n",
      "train_features/ZJ000035.jpg 7 file-label\n",
      "train_features/ZJ000036.jpg 3 file-label\n",
      "train_features/ZJ000037.jpg 0 file-label\n",
      "train_features/ZJ000038.jpg 6 file-label\n",
      "train_features/ZJ000039.jpg 0 file-label\n",
      "train_features/ZJ000040.jpg 3 file-label\n",
      "train_features/ZJ000041.jpg 2 file-label\n",
      "train_features/ZJ000042.jpg 5 file-label\n",
      "train_features/ZJ000043.jpg 0 file-label\n",
      "train_features/ZJ000044.jpg 3 file-label\n",
      "train_features/ZJ000045.jpg 2 file-label\n",
      "train_features/ZJ000046.jpg 5 file-label\n",
      "train_features/ZJ000047.jpg 6 file-label\n",
      "train_features/ZJ000048.jpg 6 file-label\n",
      "train_features/ZJ000049.jpg 0 file-label\n",
      "Epoch 9/10\n"
     ]
    },
    {
     "name": "stdout",
     "output_type": "stream",
     "text": [
      "515/515 [==============================] - 54s 106ms/step - loss: 0.0721 - accuracy: 0.9296\n",
      "train_features/ZJ000000.jpg 1 file-label\n",
      "train_features/ZJ000001.jpg 6 file-label\n",
      "train_features/ZJ000002.jpg 1 file-label\n",
      "train_features/ZJ000003.jpg 6 file-label\n",
      "train_features/ZJ000004.jpg 5 file-label\n",
      "train_features/ZJ000005.jpg 4 file-label\n",
      "train_features/ZJ000006.jpg 3 file-label\n",
      "train_features/ZJ000007.jpg 0 file-label\n",
      "train_features/ZJ000008.jpg 5 file-label\n",
      "train_features/ZJ000009.jpg 1 file-label\n",
      "train_features/ZJ000010.jpg 5 file-label\n",
      "train_features/ZJ000011.jpg 5 file-label\n",
      "train_features/ZJ000012.jpg 6 file-label\n",
      "train_features/ZJ000013.jpg 2 file-label\n",
      "train_features/ZJ000014.jpg 6 file-label\n",
      "train_features/ZJ000015.jpg 2 file-label\n",
      "train_features/ZJ000016.jpg 5 file-label\n",
      "train_features/ZJ000017.jpg 1 file-label\n",
      "train_features/ZJ000018.jpg 2 file-label\n",
      "train_features/ZJ000019.jpg 6 file-label\n",
      "train_features/ZJ000020.jpg 5 file-label\n",
      "train_features/ZJ000021.jpg 6 file-label\n",
      "train_features/ZJ000022.jpg 0 file-label\n",
      "train_features/ZJ000023.jpg 5 file-label\n",
      "train_features/ZJ000024.jpg 6 file-label\n",
      "train_features/ZJ000025.jpg 7 file-label\n",
      "train_features/ZJ000026.jpg 6 file-label\n",
      "train_features/ZJ000027.jpg 6 file-label\n",
      "train_features/ZJ000028.jpg 6 file-label\n",
      "train_features/ZJ000029.jpg 2 file-label\n",
      "train_features/ZJ000030.jpg 0 file-label\n",
      "train_features/ZJ000031.jpg 6 file-label\n",
      "train_features/ZJ000032.jpg 4 file-label\n",
      "train_features/ZJ000033.jpg 3 file-label\n",
      "train_features/ZJ000034.jpg 6 file-label\n",
      "train_features/ZJ000035.jpg 7 file-label\n",
      "train_features/ZJ000036.jpg 3 file-label\n",
      "train_features/ZJ000037.jpg 0 file-label\n",
      "train_features/ZJ000038.jpg 6 file-label\n",
      "train_features/ZJ000039.jpg 0 file-label\n",
      "train_features/ZJ000040.jpg 3 file-label\n",
      "train_features/ZJ000041.jpg 2 file-label\n",
      "train_features/ZJ000042.jpg 5 file-label\n",
      "train_features/ZJ000043.jpg 0 file-label\n",
      "train_features/ZJ000044.jpg 3 file-label\n",
      "train_features/ZJ000045.jpg 2 file-label\n",
      "train_features/ZJ000046.jpg 5 file-label\n",
      "train_features/ZJ000047.jpg 6 file-label\n",
      "train_features/ZJ000048.jpg 6 file-label\n",
      "train_features/ZJ000049.jpg 0 file-label\n",
      "Epoch 10/10\n",
      "515/515 [==============================] - 56s 109ms/step - loss: 0.0671 - accuracy: 0.9342\n",
      "train_features/ZJ000000.jpg 1 file-label\n",
      "train_features/ZJ000001.jpg 6 file-label\n",
      "train_features/ZJ000002.jpg 1 file-label\n",
      "train_features/ZJ000003.jpg 6 file-label\n",
      "train_features/ZJ000004.jpg 5 file-label\n",
      "train_features/ZJ000005.jpg 4 file-label\n",
      "train_features/ZJ000006.jpg 3 file-label\n",
      "train_features/ZJ000007.jpg 0 file-label\n",
      "train_features/ZJ000008.jpg 5 file-label\n",
      "train_features/ZJ000009.jpg 1 file-label\n",
      "train_features/ZJ000010.jpg 5 file-label\n",
      "train_features/ZJ000011.jpg 5 file-label\n",
      "train_features/ZJ000012.jpg 6 file-label\n",
      "train_features/ZJ000013.jpg 2 file-label\n",
      "train_features/ZJ000014.jpg 6 file-label\n",
      "train_features/ZJ000015.jpg 2 file-label\n",
      "train_features/ZJ000016.jpg 5 file-label\n",
      "train_features/ZJ000017.jpg 1 file-label\n",
      "train_features/ZJ000018.jpg 2 file-label\n",
      "train_features/ZJ000019.jpg 6 file-label\n",
      "train_features/ZJ000020.jpg 5 file-label\n",
      "train_features/ZJ000021.jpg 6 file-label\n",
      "train_features/ZJ000022.jpg 0 file-label\n",
      "train_features/ZJ000023.jpg 5 file-label\n",
      "train_features/ZJ000024.jpg 6 file-label\n",
      "train_features/ZJ000025.jpg 7 file-label\n",
      "train_features/ZJ000026.jpg 6 file-label\n",
      "train_features/ZJ000027.jpg 6 file-label\n",
      "train_features/ZJ000028.jpg 6 file-label\n",
      "train_features/ZJ000029.jpg 2 file-label\n",
      "train_features/ZJ000030.jpg 0 file-label\n",
      "train_features/ZJ000031.jpg 6 file-label\n",
      "train_features/ZJ000032.jpg 4 file-label\n",
      "train_features/ZJ000033.jpg 3 file-label\n",
      "train_features/ZJ000034.jpg 6 file-label\n",
      "train_features/ZJ000035.jpg 7 file-label\n",
      "train_features/ZJ000036.jpg 3 file-label\n",
      "train_features/ZJ000037.jpg 0 file-label\n",
      "train_features/ZJ000038.jpg 6 file-label\n",
      "train_features/ZJ000039.jpg 0 file-label\n",
      "train_features/ZJ000040.jpg 3 file-label\n",
      "train_features/ZJ000041.jpg 2 file-label\n",
      "train_features/ZJ000042.jpg 5 file-label\n",
      "train_features/ZJ000043.jpg 0 file-label\n",
      "train_features/ZJ000044.jpg 3 file-label\n",
      "train_features/ZJ000045.jpg 2 file-label\n",
      "train_features/ZJ000046.jpg 5 file-label\n",
      "train_features/ZJ000047.jpg 6 file-label\n",
      "train_features/ZJ000048.jpg 6 file-label\n",
      "train_features/ZJ000049.jpg 0 file-label\n"
     ]
    },
    {
     "data": {
      "text/plain": [
       "<keras.callbacks.History at 0x172a0d18b50>"
      ]
     },
     "execution_count": 24,
     "metadata": {},
     "output_type": "execute_result"
    }
   ],
   "source": [
    "model.fit(data,epochs=10,verbose=1,shuffle=True)"
   ]
  },
  {
   "cell_type": "markdown",
   "id": "19de1a01",
   "metadata": {},
   "source": [
    "Evaluation\n"
   ]
  },
  {
   "cell_type": "code",
   "execution_count": 52,
   "id": "de27d4d8",
   "metadata": {},
   "outputs": [
    {
     "ename": "TypeError",
     "evalue": "'History' object is not callable",
     "output_type": "error",
     "traceback": [
      "\u001b[1;31m---------------------------------------------------------------------------\u001b[0m",
      "\u001b[1;31mTypeError\u001b[0m                                 Traceback (most recent call last)",
      "Cell \u001b[1;32mIn [52], line 1\u001b[0m\n\u001b[1;32m----> 1\u001b[0m \u001b[43mmodel\u001b[49m\u001b[38;5;241;43m.\u001b[39;49m\u001b[43mhistory\u001b[49m\u001b[43m(\u001b[49m\u001b[38;5;124;43m'\u001b[39;49m\u001b[38;5;124;43mloss\u001b[39;49m\u001b[38;5;124;43m'\u001b[39;49m\u001b[43m)\u001b[49m\n",
      "\u001b[1;31mTypeError\u001b[0m: 'History' object is not callable"
     ]
    }
   ],
   "source": [
    "plt.plot(model.history('loss'))"
   ]
  },
  {
   "cell_type": "code",
   "execution_count": null,
   "id": "7d0575a9",
   "metadata": {},
   "outputs": [],
   "source": []
  },
  {
   "cell_type": "code",
   "execution_count": 25,
   "id": "ce096d43",
   "metadata": {},
   "outputs": [
    {
     "name": "stderr",
     "output_type": "stream",
     "text": [
      "WARNING:absl:Found untraced functions such as _jit_compiled_convolution_op, _jit_compiled_convolution_op while saving (showing 2 of 2). These functions will not be directly callable after loading.\n"
     ]
    },
    {
     "name": "stdout",
     "output_type": "stream",
     "text": [
      "INFO:tensorflow:Assets written to: CNN.1\\assets\n"
     ]
    },
    {
     "name": "stderr",
     "output_type": "stream",
     "text": [
      "INFO:tensorflow:Assets written to: CNN.1\\assets\n"
     ]
    }
   ],
   "source": [
    "model.save(\"CNN.1\")"
   ]
  },
  {
   "cell_type": "code",
   "execution_count": null,
   "id": "751b473b",
   "metadata": {},
   "outputs": [],
   "source": [
    "# import pickle as pk\n",
    "\n",
    "# with open(\"cnn-model1.pickle\", 'wb') as cnn:\n",
    "#     pk.dump(model, cnn)\n",
    "#     cnn.close()"
   ]
  },
  {
   "cell_type": "code",
   "execution_count": null,
   "id": "9bd590b8",
   "metadata": {},
   "outputs": [],
   "source": [
    "# import tensorflow as tf"
   ]
  },
  {
   "cell_type": "code",
   "execution_count": null,
   "id": "8c7f6127",
   "metadata": {},
   "outputs": [],
   "source": [
    "# import pickle as pk\n",
    "# with open(\"C:/Users/Karan/conser-vision/data/pickles/cnn-model1.pickle\", 'rb') as sm:\n",
    "#     model=pk.load(sm)\n",
    "#     sm.close()"
   ]
  },
  {
   "cell_type": "code",
   "execution_count": 52,
   "id": "5cbe659b",
   "metadata": {},
   "outputs": [],
   "source": [
    "loaded=tf.keras.models.load_model('CNN.1')"
   ]
  },
  {
   "cell_type": "code",
   "execution_count": 53,
   "id": "f3707631",
   "metadata": {},
   "outputs": [
    {
     "data": {
      "text/html": [
       "<div>\n",
       "<style scoped>\n",
       "    .dataframe tbody tr th:only-of-type {\n",
       "        vertical-align: middle;\n",
       "    }\n",
       "\n",
       "    .dataframe tbody tr th {\n",
       "        vertical-align: top;\n",
       "    }\n",
       "\n",
       "    .dataframe thead th {\n",
       "        text-align: right;\n",
       "    }\n",
       "</style>\n",
       "<table border=\"1\" class=\"dataframe\">\n",
       "  <thead>\n",
       "    <tr style=\"text-align: right;\">\n",
       "      <th></th>\n",
       "      <th>id</th>\n",
       "      <th>filepath</th>\n",
       "      <th>site</th>\n",
       "    </tr>\n",
       "  </thead>\n",
       "  <tbody>\n",
       "    <tr>\n",
       "      <th>0</th>\n",
       "      <td>ZJ016488</td>\n",
       "      <td>test_features/ZJ016488.jpg</td>\n",
       "      <td>S0082</td>\n",
       "    </tr>\n",
       "    <tr>\n",
       "      <th>1</th>\n",
       "      <td>ZJ016489</td>\n",
       "      <td>test_features/ZJ016489.jpg</td>\n",
       "      <td>S0040</td>\n",
       "    </tr>\n",
       "    <tr>\n",
       "      <th>2</th>\n",
       "      <td>ZJ016490</td>\n",
       "      <td>test_features/ZJ016490.jpg</td>\n",
       "      <td>S0040</td>\n",
       "    </tr>\n",
       "    <tr>\n",
       "      <th>3</th>\n",
       "      <td>ZJ016491</td>\n",
       "      <td>test_features/ZJ016491.jpg</td>\n",
       "      <td>S0041</td>\n",
       "    </tr>\n",
       "    <tr>\n",
       "      <th>4</th>\n",
       "      <td>ZJ016492</td>\n",
       "      <td>test_features/ZJ016492.jpg</td>\n",
       "      <td>S0040</td>\n",
       "    </tr>\n",
       "    <tr>\n",
       "      <th>...</th>\n",
       "      <td>...</td>\n",
       "      <td>...</td>\n",
       "      <td>...</td>\n",
       "    </tr>\n",
       "    <tr>\n",
       "      <th>4459</th>\n",
       "      <td>ZJ020947</td>\n",
       "      <td>test_features/ZJ020947.jpg</td>\n",
       "      <td>S0086</td>\n",
       "    </tr>\n",
       "    <tr>\n",
       "      <th>4460</th>\n",
       "      <td>ZJ020948</td>\n",
       "      <td>test_features/ZJ020948.jpg</td>\n",
       "      <td>S0152</td>\n",
       "    </tr>\n",
       "    <tr>\n",
       "      <th>4461</th>\n",
       "      <td>ZJ020949</td>\n",
       "      <td>test_features/ZJ020949.jpg</td>\n",
       "      <td>S0162</td>\n",
       "    </tr>\n",
       "    <tr>\n",
       "      <th>4462</th>\n",
       "      <td>ZJ020950</td>\n",
       "      <td>test_features/ZJ020950.jpg</td>\n",
       "      <td>S0055</td>\n",
       "    </tr>\n",
       "    <tr>\n",
       "      <th>4463</th>\n",
       "      <td>ZJ020951</td>\n",
       "      <td>test_features/ZJ020951.jpg</td>\n",
       "      <td>S0114</td>\n",
       "    </tr>\n",
       "  </tbody>\n",
       "</table>\n",
       "<p>4464 rows × 3 columns</p>\n",
       "</div>"
      ],
      "text/plain": [
       "            id                    filepath   site\n",
       "0     ZJ016488  test_features/ZJ016488.jpg  S0082\n",
       "1     ZJ016489  test_features/ZJ016489.jpg  S0040\n",
       "2     ZJ016490  test_features/ZJ016490.jpg  S0040\n",
       "3     ZJ016491  test_features/ZJ016491.jpg  S0041\n",
       "4     ZJ016492  test_features/ZJ016492.jpg  S0040\n",
       "...        ...                         ...    ...\n",
       "4459  ZJ020947  test_features/ZJ020947.jpg  S0086\n",
       "4460  ZJ020948  test_features/ZJ020948.jpg  S0152\n",
       "4461  ZJ020949  test_features/ZJ020949.jpg  S0162\n",
       "4462  ZJ020950  test_features/ZJ020950.jpg  S0055\n",
       "4463  ZJ020951  test_features/ZJ020951.jpg  S0114\n",
       "\n",
       "[4464 rows x 3 columns]"
      ]
     },
     "execution_count": 53,
     "metadata": {},
     "output_type": "execute_result"
    }
   ],
   "source": [
    "test=pd.read_csv('test_features.csv')\n",
    "test"
   ]
  },
  {
   "cell_type": "code",
   "execution_count": 54,
   "id": "72e6c55d",
   "metadata": {},
   "outputs": [],
   "source": [
    "\n",
    "# Test_imgFiles = [tf.keras.utils.load_img(name, target_size=(224, 224, 3)) for name in test['filepath']]"
   ]
  },
  {
   "cell_type": "code",
   "execution_count": 55,
   "id": "7f821aac",
   "metadata": {},
   "outputs": [],
   "source": [
    "# print(len(Test_imgFiles))\n",
    "# Test_imgFiles=np.array(Test_imgFiles)\n",
    "# Test_imgFiles.shape"
   ]
  },
  {
   "cell_type": "code",
   "execution_count": 56,
   "id": "c841b338",
   "metadata": {},
   "outputs": [],
   "source": [
    "# Test_imgFiles=[tf.keras.utils.img_to_array(img) for img in Test_imgFiles]\n",
    "# # y=tf.convert_to_tensor(Test_imgFiles)"
   ]
  },
  {
   "cell_type": "code",
   "execution_count": 57,
   "id": "274e8694",
   "metadata": {},
   "outputs": [],
   "source": [
    "# tf.config.experimental.get_memory_info('GPU:0')['current'] / 10**9"
   ]
  },
  {
   "cell_type": "code",
   "execution_count": 58,
   "id": "91ab2df4",
   "metadata": {},
   "outputs": [],
   "source": [
    "# y_pred=model.predict(Test_imgFiles[3])"
   ]
  },
  {
   "cell_type": "code",
   "execution_count": 59,
   "id": "59687caa",
   "metadata": {},
   "outputs": [],
   "source": [
    "img_size=(224,224)\n",
    "from tensorflow.keras.preprocessing.image import ImageDataGenerator"
   ]
  },
  {
   "cell_type": "code",
   "execution_count": 60,
   "id": "e251e384",
   "metadata": {},
   "outputs": [],
   "source": [
    "def make_gens(batch_size,test_df,img_size):\n",
    "    t_gen=ImageDataGenerator()\n",
    "    test_gen=t_gen.flow_from_dataframe(test,x_col='filepath',batch_size=32,class_mode=None,target_size=(224,224))\n",
    "    test_steps=int(len(test_df)/batch_size)\n",
    "    return test_gen,test_steps"
   ]
  },
  {
   "cell_type": "code",
   "execution_count": 64,
   "id": "f14b4ee9",
   "metadata": {},
   "outputs": [
    {
     "name": "stdout",
     "output_type": "stream",
     "text": [
      "Found 4464 validated image filenames.\n"
     ]
    }
   ],
   "source": [
    "test_gen,steps=make_gens(32,test,img_size)"
   ]
  },
  {
   "cell_type": "code",
   "execution_count": 67,
   "id": "0193428f",
   "metadata": {},
   "outputs": [
    {
     "data": {
      "text/plain": [
       "(32, 224, 224, 3)"
      ]
     },
     "execution_count": 67,
     "metadata": {},
     "output_type": "execute_result"
    }
   ],
   "source": [
    "test_gen[0].shape"
   ]
  },
  {
   "cell_type": "code",
   "execution_count": 68,
   "id": "bbd5bac8",
   "metadata": {},
   "outputs": [
    {
     "name": "stdout",
     "output_type": "stream",
     "text": [
      "140/140 [==============================] - 29s 206ms/step\n"
     ]
    }
   ],
   "source": [
    "preds=model.predict(test_gen,verbose=1)"
   ]
  },
  {
   "cell_type": "code",
   "execution_count": 70,
   "id": "af792696",
   "metadata": {},
   "outputs": [
    {
     "data": {
      "text/plain": [
       "numpy.ndarray"
      ]
     },
     "execution_count": 70,
     "metadata": {},
     "output_type": "execute_result"
    }
   ],
   "source": [
    "type(preds)"
   ]
  },
  {
   "cell_type": "code",
   "execution_count": 72,
   "id": "0a2a181b",
   "metadata": {},
   "outputs": [],
   "source": [
    "np.set_printoptions(suppress=True)"
   ]
  },
  {
   "cell_type": "code",
   "execution_count": 74,
   "id": "d700c551",
   "metadata": {},
   "outputs": [
    {
     "data": {
      "text/plain": [
       "array([0., 0., 0., 0., 0., 0., 1., 0.], dtype=float32)"
      ]
     },
     "execution_count": 74,
     "metadata": {},
     "output_type": "execute_result"
    }
   ],
   "source": [
    "preds[0]"
   ]
  },
  {
   "cell_type": "code",
   "execution_count": null,
   "id": "a7d6eaa5",
   "metadata": {},
   "outputs": [],
   "source": []
  }
 ],
 "metadata": {
  "kernelspec": {
   "display_name": "tensor",
   "language": "python",
   "name": "tensor"
  },
  "language_info": {
   "codemirror_mode": {
    "name": "ipython",
    "version": 3
   },
   "file_extension": ".py",
   "mimetype": "text/x-python",
   "name": "python",
   "nbconvert_exporter": "python",
   "pygments_lexer": "ipython3",
   "version": "3.10.0"
  }
 },
 "nbformat": 4,
 "nbformat_minor": 5
}
