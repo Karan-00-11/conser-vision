{
 "cells": [
  {
   "cell_type": "markdown",
   "id": "06625283",
   "metadata": {},
   "source": [
    "# Load dependencies"
   ]
  },
  {
   "cell_type": "code",
   "execution_count": 166,
   "id": "6ea5f683",
   "metadata": {},
   "outputs": [],
   "source": [
    "import tensorflow as tf\n",
    "import os\n",
    "import pandas as pd\n",
    "import numpy as np\n",
    "# from tensorflow.compact.v1 import ConfigProto\n",
    "import matplotlib as plot"
   ]
  },
  {
   "cell_type": "code",
   "execution_count": 167,
   "id": "481575d3",
   "metadata": {},
   "outputs": [
    {
     "data": {
      "text/plain": [
       "[PhysicalDevice(name='/physical_device:GPU:0', device_type='GPU')]"
      ]
     },
     "execution_count": 167,
     "metadata": {},
     "output_type": "execute_result"
    }
   ],
   "source": [
    "gpus=tf.config.experimental.list_physical_devices(\"GPU\")\n",
    "for gpu in gpus:\n",
    "    tf.config.experimental.set_memory_growth(gpu,True)\n",
    "gpus"
   ]
  },
  {
   "cell_type": "code",
   "execution_count": 168,
   "id": "3b514d23",
   "metadata": {},
   "outputs": [
    {
     "name": "stdout",
     "output_type": "stream",
     "text": [
      "D:\\Course\\DrivenData Project\n"
     ]
    }
   ],
   "source": [
    "cd D:/Course/DrivenData Project"
   ]
  },
  {
   "cell_type": "markdown",
   "id": "e489e9ee",
   "metadata": {},
   "source": [
    "# Import Files\n"
   ]
  },
  {
   "cell_type": "code",
   "execution_count": 169,
   "id": "b6788f72",
   "metadata": {},
   "outputs": [
    {
     "data": {
      "text/plain": [
       "16488"
      ]
     },
     "execution_count": 169,
     "metadata": {},
     "output_type": "execute_result"
    }
   ],
   "source": [
    "data_dir='Dataset'\n",
    "t=os.path.join(data_dir,'train_features')\n",
    "p=os.listdir(os.path.join(data_dir,'train_features'))\n",
    "len(p)"
   ]
  },
  {
   "cell_type": "code",
   "execution_count": 170,
   "id": "9a4a8bdc",
   "metadata": {},
   "outputs": [
    {
     "data": {
      "text/html": [
       "<div>\n",
       "<style scoped>\n",
       "    .dataframe tbody tr th:only-of-type {\n",
       "        vertical-align: middle;\n",
       "    }\n",
       "\n",
       "    .dataframe tbody tr th {\n",
       "        vertical-align: top;\n",
       "    }\n",
       "\n",
       "    .dataframe thead th {\n",
       "        text-align: right;\n",
       "    }\n",
       "</style>\n",
       "<table border=\"1\" class=\"dataframe\">\n",
       "  <thead>\n",
       "    <tr style=\"text-align: right;\">\n",
       "      <th></th>\n",
       "      <th>id</th>\n",
       "      <th>filepath</th>\n",
       "      <th>site</th>\n",
       "    </tr>\n",
       "  </thead>\n",
       "  <tbody>\n",
       "    <tr>\n",
       "      <th>0</th>\n",
       "      <td>ZJ000000</td>\n",
       "      <td>train_features/ZJ000000.jpg</td>\n",
       "      <td>S0120</td>\n",
       "    </tr>\n",
       "    <tr>\n",
       "      <th>1</th>\n",
       "      <td>ZJ000001</td>\n",
       "      <td>train_features/ZJ000001.jpg</td>\n",
       "      <td>S0069</td>\n",
       "    </tr>\n",
       "    <tr>\n",
       "      <th>2</th>\n",
       "      <td>ZJ000002</td>\n",
       "      <td>train_features/ZJ000002.jpg</td>\n",
       "      <td>S0009</td>\n",
       "    </tr>\n",
       "    <tr>\n",
       "      <th>3</th>\n",
       "      <td>ZJ000003</td>\n",
       "      <td>train_features/ZJ000003.jpg</td>\n",
       "      <td>S0008</td>\n",
       "    </tr>\n",
       "    <tr>\n",
       "      <th>4</th>\n",
       "      <td>ZJ000004</td>\n",
       "      <td>train_features/ZJ000004.jpg</td>\n",
       "      <td>S0036</td>\n",
       "    </tr>\n",
       "    <tr>\n",
       "      <th>...</th>\n",
       "      <td>...</td>\n",
       "      <td>...</td>\n",
       "      <td>...</td>\n",
       "    </tr>\n",
       "    <tr>\n",
       "      <th>16483</th>\n",
       "      <td>ZJ016483</td>\n",
       "      <td>train_features/ZJ016483.jpg</td>\n",
       "      <td>S0093</td>\n",
       "    </tr>\n",
       "    <tr>\n",
       "      <th>16484</th>\n",
       "      <td>ZJ016484</td>\n",
       "      <td>train_features/ZJ016484.jpg</td>\n",
       "      <td>S0043</td>\n",
       "    </tr>\n",
       "    <tr>\n",
       "      <th>16485</th>\n",
       "      <td>ZJ016485</td>\n",
       "      <td>train_features/ZJ016485.jpg</td>\n",
       "      <td>S0089</td>\n",
       "    </tr>\n",
       "    <tr>\n",
       "      <th>16486</th>\n",
       "      <td>ZJ016486</td>\n",
       "      <td>train_features/ZJ016486.jpg</td>\n",
       "      <td>S0095</td>\n",
       "    </tr>\n",
       "    <tr>\n",
       "      <th>16487</th>\n",
       "      <td>ZJ016487</td>\n",
       "      <td>train_features/ZJ016487.jpg</td>\n",
       "      <td>S0021</td>\n",
       "    </tr>\n",
       "  </tbody>\n",
       "</table>\n",
       "<p>16488 rows × 3 columns</p>\n",
       "</div>"
      ],
      "text/plain": [
       "             id                     filepath   site\n",
       "0      ZJ000000  train_features/ZJ000000.jpg  S0120\n",
       "1      ZJ000001  train_features/ZJ000001.jpg  S0069\n",
       "2      ZJ000002  train_features/ZJ000002.jpg  S0009\n",
       "3      ZJ000003  train_features/ZJ000003.jpg  S0008\n",
       "4      ZJ000004  train_features/ZJ000004.jpg  S0036\n",
       "...         ...                          ...    ...\n",
       "16483  ZJ016483  train_features/ZJ016483.jpg  S0093\n",
       "16484  ZJ016484  train_features/ZJ016484.jpg  S0043\n",
       "16485  ZJ016485  train_features/ZJ016485.jpg  S0089\n",
       "16486  ZJ016486  train_features/ZJ016486.jpg  S0095\n",
       "16487  ZJ016487  train_features/ZJ016487.jpg  S0021\n",
       "\n",
       "[16488 rows x 3 columns]"
      ]
     },
     "execution_count": 170,
     "metadata": {},
     "output_type": "execute_result"
    }
   ],
   "source": [
    "df=pd.read_csv(os.path.join(data_dir,'train_features.csv'))\n",
    "df"
   ]
  },
  {
   "cell_type": "code",
   "execution_count": 171,
   "id": "08e214a2",
   "metadata": {},
   "outputs": [
    {
     "data": {
      "text/plain": [
       "0        1\n",
       "1        6\n",
       "2        1\n",
       "3        6\n",
       "4        5\n",
       "        ..\n",
       "16483    2\n",
       "16484    5\n",
       "16485    3\n",
       "16486    1\n",
       "16487    3\n",
       "Name: label, Length: 16488, dtype: object"
      ]
     },
     "execution_count": 171,
     "metadata": {},
     "output_type": "execute_result"
    }
   ],
   "source": [
    "train_labels = pd.read_csv(os.path.join(data_dir,'train_labels.csv'))\n",
    "classes = train_labels.columns[1:]\n",
    "t_labels = train_labels.iloc[:, 1:]\n",
    "train_y = np.array([np.argmax(t_labels.iloc[i, :]) for i in range(t_labels.shape[0])])\n",
    "l=list(train_y)\n",
    "df['label']=l\n",
    "df['label'].astype(dtype=str)"
   ]
  },
  {
   "cell_type": "code",
   "execution_count": 172,
   "id": "6a391638",
   "metadata": {},
   "outputs": [
    {
     "data": {
      "text/html": [
       "<div>\n",
       "<style scoped>\n",
       "    .dataframe tbody tr th:only-of-type {\n",
       "        vertical-align: middle;\n",
       "    }\n",
       "\n",
       "    .dataframe tbody tr th {\n",
       "        vertical-align: top;\n",
       "    }\n",
       "\n",
       "    .dataframe thead th {\n",
       "        text-align: right;\n",
       "    }\n",
       "</style>\n",
       "<table border=\"1\" class=\"dataframe\">\n",
       "  <thead>\n",
       "    <tr style=\"text-align: right;\">\n",
       "      <th></th>\n",
       "      <th>filepath</th>\n",
       "      <th>site</th>\n",
       "      <th>label</th>\n",
       "      <th>antelope_duiker</th>\n",
       "      <th>bird</th>\n",
       "      <th>blank</th>\n",
       "      <th>civet_genet</th>\n",
       "      <th>hog</th>\n",
       "      <th>leopard</th>\n",
       "      <th>monkey_prosimian</th>\n",
       "      <th>rodent</th>\n",
       "    </tr>\n",
       "    <tr>\n",
       "      <th>id</th>\n",
       "      <th></th>\n",
       "      <th></th>\n",
       "      <th></th>\n",
       "      <th></th>\n",
       "      <th></th>\n",
       "      <th></th>\n",
       "      <th></th>\n",
       "      <th></th>\n",
       "      <th></th>\n",
       "      <th></th>\n",
       "      <th></th>\n",
       "    </tr>\n",
       "  </thead>\n",
       "  <tbody>\n",
       "    <tr>\n",
       "      <th>ZJ000000</th>\n",
       "      <td>train_features/ZJ000000.jpg</td>\n",
       "      <td>S0120</td>\n",
       "      <td>1</td>\n",
       "      <td>0.0</td>\n",
       "      <td>1.0</td>\n",
       "      <td>0.0</td>\n",
       "      <td>0.0</td>\n",
       "      <td>0.0</td>\n",
       "      <td>0.0</td>\n",
       "      <td>0.0</td>\n",
       "      <td>0.0</td>\n",
       "    </tr>\n",
       "    <tr>\n",
       "      <th>ZJ000001</th>\n",
       "      <td>train_features/ZJ000001.jpg</td>\n",
       "      <td>S0069</td>\n",
       "      <td>6</td>\n",
       "      <td>0.0</td>\n",
       "      <td>0.0</td>\n",
       "      <td>0.0</td>\n",
       "      <td>0.0</td>\n",
       "      <td>0.0</td>\n",
       "      <td>0.0</td>\n",
       "      <td>1.0</td>\n",
       "      <td>0.0</td>\n",
       "    </tr>\n",
       "    <tr>\n",
       "      <th>ZJ000002</th>\n",
       "      <td>train_features/ZJ000002.jpg</td>\n",
       "      <td>S0009</td>\n",
       "      <td>1</td>\n",
       "      <td>0.0</td>\n",
       "      <td>1.0</td>\n",
       "      <td>0.0</td>\n",
       "      <td>0.0</td>\n",
       "      <td>0.0</td>\n",
       "      <td>0.0</td>\n",
       "      <td>0.0</td>\n",
       "      <td>0.0</td>\n",
       "    </tr>\n",
       "    <tr>\n",
       "      <th>ZJ000003</th>\n",
       "      <td>train_features/ZJ000003.jpg</td>\n",
       "      <td>S0008</td>\n",
       "      <td>6</td>\n",
       "      <td>0.0</td>\n",
       "      <td>0.0</td>\n",
       "      <td>0.0</td>\n",
       "      <td>0.0</td>\n",
       "      <td>0.0</td>\n",
       "      <td>0.0</td>\n",
       "      <td>1.0</td>\n",
       "      <td>0.0</td>\n",
       "    </tr>\n",
       "    <tr>\n",
       "      <th>ZJ000004</th>\n",
       "      <td>train_features/ZJ000004.jpg</td>\n",
       "      <td>S0036</td>\n",
       "      <td>5</td>\n",
       "      <td>0.0</td>\n",
       "      <td>0.0</td>\n",
       "      <td>0.0</td>\n",
       "      <td>0.0</td>\n",
       "      <td>0.0</td>\n",
       "      <td>1.0</td>\n",
       "      <td>0.0</td>\n",
       "      <td>0.0</td>\n",
       "    </tr>\n",
       "    <tr>\n",
       "      <th>...</th>\n",
       "      <td>...</td>\n",
       "      <td>...</td>\n",
       "      <td>...</td>\n",
       "      <td>...</td>\n",
       "      <td>...</td>\n",
       "      <td>...</td>\n",
       "      <td>...</td>\n",
       "      <td>...</td>\n",
       "      <td>...</td>\n",
       "      <td>...</td>\n",
       "      <td>...</td>\n",
       "    </tr>\n",
       "    <tr>\n",
       "      <th>ZJ016483</th>\n",
       "      <td>train_features/ZJ016483.jpg</td>\n",
       "      <td>S0093</td>\n",
       "      <td>2</td>\n",
       "      <td>0.0</td>\n",
       "      <td>0.0</td>\n",
       "      <td>1.0</td>\n",
       "      <td>0.0</td>\n",
       "      <td>0.0</td>\n",
       "      <td>0.0</td>\n",
       "      <td>0.0</td>\n",
       "      <td>0.0</td>\n",
       "    </tr>\n",
       "    <tr>\n",
       "      <th>ZJ016484</th>\n",
       "      <td>train_features/ZJ016484.jpg</td>\n",
       "      <td>S0043</td>\n",
       "      <td>5</td>\n",
       "      <td>0.0</td>\n",
       "      <td>0.0</td>\n",
       "      <td>0.0</td>\n",
       "      <td>0.0</td>\n",
       "      <td>0.0</td>\n",
       "      <td>1.0</td>\n",
       "      <td>0.0</td>\n",
       "      <td>0.0</td>\n",
       "    </tr>\n",
       "    <tr>\n",
       "      <th>ZJ016485</th>\n",
       "      <td>train_features/ZJ016485.jpg</td>\n",
       "      <td>S0089</td>\n",
       "      <td>3</td>\n",
       "      <td>0.0</td>\n",
       "      <td>0.0</td>\n",
       "      <td>0.0</td>\n",
       "      <td>1.0</td>\n",
       "      <td>0.0</td>\n",
       "      <td>0.0</td>\n",
       "      <td>0.0</td>\n",
       "      <td>0.0</td>\n",
       "    </tr>\n",
       "    <tr>\n",
       "      <th>ZJ016486</th>\n",
       "      <td>train_features/ZJ016486.jpg</td>\n",
       "      <td>S0095</td>\n",
       "      <td>1</td>\n",
       "      <td>0.0</td>\n",
       "      <td>1.0</td>\n",
       "      <td>0.0</td>\n",
       "      <td>0.0</td>\n",
       "      <td>0.0</td>\n",
       "      <td>0.0</td>\n",
       "      <td>0.0</td>\n",
       "      <td>0.0</td>\n",
       "    </tr>\n",
       "    <tr>\n",
       "      <th>ZJ016487</th>\n",
       "      <td>train_features/ZJ016487.jpg</td>\n",
       "      <td>S0021</td>\n",
       "      <td>3</td>\n",
       "      <td>0.0</td>\n",
       "      <td>0.0</td>\n",
       "      <td>0.0</td>\n",
       "      <td>1.0</td>\n",
       "      <td>0.0</td>\n",
       "      <td>0.0</td>\n",
       "      <td>0.0</td>\n",
       "      <td>0.0</td>\n",
       "    </tr>\n",
       "  </tbody>\n",
       "</table>\n",
       "<p>16488 rows × 11 columns</p>\n",
       "</div>"
      ],
      "text/plain": [
       "                             filepath   site  label  antelope_duiker  bird  \\\n",
       "id                                                                           \n",
       "ZJ000000  train_features/ZJ000000.jpg  S0120      1              0.0   1.0   \n",
       "ZJ000001  train_features/ZJ000001.jpg  S0069      6              0.0   0.0   \n",
       "ZJ000002  train_features/ZJ000002.jpg  S0009      1              0.0   1.0   \n",
       "ZJ000003  train_features/ZJ000003.jpg  S0008      6              0.0   0.0   \n",
       "ZJ000004  train_features/ZJ000004.jpg  S0036      5              0.0   0.0   \n",
       "...                               ...    ...    ...              ...   ...   \n",
       "ZJ016483  train_features/ZJ016483.jpg  S0093      2              0.0   0.0   \n",
       "ZJ016484  train_features/ZJ016484.jpg  S0043      5              0.0   0.0   \n",
       "ZJ016485  train_features/ZJ016485.jpg  S0089      3              0.0   0.0   \n",
       "ZJ016486  train_features/ZJ016486.jpg  S0095      1              0.0   1.0   \n",
       "ZJ016487  train_features/ZJ016487.jpg  S0021      3              0.0   0.0   \n",
       "\n",
       "          blank  civet_genet  hog  leopard  monkey_prosimian  rodent  \n",
       "id                                                                    \n",
       "ZJ000000    0.0          0.0  0.0      0.0               0.0     0.0  \n",
       "ZJ000001    0.0          0.0  0.0      0.0               1.0     0.0  \n",
       "ZJ000002    0.0          0.0  0.0      0.0               0.0     0.0  \n",
       "ZJ000003    0.0          0.0  0.0      0.0               1.0     0.0  \n",
       "ZJ000004    0.0          0.0  0.0      1.0               0.0     0.0  \n",
       "...         ...          ...  ...      ...               ...     ...  \n",
       "ZJ016483    1.0          0.0  0.0      0.0               0.0     0.0  \n",
       "ZJ016484    0.0          0.0  0.0      1.0               0.0     0.0  \n",
       "ZJ016485    0.0          1.0  0.0      0.0               0.0     0.0  \n",
       "ZJ016486    0.0          0.0  0.0      0.0               0.0     0.0  \n",
       "ZJ016487    0.0          1.0  0.0      0.0               0.0     0.0  \n",
       "\n",
       "[16488 rows x 11 columns]"
      ]
     },
     "execution_count": 172,
     "metadata": {},
     "output_type": "execute_result"
    }
   ],
   "source": [
    "pf=df.set_index('id').join(train_labels.set_index('id'))\n",
    "pf"
   ]
  },
  {
   "cell_type": "code",
   "execution_count": 173,
   "id": "f9f3ebcc",
   "metadata": {
    "scrolled": true
   },
   "outputs": [
    {
     "data": {
      "text/plain": [
       "Index(['filepath', 'site', 'label', 'antelope_duiker', 'bird', 'blank',\n",
       "       'civet_genet', 'hog', 'leopard', 'monkey_prosimian', 'rodent'],\n",
       "      dtype='object')"
      ]
     },
     "execution_count": 173,
     "metadata": {},
     "output_type": "execute_result"
    }
   ],
   "source": [
    "pf.columns"
   ]
  },
  {
   "cell_type": "code",
   "execution_count": 174,
   "id": "0a105c9f",
   "metadata": {},
   "outputs": [
    {
     "data": {
      "text/html": [
       "<div>\n",
       "<style scoped>\n",
       "    .dataframe tbody tr th:only-of-type {\n",
       "        vertical-align: middle;\n",
       "    }\n",
       "\n",
       "    .dataframe tbody tr th {\n",
       "        vertical-align: top;\n",
       "    }\n",
       "\n",
       "    .dataframe thead th {\n",
       "        text-align: right;\n",
       "    }\n",
       "</style>\n",
       "<table border=\"1\" class=\"dataframe\">\n",
       "  <thead>\n",
       "    <tr style=\"text-align: right;\">\n",
       "      <th></th>\n",
       "      <th>filepath</th>\n",
       "      <th>site</th>\n",
       "      <th>label</th>\n",
       "      <th>antelope_duiker</th>\n",
       "      <th>bird</th>\n",
       "      <th>blank</th>\n",
       "      <th>civet_genet</th>\n",
       "      <th>hog</th>\n",
       "      <th>leopard</th>\n",
       "      <th>monkey_prosimian</th>\n",
       "      <th>rodent</th>\n",
       "      <th>path</th>\n",
       "      <th>file</th>\n",
       "    </tr>\n",
       "    <tr>\n",
       "      <th>id</th>\n",
       "      <th></th>\n",
       "      <th></th>\n",
       "      <th></th>\n",
       "      <th></th>\n",
       "      <th></th>\n",
       "      <th></th>\n",
       "      <th></th>\n",
       "      <th></th>\n",
       "      <th></th>\n",
       "      <th></th>\n",
       "      <th></th>\n",
       "      <th></th>\n",
       "      <th></th>\n",
       "    </tr>\n",
       "  </thead>\n",
       "  <tbody>\n",
       "    <tr>\n",
       "      <th>ZJ000000</th>\n",
       "      <td>train_features/ZJ000000.jpg</td>\n",
       "      <td>S0120</td>\n",
       "      <td>1</td>\n",
       "      <td>0.0</td>\n",
       "      <td>1.0</td>\n",
       "      <td>0.0</td>\n",
       "      <td>0.0</td>\n",
       "      <td>0.0</td>\n",
       "      <td>0.0</td>\n",
       "      <td>0.0</td>\n",
       "      <td>0.0</td>\n",
       "      <td>train_features</td>\n",
       "      <td>ZJ000000.jpg</td>\n",
       "    </tr>\n",
       "    <tr>\n",
       "      <th>ZJ000001</th>\n",
       "      <td>train_features/ZJ000001.jpg</td>\n",
       "      <td>S0069</td>\n",
       "      <td>6</td>\n",
       "      <td>0.0</td>\n",
       "      <td>0.0</td>\n",
       "      <td>0.0</td>\n",
       "      <td>0.0</td>\n",
       "      <td>0.0</td>\n",
       "      <td>0.0</td>\n",
       "      <td>1.0</td>\n",
       "      <td>0.0</td>\n",
       "      <td>train_features</td>\n",
       "      <td>ZJ000001.jpg</td>\n",
       "    </tr>\n",
       "    <tr>\n",
       "      <th>ZJ000002</th>\n",
       "      <td>train_features/ZJ000002.jpg</td>\n",
       "      <td>S0009</td>\n",
       "      <td>1</td>\n",
       "      <td>0.0</td>\n",
       "      <td>1.0</td>\n",
       "      <td>0.0</td>\n",
       "      <td>0.0</td>\n",
       "      <td>0.0</td>\n",
       "      <td>0.0</td>\n",
       "      <td>0.0</td>\n",
       "      <td>0.0</td>\n",
       "      <td>train_features</td>\n",
       "      <td>ZJ000002.jpg</td>\n",
       "    </tr>\n",
       "    <tr>\n",
       "      <th>ZJ000003</th>\n",
       "      <td>train_features/ZJ000003.jpg</td>\n",
       "      <td>S0008</td>\n",
       "      <td>6</td>\n",
       "      <td>0.0</td>\n",
       "      <td>0.0</td>\n",
       "      <td>0.0</td>\n",
       "      <td>0.0</td>\n",
       "      <td>0.0</td>\n",
       "      <td>0.0</td>\n",
       "      <td>1.0</td>\n",
       "      <td>0.0</td>\n",
       "      <td>train_features</td>\n",
       "      <td>ZJ000003.jpg</td>\n",
       "    </tr>\n",
       "    <tr>\n",
       "      <th>ZJ000004</th>\n",
       "      <td>train_features/ZJ000004.jpg</td>\n",
       "      <td>S0036</td>\n",
       "      <td>5</td>\n",
       "      <td>0.0</td>\n",
       "      <td>0.0</td>\n",
       "      <td>0.0</td>\n",
       "      <td>0.0</td>\n",
       "      <td>0.0</td>\n",
       "      <td>1.0</td>\n",
       "      <td>0.0</td>\n",
       "      <td>0.0</td>\n",
       "      <td>train_features</td>\n",
       "      <td>ZJ000004.jpg</td>\n",
       "    </tr>\n",
       "    <tr>\n",
       "      <th>...</th>\n",
       "      <td>...</td>\n",
       "      <td>...</td>\n",
       "      <td>...</td>\n",
       "      <td>...</td>\n",
       "      <td>...</td>\n",
       "      <td>...</td>\n",
       "      <td>...</td>\n",
       "      <td>...</td>\n",
       "      <td>...</td>\n",
       "      <td>...</td>\n",
       "      <td>...</td>\n",
       "      <td>...</td>\n",
       "      <td>...</td>\n",
       "    </tr>\n",
       "    <tr>\n",
       "      <th>ZJ016483</th>\n",
       "      <td>train_features/ZJ016483.jpg</td>\n",
       "      <td>S0093</td>\n",
       "      <td>2</td>\n",
       "      <td>0.0</td>\n",
       "      <td>0.0</td>\n",
       "      <td>1.0</td>\n",
       "      <td>0.0</td>\n",
       "      <td>0.0</td>\n",
       "      <td>0.0</td>\n",
       "      <td>0.0</td>\n",
       "      <td>0.0</td>\n",
       "      <td>train_features</td>\n",
       "      <td>ZJ016483.jpg</td>\n",
       "    </tr>\n",
       "    <tr>\n",
       "      <th>ZJ016484</th>\n",
       "      <td>train_features/ZJ016484.jpg</td>\n",
       "      <td>S0043</td>\n",
       "      <td>5</td>\n",
       "      <td>0.0</td>\n",
       "      <td>0.0</td>\n",
       "      <td>0.0</td>\n",
       "      <td>0.0</td>\n",
       "      <td>0.0</td>\n",
       "      <td>1.0</td>\n",
       "      <td>0.0</td>\n",
       "      <td>0.0</td>\n",
       "      <td>train_features</td>\n",
       "      <td>ZJ016484.jpg</td>\n",
       "    </tr>\n",
       "    <tr>\n",
       "      <th>ZJ016485</th>\n",
       "      <td>train_features/ZJ016485.jpg</td>\n",
       "      <td>S0089</td>\n",
       "      <td>3</td>\n",
       "      <td>0.0</td>\n",
       "      <td>0.0</td>\n",
       "      <td>0.0</td>\n",
       "      <td>1.0</td>\n",
       "      <td>0.0</td>\n",
       "      <td>0.0</td>\n",
       "      <td>0.0</td>\n",
       "      <td>0.0</td>\n",
       "      <td>train_features</td>\n",
       "      <td>ZJ016485.jpg</td>\n",
       "    </tr>\n",
       "    <tr>\n",
       "      <th>ZJ016486</th>\n",
       "      <td>train_features/ZJ016486.jpg</td>\n",
       "      <td>S0095</td>\n",
       "      <td>1</td>\n",
       "      <td>0.0</td>\n",
       "      <td>1.0</td>\n",
       "      <td>0.0</td>\n",
       "      <td>0.0</td>\n",
       "      <td>0.0</td>\n",
       "      <td>0.0</td>\n",
       "      <td>0.0</td>\n",
       "      <td>0.0</td>\n",
       "      <td>train_features</td>\n",
       "      <td>ZJ016486.jpg</td>\n",
       "    </tr>\n",
       "    <tr>\n",
       "      <th>ZJ016487</th>\n",
       "      <td>train_features/ZJ016487.jpg</td>\n",
       "      <td>S0021</td>\n",
       "      <td>3</td>\n",
       "      <td>0.0</td>\n",
       "      <td>0.0</td>\n",
       "      <td>0.0</td>\n",
       "      <td>1.0</td>\n",
       "      <td>0.0</td>\n",
       "      <td>0.0</td>\n",
       "      <td>0.0</td>\n",
       "      <td>0.0</td>\n",
       "      <td>train_features</td>\n",
       "      <td>ZJ016487.jpg</td>\n",
       "    </tr>\n",
       "  </tbody>\n",
       "</table>\n",
       "<p>16488 rows × 13 columns</p>\n",
       "</div>"
      ],
      "text/plain": [
       "                             filepath   site label antelope_duiker bird blank  \\\n",
       "id                                                                              \n",
       "ZJ000000  train_features/ZJ000000.jpg  S0120     1             0.0  1.0   0.0   \n",
       "ZJ000001  train_features/ZJ000001.jpg  S0069     6             0.0  0.0   0.0   \n",
       "ZJ000002  train_features/ZJ000002.jpg  S0009     1             0.0  1.0   0.0   \n",
       "ZJ000003  train_features/ZJ000003.jpg  S0008     6             0.0  0.0   0.0   \n",
       "ZJ000004  train_features/ZJ000004.jpg  S0036     5             0.0  0.0   0.0   \n",
       "...                               ...    ...   ...             ...  ...   ...   \n",
       "ZJ016483  train_features/ZJ016483.jpg  S0093     2             0.0  0.0   1.0   \n",
       "ZJ016484  train_features/ZJ016484.jpg  S0043     5             0.0  0.0   0.0   \n",
       "ZJ016485  train_features/ZJ016485.jpg  S0089     3             0.0  0.0   0.0   \n",
       "ZJ016486  train_features/ZJ016486.jpg  S0095     1             0.0  1.0   0.0   \n",
       "ZJ016487  train_features/ZJ016487.jpg  S0021     3             0.0  0.0   0.0   \n",
       "\n",
       "         civet_genet  hog leopard monkey_prosimian rodent            path  \\\n",
       "id                                                                          \n",
       "ZJ000000         0.0  0.0     0.0              0.0    0.0  train_features   \n",
       "ZJ000001         0.0  0.0     0.0              1.0    0.0  train_features   \n",
       "ZJ000002         0.0  0.0     0.0              0.0    0.0  train_features   \n",
       "ZJ000003         0.0  0.0     0.0              1.0    0.0  train_features   \n",
       "ZJ000004         0.0  0.0     1.0              0.0    0.0  train_features   \n",
       "...              ...  ...     ...              ...    ...             ...   \n",
       "ZJ016483         0.0  0.0     0.0              0.0    0.0  train_features   \n",
       "ZJ016484         0.0  0.0     1.0              0.0    0.0  train_features   \n",
       "ZJ016485         1.0  0.0     0.0              0.0    0.0  train_features   \n",
       "ZJ016486         0.0  0.0     0.0              0.0    0.0  train_features   \n",
       "ZJ016487         1.0  0.0     0.0              0.0    0.0  train_features   \n",
       "\n",
       "                  file  \n",
       "id                      \n",
       "ZJ000000  ZJ000000.jpg  \n",
       "ZJ000001  ZJ000001.jpg  \n",
       "ZJ000002  ZJ000002.jpg  \n",
       "ZJ000003  ZJ000003.jpg  \n",
       "ZJ000004  ZJ000004.jpg  \n",
       "...                ...  \n",
       "ZJ016483  ZJ016483.jpg  \n",
       "ZJ016484  ZJ016484.jpg  \n",
       "ZJ016485  ZJ016485.jpg  \n",
       "ZJ016486  ZJ016486.jpg  \n",
       "ZJ016487  ZJ016487.jpg  \n",
       "\n",
       "[16488 rows x 13 columns]"
      ]
     },
     "execution_count": 174,
     "metadata": {},
     "output_type": "execute_result"
    }
   ],
   "source": [
    "d=pf.astype(str,copy=False)\n",
    "d\n",
    "d[['path','file']] = d.filepath.str.split(\"/\",expand=True)\n",
    "d"
   ]
  },
  {
   "cell_type": "code",
   "execution_count": 188,
   "id": "2023de21",
   "metadata": {},
   "outputs": [],
   "source": [
    "import tensorflow_addons as tfa\n",
    "def preprocessing(im):\n",
    "    im=tfa.image.gaussian_filter2d(im,filter_shape=(3,3),sigma=0.3)\n",
    "#     mean = tfa.image.mean_filter2d(img, filter_shape=15)\n",
    "    return im\n",
    "    \n",
    "                                   \n",
    "    "
   ]
  },
  {
   "cell_type": "markdown",
   "id": "8d8cd4bf",
   "metadata": {},
   "source": [
    "Map Image to its label"
   ]
  },
  {
   "cell_type": "code",
   "execution_count": 189,
   "id": "c5fc6d0f",
   "metadata": {},
   "outputs": [
    {
     "name": "stdout",
     "output_type": "stream",
     "text": [
      "Found 15664 validated image filenames belonging to 8 classes.\n",
      "Found 824 validated image filenames belonging to 8 classes.\n"
     ]
    }
   ],
   "source": [
    "from tensorflow.keras.preprocessing.image import ImageDataGenerator\n",
    "train=ImageDataGenerator(rescale=1/255.0,\n",
    "                         validation_split=0.05,\n",
    "                         zoom_range=0.20,\n",
    "                         horizontal_flip=True,\n",
    "                         brightness_range=[-1.0,1.0],\n",
    "                         preprocessing_function=preprocessing)\n",
    "\n",
    "train_gen=train.flow_from_dataframe(d,\n",
    "                                    t,\n",
    "                                    x_col='file',\n",
    "                                    y_col='label',\n",
    "                                    batch_size=32,\n",
    "                                    color_mode='rgb',\n",
    "                                    class_mode='categorical',\n",
    "                                    subset='training',\n",
    "                                    target_size=(224, 224))\n",
    "\n",
    "valid_gen=train.flow_from_dataframe(d,\n",
    "                                    t,\n",
    "                                    x_col='file',\n",
    "                                    y_col='label',\n",
    "                                    batch_size=32,\n",
    "                                    color_mode='rgb',\n",
    "                                    class_mode='categorical',\n",
    "                                    subset='validation',\n",
    "                                    target_size=(224, 224))"
   ]
  },
  {
   "cell_type": "code",
   "execution_count": 190,
   "id": "25669855",
   "metadata": {},
   "outputs": [
    {
     "data": {
      "text/plain": [
       "keras.preprocessing.image.DataFrameIterator"
      ]
     },
     "execution_count": 190,
     "metadata": {},
     "output_type": "execute_result"
    }
   ],
   "source": [
    "type(train_gen)"
   ]
  },
  {
   "cell_type": "code",
   "execution_count": 191,
   "id": "7b224c9c",
   "metadata": {},
   "outputs": [],
   "source": [
    "# cd D:/Course/DrivenData Project/Dataset"
   ]
  },
  {
   "cell_type": "markdown",
   "id": "3b584dce",
   "metadata": {},
   "source": [
    "# Model"
   ]
  },
  {
   "cell_type": "code",
   "execution_count": 220,
   "id": "b62c7cd2",
   "metadata": {},
   "outputs": [],
   "source": [
    "from keras.models import Sequential\n",
    "from keras.layers import Conv2D, MaxPooling2D, MaxPool2D,AveragePooling2D\n",
    "from keras.layers import Activation, Dropout, Flatten, Dense\n",
    "from keras.regularizers import l1, l2, l1_l2"
   ]
  },
  {
   "cell_type": "code",
   "execution_count": 214,
   "id": "b98b3057",
   "metadata": {},
   "outputs": [],
   "source": [
    "def model1():\n",
    "    model=Sequential()\n",
    "    model.add(Conv2D(42,(3,3),input_shape=(224,224,3)))\n",
    "    model.add(Activation('relu'))\n",
    "    model.add(MaxPooling2D(pool_size=(2,2)))\n",
    "\n",
    "    model.add(Conv2D(42,(3,3)))\n",
    "    model.add(Activation('relu'))\n",
    "    model.add(MaxPooling2D(pool_size=(2,2)))\n",
    "    \n",
    "    model.add(Conv2D(42,(3,3)))\n",
    "    model.add(Activation('relu'))\n",
    "    model.add(MaxPooling2D(pool_size=(2,2)))\n",
    "\n",
    "    model.add(Flatten())\n",
    "    model.add(Dense(100,activation='relu'))\n",
    "    model.add(Dense(8))\n",
    "    model.add(Activation('softmax'))\n",
    "    \n",
    "    model.compile(loss='binary_crossentropy',optimizer='Adam' ,metrics=['accuracy'])\n",
    "    return model"
   ]
  },
  {
   "cell_type": "code",
   "execution_count": 203,
   "id": "0e49ef61",
   "metadata": {},
   "outputs": [],
   "source": [
    "model=model1()"
   ]
  },
  {
   "cell_type": "code",
   "execution_count": 204,
   "id": "f6470871",
   "metadata": {},
   "outputs": [
    {
     "data": {
      "text/plain": [
       "keras.engine.sequential.Sequential"
      ]
     },
     "execution_count": 204,
     "metadata": {},
     "output_type": "execute_result"
    }
   ],
   "source": [
    "type(model)"
   ]
  },
  {
   "cell_type": "code",
   "execution_count": 205,
   "id": "b05a0466",
   "metadata": {},
   "outputs": [
    {
     "name": "stderr",
     "output_type": "stream",
     "text": [
      "C:\\Users\\Karan\\AppData\\Local\\Temp\\ipykernel_14212\\2364167053.py:1: UserWarning: `Model.fit_generator` is deprecated and will be removed in a future version. Please use `Model.fit`, which supports generators.\n",
      "  model.fit_generator(train_gen,\n"
     ]
    },
    {
     "name": "stdout",
     "output_type": "stream",
     "text": [
      "Epoch 1/15\n",
      "489/489 [==============================] - 222s 452ms/step - loss: 0.3659 - accuracy: 0.1977 - val_loss: 0.3569 - val_accuracy: 0.2138\n",
      "Epoch 2/15\n",
      "489/489 [==============================] - 214s 437ms/step - loss: 0.3519 - accuracy: 0.2247 - val_loss: 0.3466 - val_accuracy: 0.2587\n",
      "Epoch 3/15\n",
      "489/489 [==============================] - 209s 427ms/step - loss: 0.3448 - accuracy: 0.2565 - val_loss: 0.3392 - val_accuracy: 0.2650\n",
      "Epoch 4/15\n",
      "489/489 [==============================] - 259s 530ms/step - loss: 0.3396 - accuracy: 0.2619 - val_loss: 0.3312 - val_accuracy: 0.2875\n",
      "Epoch 5/15\n",
      "489/489 [==============================] - 221s 452ms/step - loss: 0.3326 - accuracy: 0.2835 - val_loss: 0.3263 - val_accuracy: 0.3013\n",
      "Epoch 6/15\n",
      "489/489 [==============================] - 222s 454ms/step - loss: 0.3280 - accuracy: 0.3004 - val_loss: 0.3268 - val_accuracy: 0.3250\n",
      "Epoch 7/15\n",
      "489/489 [==============================] - 223s 456ms/step - loss: 0.3248 - accuracy: 0.3063 - val_loss: 0.3156 - val_accuracy: 0.3338\n",
      "Epoch 8/15\n",
      "489/489 [==============================] - 214s 437ms/step - loss: 0.3195 - accuracy: 0.3210 - val_loss: 0.3174 - val_accuracy: 0.3250\n",
      "Epoch 9/15\n",
      "489/489 [==============================] - 212s 433ms/step - loss: 0.3160 - accuracy: 0.3290 - val_loss: 0.3082 - val_accuracy: 0.3550\n",
      "Epoch 10/15\n",
      "489/489 [==============================] - 212s 434ms/step - loss: 0.3116 - accuracy: 0.3397 - val_loss: 0.3106 - val_accuracy: 0.3250\n",
      "Epoch 11/15\n",
      "489/489 [==============================] - 209s 428ms/step - loss: 0.3068 - accuracy: 0.3502 - val_loss: 0.3013 - val_accuracy: 0.3575\n",
      "Epoch 12/15\n",
      "489/489 [==============================] - 213s 436ms/step - loss: 0.3044 - accuracy: 0.3619 - val_loss: 0.2987 - val_accuracy: 0.3688\n",
      "Epoch 13/15\n",
      "489/489 [==============================] - 212s 434ms/step - loss: 0.3005 - accuracy: 0.3661 - val_loss: 0.3035 - val_accuracy: 0.3825\n",
      "Epoch 14/15\n",
      "489/489 [==============================] - 211s 432ms/step - loss: 0.2981 - accuracy: 0.3718 - val_loss: 0.3055 - val_accuracy: 0.3425\n",
      "Epoch 15/15\n",
      "489/489 [==============================] - 211s 431ms/step - loss: 0.2966 - accuracy: 0.3760 - val_loss: 0.2879 - val_accuracy: 0.3950\n"
     ]
    },
    {
     "data": {
      "text/plain": [
       "<keras.callbacks.History at 0x1fcabee3eb0>"
      ]
     },
     "execution_count": 205,
     "metadata": {},
     "output_type": "execute_result"
    }
   ],
   "source": [
    "model.fit_generator(train_gen,\n",
    "          validation_data = train_gen,\n",
    "          steps_per_epoch = train_gen.n//train_gen.batch_size,\n",
    "          validation_steps = valid_gen.n//valid_gen.batch_size,\n",
    "          epochs=15)"
   ]
  },
  {
   "cell_type": "code",
   "execution_count": 85,
   "id": "8e1dad25",
   "metadata": {},
   "outputs": [],
   "source": [
    "# tf=model.fit(data,epochs=10,verbose=1,shuffle=True)"
   ]
  },
  {
   "cell_type": "markdown",
   "id": "19de1a01",
   "metadata": {},
   "source": [
    "Evaluation\n"
   ]
  },
  {
   "cell_type": "code",
   "execution_count": 211,
   "id": "de27d4d8",
   "metadata": {},
   "outputs": [
    {
     "name": "stdout",
     "output_type": "stream",
     "text": [
      "Model: \"sequential_15\"\n",
      "_________________________________________________________________\n",
      " Layer (type)                Output Shape              Param #   \n",
      "=================================================================\n",
      " conv2d_30 (Conv2D)          (None, 222, 222, 42)      1176      \n",
      "                                                                 \n",
      " activation_45 (Activation)  (None, 222, 222, 42)      0         \n",
      "                                                                 \n",
      " max_pooling2d_30 (MaxPoolin  (None, 111, 111, 42)     0         \n",
      " g2D)                                                            \n",
      "                                                                 \n",
      " conv2d_31 (Conv2D)          (None, 109, 109, 42)      15918     \n",
      "                                                                 \n",
      " activation_46 (Activation)  (None, 109, 109, 42)      0         \n",
      "                                                                 \n",
      " max_pooling2d_31 (MaxPoolin  (None, 54, 54, 42)       0         \n",
      " g2D)                                                            \n",
      "                                                                 \n",
      " conv2d_32 (Conv2D)          (None, 52, 52, 42)        15918     \n",
      "                                                                 \n",
      " activation_47 (Activation)  (None, 52, 52, 42)        0         \n",
      "                                                                 \n",
      " max_pooling2d_32 (MaxPoolin  (None, 26, 26, 42)       0         \n",
      " g2D)                                                            \n",
      "                                                                 \n",
      " flatten_15 (Flatten)        (None, 28392)             0         \n",
      "                                                                 \n",
      " dense_30 (Dense)            (None, 100)               2839300   \n",
      "                                                                 \n",
      " dense_31 (Dense)            (None, 8)                 808       \n",
      "                                                                 \n",
      " activation_48 (Activation)  (None, 8)                 0         \n",
      "                                                                 \n",
      "=================================================================\n",
      "Total params: 2,873,120\n",
      "Trainable params: 2,873,120\n",
      "Non-trainable params: 0\n",
      "_________________________________________________________________\n"
     ]
    }
   ],
   "source": [
    "model.summary()"
   ]
  },
  {
   "cell_type": "code",
   "execution_count": 206,
   "id": "7d0575a9",
   "metadata": {},
   "outputs": [
    {
     "name": "stderr",
     "output_type": "stream",
     "text": [
      "C:\\Users\\Karan\\AppData\\Local\\Temp\\ipykernel_14212\\354537384.py:1: UserWarning: `Model.evaluate_generator` is deprecated and will be removed in a future version. Please use `Model.evaluate`, which supports generators.\n",
      "  score = model.evaluate_generator(valid_gen)\n"
     ]
    },
    {
     "name": "stdout",
     "output_type": "stream",
     "text": [
      "Test loss: 0.3129803240299225\n",
      "Test accuracy: 0.3507281541824341\n"
     ]
    }
   ],
   "source": [
    "score = model.evaluate_generator(valid_gen)\n",
    "print('Test loss:', score[0])\n",
    "print('Test accuracy:', score[1])"
   ]
  },
  {
   "cell_type": "code",
   "execution_count": 209,
   "id": "ce096d43",
   "metadata": {},
   "outputs": [
    {
     "name": "stderr",
     "output_type": "stream",
     "text": [
      "WARNING:absl:Found untraced functions such as _jit_compiled_convolution_op, _jit_compiled_convolution_op, _jit_compiled_convolution_op while saving (showing 3 of 3). These functions will not be directly callable after loading.\n"
     ]
    },
    {
     "name": "stdout",
     "output_type": "stream",
     "text": [
      "INFO:tensorflow:Assets written to: CNN2.sav\\assets\n"
     ]
    },
    {
     "name": "stderr",
     "output_type": "stream",
     "text": [
      "INFO:tensorflow:Assets written to: CNN2.sav\\assets\n"
     ]
    }
   ],
   "source": [
    "model.save(\"CNN2.sav\")"
   ]
  },
  {
   "cell_type": "code",
   "execution_count": 210,
   "id": "5cbe659b",
   "metadata": {},
   "outputs": [],
   "source": [
    "loaded=tf.keras.models.load_model('CNN2.sav')"
   ]
  },
  {
   "cell_type": "code",
   "execution_count": 230,
   "id": "4226f90b",
   "metadata": {},
   "outputs": [],
   "source": [
    "def model2():\n",
    "    model =Sequential()\n",
    "    # Feature Extraction Section (The Convolution and The Pooling Layer)\n",
    "    model.add(Conv2D(filters=6, kernel_size=(5, 5), activation='relu', input_shape=(224, 224, 3)))\n",
    "    model.add(AveragePooling2D())\n",
    "    model.add(Conv2D(filters=16, kernel_size=(5, 5), activation='relu'))\n",
    "    model.add(AveragePooling2D())\n",
    "    # Reshape the image into one-dimensional vector\n",
    "    model.add(Flatten())\n",
    "    # Classification Section (The Fully Connected Layer)\n",
    "    model.add(Dense(120, activation='relu'))\n",
    "    model.add(Dense(84, activation='relu'))\n",
    "    model.add(Dense(8, activation='softmax'))\n",
    "    \n",
    "    model.compile(loss='categorical_crossentropy',optimizer='Adam' ,metrics=['accuracy'])\n",
    "    \n",
    "    return model"
   ]
  },
  {
   "cell_type": "code",
   "execution_count": 231,
   "id": "d18b1563",
   "metadata": {},
   "outputs": [
    {
     "data": {
      "text/plain": [
       "keras.engine.sequential.Sequential"
      ]
     },
     "execution_count": 231,
     "metadata": {},
     "output_type": "execute_result"
    }
   ],
   "source": [
    "model=model2()\n",
    "type(model)"
   ]
  },
  {
   "cell_type": "code",
   "execution_count": 232,
   "id": "804f6271",
   "metadata": {},
   "outputs": [
    {
     "name": "stdout",
     "output_type": "stream",
     "text": [
      "Epoch 1/15\n",
      "489/489 [==============================] - 209s 425ms/step - loss: 1.9458 - accuracy: 0.2140 - val_loss: 2.0421 - val_accuracy: 0.1825\n",
      "Epoch 2/15\n",
      "489/489 [==============================] - 204s 418ms/step - loss: 1.8866 - accuracy: 0.2368 - val_loss: 1.8686 - val_accuracy: 0.2812\n",
      "Epoch 3/15\n",
      "489/489 [==============================] - 202s 413ms/step - loss: 1.8536 - accuracy: 0.2492 - val_loss: 1.8161 - val_accuracy: 0.2950\n",
      "Epoch 4/15\n",
      "489/489 [==============================] - 210s 430ms/step - loss: 1.8095 - accuracy: 0.2707 - val_loss: 1.8093 - val_accuracy: 0.2525\n",
      "Epoch 5/15\n",
      "489/489 [==============================] - 202s 413ms/step - loss: 1.7733 - accuracy: 0.2881 - val_loss: 1.7201 - val_accuracy: 0.3100\n",
      "Epoch 6/15\n",
      "489/489 [==============================] - 201s 412ms/step - loss: 1.7663 - accuracy: 0.2932 - val_loss: 1.7471 - val_accuracy: 0.2875\n",
      "Epoch 7/15\n",
      "489/489 [==============================] - 203s 414ms/step - loss: 1.7368 - accuracy: 0.3058 - val_loss: 1.7417 - val_accuracy: 0.3075\n",
      "Epoch 8/15\n",
      "489/489 [==============================] - 201s 410ms/step - loss: 1.7111 - accuracy: 0.3154 - val_loss: 1.7119 - val_accuracy: 0.3237\n",
      "Epoch 9/15\n",
      "489/489 [==============================] - 208s 424ms/step - loss: 1.6897 - accuracy: 0.3237 - val_loss: 1.6902 - val_accuracy: 0.3300\n",
      "Epoch 10/15\n",
      "489/489 [==============================] - 206s 421ms/step - loss: 1.6809 - accuracy: 0.3244 - val_loss: 1.7003 - val_accuracy: 0.3338\n",
      "Epoch 11/15\n",
      "489/489 [==============================] - 203s 415ms/step - loss: 1.6727 - accuracy: 0.3261 - val_loss: 1.6153 - val_accuracy: 0.3475\n",
      "Epoch 12/15\n",
      "489/489 [==============================] - 202s 413ms/step - loss: 1.6369 - accuracy: 0.3432 - val_loss: 1.6483 - val_accuracy: 0.3562\n",
      "Epoch 13/15\n",
      "489/489 [==============================] - 205s 419ms/step - loss: 1.6334 - accuracy: 0.3495 - val_loss: 1.6270 - val_accuracy: 0.3500\n",
      "Epoch 14/15\n",
      "489/489 [==============================] - 203s 416ms/step - loss: 1.6097 - accuracy: 0.3618 - val_loss: 1.6422 - val_accuracy: 0.3475\n",
      "Epoch 15/15\n",
      "489/489 [==============================] - 202s 413ms/step - loss: 1.6081 - accuracy: 0.3612 - val_loss: 1.6135 - val_accuracy: 0.3462\n"
     ]
    },
    {
     "data": {
      "text/plain": [
       "<keras.callbacks.History at 0x1fd15495a20>"
      ]
     },
     "execution_count": 232,
     "metadata": {},
     "output_type": "execute_result"
    }
   ],
   "source": [
    "model.fit(train_gen,\n",
    "          validation_data = train_gen,\n",
    "          steps_per_epoch = train_gen.n//train_gen.batch_size,\n",
    "          validation_steps = valid_gen.n//valid_gen.batch_size,\n",
    "          epochs=15)"
   ]
  },
  {
   "cell_type": "code",
   "execution_count": 233,
   "id": "3d026ebd",
   "metadata": {},
   "outputs": [
    {
     "name": "stderr",
     "output_type": "stream",
     "text": [
      "C:\\Users\\Karan\\AppData\\Local\\Temp\\ipykernel_14212\\354537384.py:1: UserWarning: `Model.evaluate_generator` is deprecated and will be removed in a future version. Please use `Model.evaluate`, which supports generators.\n",
      "  score = model.evaluate_generator(valid_gen)\n"
     ]
    },
    {
     "name": "stdout",
     "output_type": "stream",
     "text": [
      "Test loss: 1.6289719343185425\n",
      "Test accuracy: 0.34951457381248474\n"
     ]
    }
   ],
   "source": [
    "score = model.evaluate_generator(valid_gen)\n",
    "print('Test loss:', score[0])\n",
    "print('Test accuracy:', score[1])"
   ]
  },
  {
   "cell_type": "code",
   "execution_count": 234,
   "id": "e73110c1",
   "metadata": {},
   "outputs": [
    {
     "name": "stderr",
     "output_type": "stream",
     "text": [
      "WARNING:absl:Found untraced functions such as _jit_compiled_convolution_op, _jit_compiled_convolution_op while saving (showing 2 of 2). These functions will not be directly callable after loading.\n"
     ]
    },
    {
     "name": "stdout",
     "output_type": "stream",
     "text": [
      "INFO:tensorflow:Assets written to: LuNET.sav\\assets\n"
     ]
    },
    {
     "name": "stderr",
     "output_type": "stream",
     "text": [
      "INFO:tensorflow:Assets written to: LuNET.sav\\assets\n"
     ]
    }
   ],
   "source": [
    "model.save(\"LuNET.sav\")"
   ]
  },
  {
   "cell_type": "code",
   "execution_count": 31,
   "id": "f3707631",
   "metadata": {},
   "outputs": [
    {
     "data": {
      "text/html": [
       "<div>\n",
       "<style scoped>\n",
       "    .dataframe tbody tr th:only-of-type {\n",
       "        vertical-align: middle;\n",
       "    }\n",
       "\n",
       "    .dataframe tbody tr th {\n",
       "        vertical-align: top;\n",
       "    }\n",
       "\n",
       "    .dataframe thead th {\n",
       "        text-align: right;\n",
       "    }\n",
       "</style>\n",
       "<table border=\"1\" class=\"dataframe\">\n",
       "  <thead>\n",
       "    <tr style=\"text-align: right;\">\n",
       "      <th></th>\n",
       "      <th>id</th>\n",
       "      <th>filepath</th>\n",
       "      <th>site</th>\n",
       "    </tr>\n",
       "  </thead>\n",
       "  <tbody>\n",
       "    <tr>\n",
       "      <th>0</th>\n",
       "      <td>ZJ016488</td>\n",
       "      <td>test_features/ZJ016488.jpg</td>\n",
       "      <td>S0082</td>\n",
       "    </tr>\n",
       "    <tr>\n",
       "      <th>1</th>\n",
       "      <td>ZJ016489</td>\n",
       "      <td>test_features/ZJ016489.jpg</td>\n",
       "      <td>S0040</td>\n",
       "    </tr>\n",
       "    <tr>\n",
       "      <th>2</th>\n",
       "      <td>ZJ016490</td>\n",
       "      <td>test_features/ZJ016490.jpg</td>\n",
       "      <td>S0040</td>\n",
       "    </tr>\n",
       "    <tr>\n",
       "      <th>3</th>\n",
       "      <td>ZJ016491</td>\n",
       "      <td>test_features/ZJ016491.jpg</td>\n",
       "      <td>S0041</td>\n",
       "    </tr>\n",
       "    <tr>\n",
       "      <th>4</th>\n",
       "      <td>ZJ016492</td>\n",
       "      <td>test_features/ZJ016492.jpg</td>\n",
       "      <td>S0040</td>\n",
       "    </tr>\n",
       "    <tr>\n",
       "      <th>...</th>\n",
       "      <td>...</td>\n",
       "      <td>...</td>\n",
       "      <td>...</td>\n",
       "    </tr>\n",
       "    <tr>\n",
       "      <th>4459</th>\n",
       "      <td>ZJ020947</td>\n",
       "      <td>test_features/ZJ020947.jpg</td>\n",
       "      <td>S0086</td>\n",
       "    </tr>\n",
       "    <tr>\n",
       "      <th>4460</th>\n",
       "      <td>ZJ020948</td>\n",
       "      <td>test_features/ZJ020948.jpg</td>\n",
       "      <td>S0152</td>\n",
       "    </tr>\n",
       "    <tr>\n",
       "      <th>4461</th>\n",
       "      <td>ZJ020949</td>\n",
       "      <td>test_features/ZJ020949.jpg</td>\n",
       "      <td>S0162</td>\n",
       "    </tr>\n",
       "    <tr>\n",
       "      <th>4462</th>\n",
       "      <td>ZJ020950</td>\n",
       "      <td>test_features/ZJ020950.jpg</td>\n",
       "      <td>S0055</td>\n",
       "    </tr>\n",
       "    <tr>\n",
       "      <th>4463</th>\n",
       "      <td>ZJ020951</td>\n",
       "      <td>test_features/ZJ020951.jpg</td>\n",
       "      <td>S0114</td>\n",
       "    </tr>\n",
       "  </tbody>\n",
       "</table>\n",
       "<p>4464 rows × 3 columns</p>\n",
       "</div>"
      ],
      "text/plain": [
       "            id                    filepath   site\n",
       "0     ZJ016488  test_features/ZJ016488.jpg  S0082\n",
       "1     ZJ016489  test_features/ZJ016489.jpg  S0040\n",
       "2     ZJ016490  test_features/ZJ016490.jpg  S0040\n",
       "3     ZJ016491  test_features/ZJ016491.jpg  S0041\n",
       "4     ZJ016492  test_features/ZJ016492.jpg  S0040\n",
       "...        ...                         ...    ...\n",
       "4459  ZJ020947  test_features/ZJ020947.jpg  S0086\n",
       "4460  ZJ020948  test_features/ZJ020948.jpg  S0152\n",
       "4461  ZJ020949  test_features/ZJ020949.jpg  S0162\n",
       "4462  ZJ020950  test_features/ZJ020950.jpg  S0055\n",
       "4463  ZJ020951  test_features/ZJ020951.jpg  S0114\n",
       "\n",
       "[4464 rows x 3 columns]"
      ]
     },
     "execution_count": 31,
     "metadata": {},
     "output_type": "execute_result"
    }
   ],
   "source": [
    "test=pd.read_csv('test_features.csv')\n",
    "test"
   ]
  },
  {
   "cell_type": "code",
   "execution_count": 37,
   "id": "59687caa",
   "metadata": {},
   "outputs": [],
   "source": [
    "img_size=(224,224)\n",
    "from tensorflow.keras.preprocessing.image import ImageDataGenerator"
   ]
  },
  {
   "cell_type": "code",
   "execution_count": 38,
   "id": "e251e384",
   "metadata": {},
   "outputs": [],
   "source": [
    "def make_gens(batch_size,test_df,img_size):\n",
    "    t_gen=ImageDataGenerator()\n",
    "    test_gen=t_gen.flow_from_dataframe(test,x_col='filepath',batch_size=32,class_mode=None,target_size=(224,224))\n",
    "    test_steps=int(len(test_df)/batch_size)\n",
    "    return test_gen,test_steps"
   ]
  },
  {
   "cell_type": "code",
   "execution_count": 39,
   "id": "f14b4ee9",
   "metadata": {},
   "outputs": [
    {
     "name": "stdout",
     "output_type": "stream",
     "text": [
      "Found 4464 validated image filenames.\n"
     ]
    }
   ],
   "source": [
    "test_gen,steps=make_gens(32,test,img_size)"
   ]
  },
  {
   "cell_type": "code",
   "execution_count": 40,
   "id": "ed907fa6",
   "metadata": {},
   "outputs": [
    {
     "data": {
      "text/plain": [
       "(32, 224, 224, 3)"
      ]
     },
     "execution_count": 40,
     "metadata": {},
     "output_type": "execute_result"
    }
   ],
   "source": [
    "test_gen[0].shape"
   ]
  },
  {
   "cell_type": "code",
   "execution_count": 41,
   "id": "0f104a44",
   "metadata": {},
   "outputs": [
    {
     "name": "stdout",
     "output_type": "stream",
     "text": [
      "140/140 [==============================] - 33s 235ms/step\n"
     ]
    }
   ],
   "source": [
    "preds=model.predict(test_gen,verbose=1)"
   ]
  },
  {
   "cell_type": "code",
   "execution_count": 42,
   "id": "3f148291",
   "metadata": {},
   "outputs": [
    {
     "data": {
      "text/plain": [
       "array([[0.0000000e+00, 0.0000000e+00, 2.4538881e-24, ..., 1.0000000e+00,\n",
       "        0.0000000e+00, 0.0000000e+00],\n",
       "       [0.0000000e+00, 0.0000000e+00, 0.0000000e+00, ..., 0.0000000e+00,\n",
       "        0.0000000e+00, 0.0000000e+00],\n",
       "       [1.0000000e+00, 0.0000000e+00, 0.0000000e+00, ..., 0.0000000e+00,\n",
       "        0.0000000e+00, 0.0000000e+00],\n",
       "       ...,\n",
       "       [0.0000000e+00, 0.0000000e+00, 0.0000000e+00, ..., 0.0000000e+00,\n",
       "        1.0000000e+00, 0.0000000e+00],\n",
       "       [0.0000000e+00, 0.0000000e+00, 1.0000000e+00, ..., 0.0000000e+00,\n",
       "        0.0000000e+00, 0.0000000e+00],\n",
       "       [0.0000000e+00, 0.0000000e+00, 1.0000000e+00, ..., 0.0000000e+00,\n",
       "        0.0000000e+00, 0.0000000e+00]], dtype=float32)"
      ]
     },
     "execution_count": 42,
     "metadata": {},
     "output_type": "execute_result"
    }
   ],
   "source": [
    "type(preds)\n",
    "preds.shape\n",
    "preds"
   ]
  },
  {
   "cell_type": "code",
   "execution_count": 43,
   "id": "262223ae",
   "metadata": {},
   "outputs": [],
   "source": [
    "np.set_printoptions(suppress=True)"
   ]
  },
  {
   "cell_type": "code",
   "execution_count": 44,
   "id": "a2f4e477",
   "metadata": {},
   "outputs": [
    {
     "data": {
      "text/plain": [
       "array([0., 0., 0., 0., 1., 0., 0., 0.], dtype=float32)"
      ]
     },
     "execution_count": 44,
     "metadata": {},
     "output_type": "execute_result"
    }
   ],
   "source": [
    "preds[1]"
   ]
  },
  {
   "cell_type": "code",
   "execution_count": 45,
   "id": "5c8defd6",
   "metadata": {},
   "outputs": [],
   "source": [
    "# preds_1 = np.array([np.argmax(preds[i, :]) for i in range(preds.shape[0])])"
   ]
  },
  {
   "cell_type": "code",
   "execution_count": 46,
   "id": "9d47fbdc",
   "metadata": {},
   "outputs": [],
   "source": [
    "# preds"
   ]
  },
  {
   "cell_type": "code",
   "execution_count": 47,
   "id": "79cde970",
   "metadata": {},
   "outputs": [
    {
     "data": {
      "text/plain": [
       "array([[0., 0., 0., ..., 1., 0., 0.],\n",
       "       [0., 0., 0., ..., 0., 0., 0.],\n",
       "       [1., 0., 0., ..., 0., 0., 0.],\n",
       "       ...,\n",
       "       [0., 0., 0., ..., 0., 1., 0.],\n",
       "       [0., 0., 1., ..., 0., 0., 0.],\n",
       "       [0., 0., 1., ..., 0., 0., 0.]], dtype=float32)"
      ]
     },
     "execution_count": 47,
     "metadata": {},
     "output_type": "execute_result"
    }
   ],
   "source": [
    "z_pred=np.zeros_like(preds)\n",
    "for i in range(preds.shape[0]):\n",
    "    j=np.argmax(preds[i,:])\n",
    "    z_pred[i,j]=1\n",
    "z_pred"
   ]
  },
  {
   "cell_type": "code",
   "execution_count": 48,
   "id": "9bcd3e77",
   "metadata": {},
   "outputs": [],
   "source": [
    "final_labels=[]\n",
    "for i in range(preds.shape[0]):\n",
    "    final_labels.append(np.argmax(preds[i]))"
   ]
  },
  {
   "cell_type": "code",
   "execution_count": 49,
   "id": "069b2e90",
   "metadata": {},
   "outputs": [],
   "source": [
    "final_labels=np.array(final_labels)"
   ]
  },
  {
   "cell_type": "code",
   "execution_count": 118,
   "id": "8da7c2ac",
   "metadata": {},
   "outputs": [
    {
     "data": {
      "text/plain": [
       "3"
      ]
     },
     "execution_count": 118,
     "metadata": {},
     "output_type": "execute_result"
    }
   ],
   "source": [
    "final_labels[0]"
   ]
  },
  {
   "cell_type": "code",
   "execution_count": 88,
   "id": "7cedf794",
   "metadata": {},
   "outputs": [],
   "source": [
    "pp=np.unique(final_labels)"
   ]
  },
  {
   "cell_type": "code",
   "execution_count": 87,
   "id": "21deff13",
   "metadata": {},
   "outputs": [
    {
     "data": {
      "text/plain": [
       "Index(['antelope_duiker', 'bird', 'blank', 'civet_genet', 'hog', 'leopard',\n",
       "       'monkey_prosimian', 'rodent'],\n",
       "      dtype='object')"
      ]
     },
     "execution_count": 87,
     "metadata": {},
     "output_type": "execute_result"
    }
   ],
   "source": [
    "classes"
   ]
  },
  {
   "cell_type": "code",
   "execution_count": 90,
   "id": "c54af8c0",
   "metadata": {},
   "outputs": [
    {
     "data": {
      "text/plain": [
       "{0: 'antelope_duiker',\n",
       " 1: 'bird',\n",
       " 2: 'blank',\n",
       " 3: 'civet_genet',\n",
       " 4: 'hog',\n",
       " 5: 'leopard',\n",
       " 6: 'monkey_prosimian',\n",
       " 7: 'rodent'}"
      ]
     },
     "execution_count": 90,
     "metadata": {},
     "output_type": "execute_result"
    }
   ],
   "source": [
    "c_l=dict()\n",
    "for i in pp:\n",
    "    c_l[i]=classes[i]\n",
    "c_l"
   ]
  },
  {
   "cell_type": "code",
   "execution_count": 91,
   "id": "4c64acfe",
   "metadata": {},
   "outputs": [],
   "source": [
    "pp=np.unique(final_labels,return_counts=True)"
   ]
  },
  {
   "cell_type": "code",
   "execution_count": 93,
   "id": "37ea98d7",
   "metadata": {},
   "outputs": [
    {
     "data": {
      "text/plain": [
       "array([0, 1, 2, 3, 4, 5, 6, 7], dtype=int64)"
      ]
     },
     "execution_count": 93,
     "metadata": {},
     "output_type": "execute_result"
    }
   ],
   "source": [
    "pp[0]"
   ]
  },
  {
   "cell_type": "code",
   "execution_count": 94,
   "id": "0701c406",
   "metadata": {},
   "outputs": [
    {
     "ename": "TypeError",
     "evalue": "tuple indices must be integers or slices, not tuple",
     "output_type": "error",
     "traceback": [
      "\u001b[1;31m---------------------------------------------------------------------------\u001b[0m",
      "\u001b[1;31mTypeError\u001b[0m                                 Traceback (most recent call last)",
      "Cell \u001b[1;32mIn [94], line 2\u001b[0m\n\u001b[0;32m      1\u001b[0m \u001b[38;5;28;01mfor\u001b[39;00m i \u001b[38;5;129;01min\u001b[39;00m \u001b[38;5;28mrange\u001b[39m(pp[\u001b[38;5;241m0\u001b[39m]\u001b[38;5;241m.\u001b[39mshape[\u001b[38;5;241m0\u001b[39m]):\n\u001b[1;32m----> 2\u001b[0m     pp[\u001b[38;5;241m0\u001b[39m][i]\u001b[38;5;241m=\u001b[39mnp\u001b[38;5;241m.\u001b[39mwhere(\u001b[43mpp\u001b[49m\u001b[43m[\u001b[49m\u001b[38;5;241;43m0\u001b[39;49m\u001b[43m,\u001b[49m\u001b[43mi\u001b[49m\u001b[43m]\u001b[49m \u001b[38;5;129;01min\u001b[39;00m c_l\u001b[38;5;241m.\u001b[39mkeys(),\n\u001b[0;32m      3\u001b[0m                       c_l[i],\n\u001b[0;32m      4\u001b[0m                       \u001b[38;5;241m0\u001b[39m)\n",
      "\u001b[1;31mTypeError\u001b[0m: tuple indices must be integers or slices, not tuple"
     ]
    }
   ],
   "source": [
    "for i in range(pp[0].shape[0]):\n",
    "    pp[0][i]=np.where(pp[0,i] in c_l.keys(),\n",
    "                      c_l[i],\n",
    "                      0)"
   ]
  },
  {
   "cell_type": "code",
   "execution_count": 51,
   "id": "f8b14382",
   "metadata": {
    "scrolled": true
   },
   "outputs": [
    {
     "data": {
      "text/plain": [
       "array([0.04823279, 0.18918532, 0.04491418, 0.19958797, 0.10611783,\n",
       "       0.13291451, 0.16640995, 0.11263745])"
      ]
     },
     "execution_count": 51,
     "metadata": {},
     "output_type": "execute_result"
    }
   ],
   "source": [
    "sub=pd.read_csv('submission_format.csv')\n",
    "sub=sub.iloc[:,1:].to_numpy()\n",
    "sub[0]"
   ]
  },
  {
   "cell_type": "code",
   "execution_count": 52,
   "id": "69d65dee",
   "metadata": {},
   "outputs": [
    {
     "data": {
      "text/plain": [
       "array([[0., 0., 0., ..., 0., 0., 0.],\n",
       "       [0., 0., 0., ..., 0., 1., 0.],\n",
       "       [0., 0., 1., ..., 0., 0., 0.],\n",
       "       ...,\n",
       "       [0., 0., 1., ..., 0., 0., 0.],\n",
       "       [0., 0., 1., ..., 0., 0., 0.],\n",
       "       [0., 0., 0., ..., 0., 1., 0.]])"
      ]
     },
     "execution_count": 52,
     "metadata": {},
     "output_type": "execute_result"
    }
   ],
   "source": [
    "soc=np.zeros_like(sub)\n",
    "for i in range(sub.shape[0]):\n",
    "    j=np.argmax(sub[i,:])\n",
    "    soc[i,j]=1\n",
    "soc\n",
    "# k=np.argmax(sub[0,:])\n",
    "# k"
   ]
  },
  {
   "cell_type": "code",
   "execution_count": 53,
   "id": "7c245267",
   "metadata": {},
   "outputs": [
    {
     "ename": "ModuleNotFoundError",
     "evalue": "No module named 'sklearn'",
     "output_type": "error",
     "traceback": [
      "\u001b[1;31m---------------------------------------------------------------------------\u001b[0m",
      "\u001b[1;31mModuleNotFoundError\u001b[0m                       Traceback (most recent call last)",
      "Cell \u001b[1;32mIn [53], line 1\u001b[0m\n\u001b[1;32m----> 1\u001b[0m \u001b[38;5;28;01mfrom\u001b[39;00m \u001b[38;5;21;01msklearn\u001b[39;00m\u001b[38;5;21;01m.\u001b[39;00m\u001b[38;5;21;01mmetrics\u001b[39;00m \u001b[38;5;28;01mimport\u001b[39;00m accuracy_score\n\u001b[0;32m      2\u001b[0m accuracy_score(z_pred, soc)\n",
      "\u001b[1;31mModuleNotFoundError\u001b[0m: No module named 'sklearn'"
     ]
    }
   ],
   "source": [
    "from sklearn.metrics import accuracy_score\n",
    "accuracy_score(z_pred, soc)"
   ]
  },
  {
   "cell_type": "code",
   "execution_count": 54,
   "id": "5613af09",
   "metadata": {},
   "outputs": [
    {
     "data": {
      "text/plain": [
       "array([[0., 0., 0., ..., 1., 0., 0.],\n",
       "       [0., 0., 0., ..., 0., 0., 0.],\n",
       "       [1., 0., 0., ..., 0., 0., 0.],\n",
       "       ...,\n",
       "       [0., 0., 0., ..., 0., 1., 0.],\n",
       "       [0., 0., 1., ..., 0., 0., 0.],\n",
       "       [0., 0., 1., ..., 0., 0., 0.]], dtype=float32)"
      ]
     },
     "execution_count": 54,
     "metadata": {},
     "output_type": "execute_result"
    }
   ],
   "source": [
    "z_pred"
   ]
  },
  {
   "cell_type": "code",
   "execution_count": 55,
   "id": "2ca82150",
   "metadata": {},
   "outputs": [
    {
     "data": {
      "text/plain": [
       "array([[0., 0., 0., ..., 0., 0., 0.],\n",
       "       [0., 0., 0., ..., 0., 1., 0.],\n",
       "       [0., 0., 1., ..., 0., 0., 0.],\n",
       "       ...,\n",
       "       [0., 0., 1., ..., 0., 0., 0.],\n",
       "       [0., 0., 1., ..., 0., 0., 0.],\n",
       "       [0., 0., 0., ..., 0., 1., 0.]])"
      ]
     },
     "execution_count": 55,
     "metadata": {},
     "output_type": "execute_result"
    }
   ],
   "source": [
    "soc"
   ]
  },
  {
   "cell_type": "code",
   "execution_count": 56,
   "id": "17c50ab8",
   "metadata": {},
   "outputs": [],
   "source": [
    "np.savetxt('1',z_pred,delimiter=',')"
   ]
  },
  {
   "cell_type": "code",
   "execution_count": null,
   "id": "2e56834b",
   "metadata": {},
   "outputs": [],
   "source": [
    "np."
   ]
  }
 ],
 "metadata": {
  "kernelspec": {
   "display_name": "tensor",
   "language": "python",
   "name": "tensor"
  },
  "language_info": {
   "codemirror_mode": {
    "name": "ipython",
    "version": 3
   },
   "file_extension": ".py",
   "mimetype": "text/x-python",
   "name": "python",
   "nbconvert_exporter": "python",
   "pygments_lexer": "ipython3",
   "version": "3.10.0"
  }
 },
 "nbformat": 4,
 "nbformat_minor": 5
}
