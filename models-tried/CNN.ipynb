{
 "cells": [
  {
   "cell_type": "markdown",
   "id": "06625283",
   "metadata": {},
   "source": [
    "# Load dependencies"
   ]
  },
  {
   "cell_type": "code",
   "execution_count": null,
   "id": "6ea5f683",
   "metadata": {},
   "outputs": [],
   "source": [
    "import tensorflow as tf\n",
    "import os\n",
    "import pandas as pd\n",
    "import numpy as np"
   ]
  },
  {
   "cell_type": "code",
   "execution_count": null,
   "id": "481575d3",
   "metadata": {},
   "outputs": [],
   "source": [
    "gpus=tf.config.experimental.list_physical_devices(\"GPU\")\n",
    "for gpu in gpus:\n",
    "    tf.config.experimental.set_memory_growth(gpu,True)"
   ]
  },
  {
   "cell_type": "code",
   "execution_count": null,
   "id": "3b514d23",
   "metadata": {},
   "outputs": [],
   "source": [
    "cd D:/Course/DrivenData Project"
   ]
  },
  {
   "cell_type": "markdown",
   "id": "e489e9ee",
   "metadata": {},
   "source": [
    "# Import Files\n"
   ]
  },
  {
   "cell_type": "code",
   "execution_count": null,
   "id": "b6788f72",
   "metadata": {},
   "outputs": [],
   "source": [
    "data_dir='Dataset'\n",
    "t=os.path.join(data_dir,'train_features')\n",
    "os.listdir(os.path.join(data_dir,'train_features'))"
   ]
  },
  {
   "cell_type": "code",
   "execution_count": null,
   "id": "9a4a8bdc",
   "metadata": {},
   "outputs": [],
   "source": [
    "df=pd.read_csv(os.path.join(data_dir,'train_features.csv'))\n",
    "df"
   ]
  },
  {
   "cell_type": "code",
   "execution_count": null,
   "id": "08e214a2",
   "metadata": {},
   "outputs": [],
   "source": [
    "train_labels = pd.read_csv(os.path.join(data_dir,'train_labels.csv'))\n",
    "classes = train_labels.columns[1:]\n",
    "train_labels = train_labels.iloc[:, 1:]\n",
    "train_y = np.array([np.argmax(train_labels.iloc[i, :]) for i in range(train_labels.shape[0])])\n",
    "l=list(train_y)"
   ]
  },
  {
   "cell_type": "code",
   "execution_count": null,
   "id": "1caf17bc",
   "metadata": {},
   "outputs": [],
   "source": [
    "img_filepath=df['filepath']\n",
    "batch_size=32\n",
    "img_filepath.shape"
   ]
  },
  {
   "cell_type": "markdown",
   "id": "8d8cd4bf",
   "metadata": {},
   "source": [
    "Map Image to its label"
   ]
  },
  {
   "cell_type": "code",
   "execution_count": null,
   "id": "2705303e",
   "metadata": {},
   "outputs": [],
   "source": [
    "from tensorflow import keras\n",
    "from tensorflow.keras.utils import load_img,img_to_array,array_to_img,to_categorical\n",
    "class MyTrainingData(keras.utils.Sequence):\n",
    "    def __init__(self, file, labels, batchSize):\n",
    "        self.file = file\n",
    "        self.label = labels\n",
    "        self.batchSize = batchSize\n",
    "        self.n_batches = int(len(self.file) / self.batchSize)\n",
    "\n",
    "\n",
    "\n",
    "    def on_epoch_end(self):  # it is called after every epoch\n",
    "        self.file, self.label = shuffle(self.file, self.label)\n",
    "        for i in range(50):\n",
    "            print(self.file[i], self.label[i], 'file-label')\n",
    "\n",
    "\n",
    "    def __len__(self):\n",
    "        return self.n_batches\n",
    "    \n",
    "\n",
    "    # called after every batch to get new batch or new 32 images and labels\n",
    "    def __getitem__(self, idx):\n",
    "        # this method calls by fit method with idx ranging from 0 to len(training_exmaples) / batch_size =\n",
    "        batchX = self.file[idx*self.batchSize: (idx+1)*self.batchSize]\n",
    "        batchY = self.label[idx*self.batchSize: (idx+1)*self.batchSize]\n",
    "        imgFiles = [tf.keras.utils.load_img(name, target_size=(224, 224, 3)) for name in batchX]   #loading 32 images\n",
    "        imgFiles = [tf.keras.utils.img_to_array(img) for img in imgFiles]   #preprocessing\n",
    "        imgFiles = [img / 255 for img in imgFiles] \n",
    "        batchY = to_categorical(batchY, 8)    # 4 represent number of classes (4 in that case)\n",
    "        return np.array(imgFiles), np.array(batchY)\n"
   ]
  },
  {
   "cell_type": "code",
   "execution_count": null,
   "id": "7b224c9c",
   "metadata": {},
   "outputs": [],
   "source": [
    "cd D:/Course/DrivenData Project/Dataset"
   ]
  },
  {
   "cell_type": "code",
   "execution_count": null,
   "id": "914cfeac",
   "metadata": {},
   "outputs": [],
   "source": [
    "data=MyTrainingData(img_filepath,l,batch_size)"
   ]
  },
  {
   "cell_type": "code",
   "execution_count": null,
   "id": "5914fc9f",
   "metadata": {},
   "outputs": [],
   "source": [
    "print(data.shape)\n",
    "len(data)"
   ]
  },
  {
   "cell_type": "markdown",
   "id": "3b584dce",
   "metadata": {},
   "source": [
    "# Model"
   ]
  },
  {
   "cell_type": "code",
   "execution_count": null,
   "id": "b62c7cd2",
   "metadata": {},
   "outputs": [],
   "source": [
    "from keras.models import Sequential\n",
    "from keras.layers import Conv2D, MaxPooling2D, MaxPool2D\n",
    "from keras.layers import Activation, Dropout, Flatten, Dense\n",
    "from keras.regularizers import l1, l2, l1_l2"
   ]
  },
  {
   "cell_type": "code",
   "execution_count": null,
   "id": "b98b3057",
   "metadata": {},
   "outputs": [],
   "source": [
    "model=Sequential()\n",
    "model.add(Conv2D(60,(3,3),input_shape=(224,224,3)))\n",
    "model.add(Activation('relu'))\n",
    "model.add(MaxPooling2D(pool_size=(2,2)))\n",
    "\n",
    "model.add(Conv2D(60,(3,3)))\n",
    "model.add(Activation('relu'))\n",
    "model.add(MaxPooling2D(pool_size=(2,2)))\n",
    "\n",
    "model.add(Flatten())\n",
    "model.add(Dense(100,activation='relu',activity_regularizer=l1(0.001)))\n",
    "model.add(Dense(8))\n",
    "model.add(Activation('softmax'))"
   ]
  },
  {
   "cell_type": "code",
   "execution_count": null,
   "id": "556f97cc",
   "metadata": {},
   "outputs": [],
   "source": [
    "model.compile(loss='binary_crossentropy',optimizer='Adam' ,metrics=['accuracy'])"
   ]
  },
  {
   "cell_type": "code",
   "execution_count": null,
   "id": "8e1dad25",
   "metadata": {},
   "outputs": [],
   "source": [
    "model.fit(data,epochs=15,verbose=1)"
   ]
  },
  {
   "cell_type": "markdown",
   "id": "19de1a01",
   "metadata": {},
   "source": [
    "Evaluation\n"
   ]
  },
  {
   "cell_type": "code",
   "execution_count": null,
   "id": "7d0575a9",
   "metadata": {},
   "outputs": [],
   "source": []
  }
 ],
 "metadata": {
  "kernelspec": {
   "display_name": "Python 3 (ipykernel)",
   "language": "python",
   "name": "python3"
  },
  "language_info": {
   "codemirror_mode": {
    "name": "ipython",
    "version": 3
   },
   "file_extension": ".py",
   "mimetype": "text/x-python",
   "name": "python",
   "nbconvert_exporter": "python",
   "pygments_lexer": "ipython3",
   "version": "3.10.0"
  }
 },
 "nbformat": 4,
 "nbformat_minor": 5
}
