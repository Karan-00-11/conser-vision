{
 "cells": [
  {
   "cell_type": "code",
   "execution_count": null,
   "metadata": {},
   "outputs": [],
   "source": [
    "import tensorflow as tf\n",
    "print(tf.__version__)"
   ]
  },
  {
   "cell_type": "code",
   "execution_count": 1,
   "metadata": {},
   "outputs": [],
   "source": [
    "root_path = \"/Users/devasenan/Documents/conser-vision/data/\"\n",
    "# root_path = \"C:/Users/devas/Documents/projects/conser-vision/data/\""
   ]
  },
  {
   "cell_type": "code",
   "execution_count": 2,
   "metadata": {},
   "outputs": [],
   "source": [
    "import pickle\n",
    "\n",
    "with open(root_path+'pickles/train_images.pickle', 'rb') as train_imgs:\n",
    "    train_images = pickle.load(train_imgs)\n",
    "    train_imgs.close()\n",
    "\n",
    "with open(root_path+'pickles/train_sites.pickle', 'rb') as train_st:\n",
    "    train_sites = pickle.load(train_st)\n",
    "    train_st.close()\n",
    "\n",
    "with open(root_path+'pickles/train_labels.pickle', 'rb') as train_lbls:\n",
    "    train_y = pickle.load(train_lbls)\n",
    "    train_lbls.close()\n",
    "\n",
    "with open(root_path+'pickles/test_images.pickle', 'rb') as train_imgs:\n",
    "    test_images = pickle.load(train_imgs)\n",
    "    train_imgs.close()\n",
    "\n",
    "with open(root_path+'pickles/test_sites.pickle', 'rb') as test_st:\n",
    "    test_sites = pickle.load(test_st)\n",
    "    test_st.close()\n",
    "\n",
    "with open(root_path+'pickles/test_labels.pickle', 'rb') as test_lbls:\n",
    "    test_y = pickle.load(test_lbls)\n",
    "    test_lbls.close()"
   ]
  }
 ],
 "metadata": {
  "kernelspec": {
   "display_name": "tf",
   "language": "python",
   "name": "tf"
  },
  "language_info": {
   "codemirror_mode": {
    "name": "ipython",
    "version": 3
   },
   "file_extension": ".py",
   "mimetype": "text/x-python",
   "name": "python",
   "nbconvert_exporter": "python",
   "pygments_lexer": "ipython3",
   "version": "3.9.7"
  },
  "vscode": {
   "interpreter": {
    "hash": "66ec99974a7f573babcaf6b497604ee91debe00853c8a7a9f5b2a617b000066c"
   }
  }
 },
 "nbformat": 4,
 "nbformat_minor": 2
}
