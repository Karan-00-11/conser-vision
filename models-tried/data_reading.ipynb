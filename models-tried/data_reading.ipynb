{
 "cells": [
  {
   "cell_type": "code",
   "execution_count": 1,
   "metadata": {},
   "outputs": [],
   "source": [
    "import matplotlib.pyplot as plt\n",
    "import numpy as np\n",
    "import pandas as pd\n",
    "import cv2"
   ]
  },
  {
   "cell_type": "code",
   "execution_count": 2,
   "metadata": {},
   "outputs": [],
   "source": [
    "root_path = \"/Users/devasenan/Documents/conser-vision/data/\"\n",
    "# root_path = \"C:/Users/devas/Documents/projects/conser-vision/data/\""
   ]
  },
  {
   "cell_type": "code",
   "execution_count": 3,
   "metadata": {},
   "outputs": [],
   "source": [
    "size = 224"
   ]
  },
  {
   "cell_type": "markdown",
   "metadata": {},
   "source": [
    "Reading Train data "
   ]
  },
  {
   "cell_type": "code",
   "execution_count": 4,
   "metadata": {},
   "outputs": [
    {
     "data": {
      "text/plain": [
       "(16488, 3)"
      ]
     },
     "execution_count": 4,
     "metadata": {},
     "output_type": "execute_result"
    }
   ],
   "source": [
    "train_features = pd.read_csv(root_path+\"train_features.csv\")\n",
    "train_features.shape"
   ]
  },
  {
   "cell_type": "code",
   "execution_count": 5,
   "metadata": {},
   "outputs": [],
   "source": [
    "train_images = []\n",
    "train_sites = []\n",
    "for i in range(train_features.shape[0]):\n",
    "    img=cv2.imread(root_path+train_features.iloc[i, 1])\n",
    "    img = cv2.resize(img, (size, size))\n",
    "    train_images.append(img)\n",
    "    train_sites.append(train_features.iloc[i, 2])\n",
    "train_images = np.array(train_images)\n",
    "train_sites = np.array(train_sites)"
   ]
  },
  {
   "cell_type": "code",
   "execution_count": 7,
   "metadata": {},
   "outputs": [
    {
     "data": {
      "text/plain": [
       "(16488, 224, 224, 3)"
      ]
     },
     "execution_count": 7,
     "metadata": {},
     "output_type": "execute_result"
    }
   ],
   "source": [
    "train_images.shape"
   ]
  },
  {
   "cell_type": "code",
   "execution_count": 8,
   "metadata": {},
   "outputs": [],
   "source": [
    "train_labels = pd.read_csv(root_path+'train_labels.csv')\n",
    "classes = train_labels.columns[1:]\n",
    "\n",
    "train_labels = train_labels.iloc[:, 1:]"
   ]
  },
  {
   "cell_type": "code",
   "execution_count": 9,
   "metadata": {},
   "outputs": [
    {
     "data": {
      "text/html": [
       "<div>\n",
       "<style scoped>\n",
       "    .dataframe tbody tr th:only-of-type {\n",
       "        vertical-align: middle;\n",
       "    }\n",
       "\n",
       "    .dataframe tbody tr th {\n",
       "        vertical-align: top;\n",
       "    }\n",
       "\n",
       "    .dataframe thead th {\n",
       "        text-align: right;\n",
       "    }\n",
       "</style>\n",
       "<table border=\"1\" class=\"dataframe\">\n",
       "  <thead>\n",
       "    <tr style=\"text-align: right;\">\n",
       "      <th></th>\n",
       "      <th>antelope_duiker</th>\n",
       "      <th>bird</th>\n",
       "      <th>blank</th>\n",
       "      <th>civet_genet</th>\n",
       "      <th>hog</th>\n",
       "      <th>leopard</th>\n",
       "      <th>monkey_prosimian</th>\n",
       "      <th>rodent</th>\n",
       "    </tr>\n",
       "  </thead>\n",
       "  <tbody>\n",
       "    <tr>\n",
       "      <th>0</th>\n",
       "      <td>0.0</td>\n",
       "      <td>1.0</td>\n",
       "      <td>0.0</td>\n",
       "      <td>0.0</td>\n",
       "      <td>0.0</td>\n",
       "      <td>0.0</td>\n",
       "      <td>0.0</td>\n",
       "      <td>0.0</td>\n",
       "    </tr>\n",
       "    <tr>\n",
       "      <th>1</th>\n",
       "      <td>0.0</td>\n",
       "      <td>0.0</td>\n",
       "      <td>0.0</td>\n",
       "      <td>0.0</td>\n",
       "      <td>0.0</td>\n",
       "      <td>0.0</td>\n",
       "      <td>1.0</td>\n",
       "      <td>0.0</td>\n",
       "    </tr>\n",
       "    <tr>\n",
       "      <th>2</th>\n",
       "      <td>0.0</td>\n",
       "      <td>1.0</td>\n",
       "      <td>0.0</td>\n",
       "      <td>0.0</td>\n",
       "      <td>0.0</td>\n",
       "      <td>0.0</td>\n",
       "      <td>0.0</td>\n",
       "      <td>0.0</td>\n",
       "    </tr>\n",
       "    <tr>\n",
       "      <th>3</th>\n",
       "      <td>0.0</td>\n",
       "      <td>0.0</td>\n",
       "      <td>0.0</td>\n",
       "      <td>0.0</td>\n",
       "      <td>0.0</td>\n",
       "      <td>0.0</td>\n",
       "      <td>1.0</td>\n",
       "      <td>0.0</td>\n",
       "    </tr>\n",
       "    <tr>\n",
       "      <th>4</th>\n",
       "      <td>0.0</td>\n",
       "      <td>0.0</td>\n",
       "      <td>0.0</td>\n",
       "      <td>0.0</td>\n",
       "      <td>0.0</td>\n",
       "      <td>1.0</td>\n",
       "      <td>0.0</td>\n",
       "      <td>0.0</td>\n",
       "    </tr>\n",
       "    <tr>\n",
       "      <th>...</th>\n",
       "      <td>...</td>\n",
       "      <td>...</td>\n",
       "      <td>...</td>\n",
       "      <td>...</td>\n",
       "      <td>...</td>\n",
       "      <td>...</td>\n",
       "      <td>...</td>\n",
       "      <td>...</td>\n",
       "    </tr>\n",
       "    <tr>\n",
       "      <th>16483</th>\n",
       "      <td>0.0</td>\n",
       "      <td>0.0</td>\n",
       "      <td>1.0</td>\n",
       "      <td>0.0</td>\n",
       "      <td>0.0</td>\n",
       "      <td>0.0</td>\n",
       "      <td>0.0</td>\n",
       "      <td>0.0</td>\n",
       "    </tr>\n",
       "    <tr>\n",
       "      <th>16484</th>\n",
       "      <td>0.0</td>\n",
       "      <td>0.0</td>\n",
       "      <td>0.0</td>\n",
       "      <td>0.0</td>\n",
       "      <td>0.0</td>\n",
       "      <td>1.0</td>\n",
       "      <td>0.0</td>\n",
       "      <td>0.0</td>\n",
       "    </tr>\n",
       "    <tr>\n",
       "      <th>16485</th>\n",
       "      <td>0.0</td>\n",
       "      <td>0.0</td>\n",
       "      <td>0.0</td>\n",
       "      <td>1.0</td>\n",
       "      <td>0.0</td>\n",
       "      <td>0.0</td>\n",
       "      <td>0.0</td>\n",
       "      <td>0.0</td>\n",
       "    </tr>\n",
       "    <tr>\n",
       "      <th>16486</th>\n",
       "      <td>0.0</td>\n",
       "      <td>1.0</td>\n",
       "      <td>0.0</td>\n",
       "      <td>0.0</td>\n",
       "      <td>0.0</td>\n",
       "      <td>0.0</td>\n",
       "      <td>0.0</td>\n",
       "      <td>0.0</td>\n",
       "    </tr>\n",
       "    <tr>\n",
       "      <th>16487</th>\n",
       "      <td>0.0</td>\n",
       "      <td>0.0</td>\n",
       "      <td>0.0</td>\n",
       "      <td>1.0</td>\n",
       "      <td>0.0</td>\n",
       "      <td>0.0</td>\n",
       "      <td>0.0</td>\n",
       "      <td>0.0</td>\n",
       "    </tr>\n",
       "  </tbody>\n",
       "</table>\n",
       "<p>16488 rows × 8 columns</p>\n",
       "</div>"
      ],
      "text/plain": [
       "       antelope_duiker  bird  blank  civet_genet  hog  leopard  \\\n",
       "0                  0.0   1.0    0.0          0.0  0.0      0.0   \n",
       "1                  0.0   0.0    0.0          0.0  0.0      0.0   \n",
       "2                  0.0   1.0    0.0          0.0  0.0      0.0   \n",
       "3                  0.0   0.0    0.0          0.0  0.0      0.0   \n",
       "4                  0.0   0.0    0.0          0.0  0.0      1.0   \n",
       "...                ...   ...    ...          ...  ...      ...   \n",
       "16483              0.0   0.0    1.0          0.0  0.0      0.0   \n",
       "16484              0.0   0.0    0.0          0.0  0.0      1.0   \n",
       "16485              0.0   0.0    0.0          1.0  0.0      0.0   \n",
       "16486              0.0   1.0    0.0          0.0  0.0      0.0   \n",
       "16487              0.0   0.0    0.0          1.0  0.0      0.0   \n",
       "\n",
       "       monkey_prosimian  rodent  \n",
       "0                   0.0     0.0  \n",
       "1                   1.0     0.0  \n",
       "2                   0.0     0.0  \n",
       "3                   1.0     0.0  \n",
       "4                   0.0     0.0  \n",
       "...                 ...     ...  \n",
       "16483               0.0     0.0  \n",
       "16484               0.0     0.0  \n",
       "16485               0.0     0.0  \n",
       "16486               0.0     0.0  \n",
       "16487               0.0     0.0  \n",
       "\n",
       "[16488 rows x 8 columns]"
      ]
     },
     "execution_count": 9,
     "metadata": {},
     "output_type": "execute_result"
    }
   ],
   "source": [
    "train_labels"
   ]
  },
  {
   "cell_type": "markdown",
   "metadata": {},
   "source": [
    "Reading Test data"
   ]
  },
  {
   "cell_type": "code",
   "execution_count": 10,
   "metadata": {},
   "outputs": [
    {
     "data": {
      "text/plain": [
       "(4464, 3)"
      ]
     },
     "execution_count": 10,
     "metadata": {},
     "output_type": "execute_result"
    }
   ],
   "source": [
    "test_features = pd.read_csv(root_path+\"test_features.csv\")\n",
    "test_features.shape"
   ]
  },
  {
   "cell_type": "code",
   "execution_count": 11,
   "metadata": {},
   "outputs": [],
   "source": [
    "test_images = []\n",
    "test_sites = []\n",
    "for i in range(test_features.shape[0]):\n",
    "    img = cv2.imread(root_path+test_features.iloc[i, 1])\n",
    "    img = cv2.resize(img, (size, size))\n",
    "    test_images.append(img)\n",
    "    test_sites.append(test_features.iloc[i, 2])\n",
    "test_images = np.array(test_images)\n",
    "test_sites = np.array(test_sites)"
   ]
  },
  {
   "cell_type": "code",
   "execution_count": 12,
   "metadata": {},
   "outputs": [
    {
     "data": {
      "text/plain": [
       "(4464, 224, 224, 3)"
      ]
     },
     "execution_count": 12,
     "metadata": {},
     "output_type": "execute_result"
    }
   ],
   "source": [
    "test_images.shape"
   ]
  },
  {
   "cell_type": "code",
   "execution_count": 13,
   "metadata": {},
   "outputs": [],
   "source": [
    "test_labels = pd.read_csv(root_path+'submission_format.csv')\n",
    "test_labels = test_labels.iloc[:, 1:]"
   ]
  },
  {
   "cell_type": "code",
   "execution_count": 14,
   "metadata": {},
   "outputs": [
    {
     "data": {
      "text/html": [
       "<div>\n",
       "<style scoped>\n",
       "    .dataframe tbody tr th:only-of-type {\n",
       "        vertical-align: middle;\n",
       "    }\n",
       "\n",
       "    .dataframe tbody tr th {\n",
       "        vertical-align: top;\n",
       "    }\n",
       "\n",
       "    .dataframe thead th {\n",
       "        text-align: right;\n",
       "    }\n",
       "</style>\n",
       "<table border=\"1\" class=\"dataframe\">\n",
       "  <thead>\n",
       "    <tr style=\"text-align: right;\">\n",
       "      <th></th>\n",
       "      <th>antelope_duiker</th>\n",
       "      <th>bird</th>\n",
       "      <th>blank</th>\n",
       "      <th>civet_genet</th>\n",
       "      <th>hog</th>\n",
       "      <th>leopard</th>\n",
       "      <th>monkey_prosimian</th>\n",
       "      <th>rodent</th>\n",
       "    </tr>\n",
       "  </thead>\n",
       "  <tbody>\n",
       "    <tr>\n",
       "      <th>0</th>\n",
       "      <td>0.048233</td>\n",
       "      <td>0.189185</td>\n",
       "      <td>0.044914</td>\n",
       "      <td>0.199588</td>\n",
       "      <td>0.106118</td>\n",
       "      <td>0.132915</td>\n",
       "      <td>0.166410</td>\n",
       "      <td>0.112637</td>\n",
       "    </tr>\n",
       "    <tr>\n",
       "      <th>1</th>\n",
       "      <td>0.097078</td>\n",
       "      <td>0.061400</td>\n",
       "      <td>0.026409</td>\n",
       "      <td>0.241530</td>\n",
       "      <td>0.144344</td>\n",
       "      <td>0.051780</td>\n",
       "      <td>0.287811</td>\n",
       "      <td>0.089648</td>\n",
       "    </tr>\n",
       "    <tr>\n",
       "      <th>2</th>\n",
       "      <td>0.124658</td>\n",
       "      <td>0.089101</td>\n",
       "      <td>0.189225</td>\n",
       "      <td>0.174494</td>\n",
       "      <td>0.180540</td>\n",
       "      <td>0.079995</td>\n",
       "      <td>0.085672</td>\n",
       "      <td>0.076314</td>\n",
       "    </tr>\n",
       "    <tr>\n",
       "      <th>3</th>\n",
       "      <td>0.109966</td>\n",
       "      <td>0.048397</td>\n",
       "      <td>0.055598</td>\n",
       "      <td>0.323600</td>\n",
       "      <td>0.322356</td>\n",
       "      <td>0.063252</td>\n",
       "      <td>0.008160</td>\n",
       "      <td>0.068671</td>\n",
       "    </tr>\n",
       "    <tr>\n",
       "      <th>4</th>\n",
       "      <td>0.165742</td>\n",
       "      <td>0.184610</td>\n",
       "      <td>0.005431</td>\n",
       "      <td>0.136806</td>\n",
       "      <td>0.000389</td>\n",
       "      <td>0.122078</td>\n",
       "      <td>0.151521</td>\n",
       "      <td>0.233423</td>\n",
       "    </tr>\n",
       "    <tr>\n",
       "      <th>...</th>\n",
       "      <td>...</td>\n",
       "      <td>...</td>\n",
       "      <td>...</td>\n",
       "      <td>...</td>\n",
       "      <td>...</td>\n",
       "      <td>...</td>\n",
       "      <td>...</td>\n",
       "      <td>...</td>\n",
       "    </tr>\n",
       "    <tr>\n",
       "      <th>4459</th>\n",
       "      <td>0.143675</td>\n",
       "      <td>0.185103</td>\n",
       "      <td>0.109074</td>\n",
       "      <td>0.158833</td>\n",
       "      <td>0.083497</td>\n",
       "      <td>0.010513</td>\n",
       "      <td>0.155293</td>\n",
       "      <td>0.154011</td>\n",
       "    </tr>\n",
       "    <tr>\n",
       "      <th>4460</th>\n",
       "      <td>0.068913</td>\n",
       "      <td>0.150572</td>\n",
       "      <td>0.197232</td>\n",
       "      <td>0.124579</td>\n",
       "      <td>0.131486</td>\n",
       "      <td>0.152534</td>\n",
       "      <td>0.039096</td>\n",
       "      <td>0.135588</td>\n",
       "    </tr>\n",
       "    <tr>\n",
       "      <th>4461</th>\n",
       "      <td>0.098239</td>\n",
       "      <td>0.149066</td>\n",
       "      <td>0.168635</td>\n",
       "      <td>0.086321</td>\n",
       "      <td>0.136863</td>\n",
       "      <td>0.077155</td>\n",
       "      <td>0.121480</td>\n",
       "      <td>0.162241</td>\n",
       "    </tr>\n",
       "    <tr>\n",
       "      <th>4462</th>\n",
       "      <td>0.036345</td>\n",
       "      <td>0.115411</td>\n",
       "      <td>0.302392</td>\n",
       "      <td>0.072757</td>\n",
       "      <td>0.105491</td>\n",
       "      <td>0.183422</td>\n",
       "      <td>0.106307</td>\n",
       "      <td>0.077875</td>\n",
       "    </tr>\n",
       "    <tr>\n",
       "      <th>4463</th>\n",
       "      <td>0.118298</td>\n",
       "      <td>0.093348</td>\n",
       "      <td>0.088412</td>\n",
       "      <td>0.110691</td>\n",
       "      <td>0.129448</td>\n",
       "      <td>0.009582</td>\n",
       "      <td>0.243225</td>\n",
       "      <td>0.206995</td>\n",
       "    </tr>\n",
       "  </tbody>\n",
       "</table>\n",
       "<p>4464 rows × 8 columns</p>\n",
       "</div>"
      ],
      "text/plain": [
       "      antelope_duiker      bird     blank  civet_genet       hog   leopard  \\\n",
       "0            0.048233  0.189185  0.044914     0.199588  0.106118  0.132915   \n",
       "1            0.097078  0.061400  0.026409     0.241530  0.144344  0.051780   \n",
       "2            0.124658  0.089101  0.189225     0.174494  0.180540  0.079995   \n",
       "3            0.109966  0.048397  0.055598     0.323600  0.322356  0.063252   \n",
       "4            0.165742  0.184610  0.005431     0.136806  0.000389  0.122078   \n",
       "...               ...       ...       ...          ...       ...       ...   \n",
       "4459         0.143675  0.185103  0.109074     0.158833  0.083497  0.010513   \n",
       "4460         0.068913  0.150572  0.197232     0.124579  0.131486  0.152534   \n",
       "4461         0.098239  0.149066  0.168635     0.086321  0.136863  0.077155   \n",
       "4462         0.036345  0.115411  0.302392     0.072757  0.105491  0.183422   \n",
       "4463         0.118298  0.093348  0.088412     0.110691  0.129448  0.009582   \n",
       "\n",
       "      monkey_prosimian    rodent  \n",
       "0             0.166410  0.112637  \n",
       "1             0.287811  0.089648  \n",
       "2             0.085672  0.076314  \n",
       "3             0.008160  0.068671  \n",
       "4             0.151521  0.233423  \n",
       "...                ...       ...  \n",
       "4459          0.155293  0.154011  \n",
       "4460          0.039096  0.135588  \n",
       "4461          0.121480  0.162241  \n",
       "4462          0.106307  0.077875  \n",
       "4463          0.243225  0.206995  \n",
       "\n",
       "[4464 rows x 8 columns]"
      ]
     },
     "execution_count": 14,
     "metadata": {},
     "output_type": "execute_result"
    }
   ],
   "source": [
    "test_labels"
   ]
  },
  {
   "cell_type": "code",
   "execution_count": 15,
   "metadata": {},
   "outputs": [],
   "source": [
    "train_images = train_images/255\n",
    "test_images = test_images/255"
   ]
  },
  {
   "cell_type": "code",
   "execution_count": 16,
   "metadata": {},
   "outputs": [
    {
     "ename": "",
     "evalue": "",
     "output_type": "error",
     "traceback": [
      "\u001b[1;31mThe Kernel crashed while executing code in the the current cell or a previous cell. Please review the code in the cell(s) to identify a possible cause of the failure. Click <a href='https://aka.ms/vscodeJupyterKernelCrash'>here</a> for more info. View Jupyter <a href='command:jupyter.viewOutput'>log</a> for further details."
     ]
    },
    {
     "ename": "",
     "evalue": "",
     "output_type": "error",
     "traceback": [
      "\u001b[1;31mCanceled future for execute_request message before replies were done"
     ]
    }
   ],
   "source": [
    "import pickle\n",
    "with open('train_images.pickle', 'wb') as train_imgs:\n",
    "    pickle.dump(train_images, train_imgs)\n",
    "    train_imgs.close()\n",
    "\n",
    "with open('train_sites.pickle', 'wb') as train_st:\n",
    "    pickle.dump(train_sites, train_st)\n",
    "    train_st.close()\n",
    "\n",
    "with open('train_labels.pickle', 'wb') as train_lbls:\n",
    "    pickle.dump(train_labels, train_lbls)\n",
    "    train_lbls.close()\n",
    "\n",
    "with open('test_images.pickle', 'wb') as train_imgs:\n",
    "    pickle.dump(test_images, train_imgs)\n",
    "    train_imgs.close()\n",
    "\n",
    "with open('test_sites.pickle', 'wb') as test_st:\n",
    "    pickle.dump(test_sites, test_st)\n",
    "    test_st.close()\n",
    "\n",
    "with open('test_labels.pickle', 'wb') as test_lbls:\n",
    "    pickle.dump(test_labels, test_lbls)\n",
    "    test_lbls.close()"
   ]
  },
  {
   "cell_type": "code",
   "execution_count": null,
   "metadata": {},
   "outputs": [],
   "source": [
    "def plot_sample(X, y, index):\n",
    "    plt.figure(figsize=(10, 10))\n",
    "    plt.imshow(X[index])\n",
    "    class_index = np.argmax(y.iloc[index, :])\n",
    "    plt.xlabel(classes[class_index])"
   ]
  },
  {
   "cell_type": "code",
   "execution_count": null,
   "metadata": {},
   "outputs": [
    {
     "data": {
      "image/png": "[encoded data removed]",
      "text/plain": [
       "<Figure size 1000x1000 with 1 Axes>"
      ]
     },
     "metadata": {},
     "output_type": "display_data"
    }
   ],
   "source": [
    "plot_sample(train_images, train_labels, 3)"
   ]
  }
 ],
 "metadata": {
  "kernelspec": {
   "display_name": "Python 3.10.8 ('tf')",
   "language": "python",
   "name": "python3"
  },
  "language_info": {
   "codemirror_mode": {
    "name": "ipython",
    "version": 3
   },
   "file_extension": ".py",
   "mimetype": "text/x-python",
   "name": "python",
   "nbconvert_exporter": "python",
   "pygments_lexer": "ipython3",
   "version": "3.10.8"
  },
  "vscode": {
   "interpreter": {
    "hash": "66ec99974a7f573babcaf6b497604ee91debe00853c8a7a9f5b2a617b000066c"
   }
  }
 },
 "nbformat": 4,
 "nbformat_minor": 2
}
